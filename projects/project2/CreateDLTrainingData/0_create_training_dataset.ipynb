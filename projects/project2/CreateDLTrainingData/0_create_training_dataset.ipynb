{
 "cells": [
  {
   "cell_type": "markdown",
   "metadata": {},
   "source": [
    "# Create training Data\n",
    "\n",
    "In this notebook we will create a training dataset by sampling images from a large set of data.\n",
    "\n",
    "This notebook needs to be adapted to the organization of your own data. "
   ]
  },
  {
   "cell_type": "code",
   "execution_count": 15,
   "metadata": {
    "tags": [
     "hide-cell"
    ]
   },
   "outputs": [],
   "source": [
    "#path handling\n",
    "import pathlib\n",
    "\n",
    "#file handling\n",
    "import h5py\n",
    "\n",
    "import numpy as np\n",
    "\n",
    "#out of memory computation\n",
    "from dask_image.imread import imread\n",
    "import dask.array as da\n",
    "\n",
    "import tifffile\n",
    "\n",
    "from glob import glob\n",
    "import os\n",
    "\n",
    "\n",
    "from dask.cache import Cache\n",
    "cache = Cache(2e9)  # Leverage two gigabytes of memory\n",
    "cache.register()    # Turn cache on globally"
   ]
  },
  {
   "cell_type": "code",
   "execution_count": 26,
   "metadata": {},
   "outputs": [
    {
     "name": "stdout",
     "output_type": "stream",
     "text": [
      "['AKS1088', 'AKS1089', 'AKS1090', 'AKS1091', 'AKS1092', 'AKS1093', 'AKS1094', 'AKS1095', 'AKS1096', 'AKS1097', 'AKS1098', 'AKS1099', 'AKS1101', 'AKS1102', 'AKS1103', 'AKS1104', 'AKS1105', 'AKS1106']\n",
      "['20220311_AKS1088-1093_dense_TL01_01_R3D-1.tif', '20220311_AKS1088-1093_dense_TL01_02_R3D-1.tif', '20220311_AKS1088-1093_dense_TL01_03_R3D-1.tif', '20220311_AKS1088-1093_dense_TL01_04_R3D-1.tif', '20220311_AKS1088-1093_dense_TL01_05_R3D-1.tif']\n"
     ]
    }
   ],
   "source": [
    "#Specify folder with experimental data, we assume it contains a bunch of subfolders with each a bunch of tiff stacks.\n",
    "#Each subfolder is assume to be of a different strain/condition\n",
    "\n",
    "#set root dir\n",
    "root = pathlib.Path('/Volumes/RG-UJ01-Data01/Andreas/pQFmcs-D11-scarREF datasets for Simon/CauloMutants_MoviesCropped/')\n",
    "\n",
    "#find subfolders\n",
    "folder_names = [f.name for f in sorted(root.glob('AKS*'))]\n",
    "print(folder_names)\n",
    "\n",
    "#show images in first subfolder\n",
    "im_names = [f.name for f in sorted((root / folder_names[0]).glob('*.tif*'))]\n",
    "print(im_names)\n",
    "\n",
    "#set folder where to store output files\n",
    "process_dir = pathlib.Path('/Users/simonvanvliet/Andreas')"
   ]
  },
  {
   "cell_type": "code",
   "execution_count": 30,
   "metadata": {},
   "outputs": [],
   "source": [
    "#set number of color channels in image\n",
    "n_channel = 3\n",
    "\n",
    "#set the sample interval, in each subfolder we will sample images at this interval (e.g. with sample_int=3 we will sample image 0, 3, 6, etc)\n",
    "#adjust this number to have ~2 images per subfolder\n",
    "sample_int = 3 \n",
    "\n",
    "#we will extract two channels here: phase contrast + fluorescence \n",
    "ch0 = [] # phase contrast channel\n",
    "ch1 = [] # fluorescence channel of constitutive marker\n",
    "\n",
    "for f in folder_names: # loop subfolders\n",
    "    im_names = [i.name for i in sorted((root / f).glob('*.tif*'))]\n",
    "    \n",
    "    for idx, i in enumerate(im_names): #loop images\n",
    "        if idx%sample_int==0:\n",
    "            im_path = root / f / i\n",
    "            im_stack = imread(im_path)\n",
    "            nfr = im_stack.shape[0]/n_channel\n",
    "            \n",
    "            #here we set which frames we sample, adapt to your own images, take frames at start, middle, and end\n",
    "            frames = [0, max(nfr - 31, 0), max(nfr - 21, 0), nfr-11]\n",
    "            \n",
    "            for fr in frames:\n",
    "                ch0_idx = fr*n_channel\n",
    "                ch1_idx = fr*n_channel + 2\n",
    "                ch0.append(np.squeeze(im_stack[ch0_idx,:,:]))\n",
    "                ch1.append(np.squeeze(im_stack[ch1_idx,:,:]))\n",
    "\n",
    "\n",
    "ch0_stack = np.stack(ch0, axis=0)    \n",
    "ch1_stack = np.stack(ch1, axis=0)   \n",
    "mc_stack = np.stack([ch0_stack, ch1_stack], axis=0)                 "
   ]
  },
  {
   "cell_type": "code",
   "execution_count": 31,
   "metadata": {},
   "outputs": [],
   "source": [
    "#store as hdf5\n",
    "outname = process_dir /  'traning_data_excl_last.hdf5'\n",
    "\n",
    "h5f = h5py.File(outname, 'w')\n",
    "h5f.create_dataset('dataset_1', data=mc_stack)\n",
    "h5f.close()"
   ]
  },
  {
   "cell_type": "code",
   "execution_count": 34,
   "metadata": {},
   "outputs": [],
   "source": [
    "#store as tiff\n",
    "ch0n = process_dir / 'ph_training.tif'\n",
    "ch1n = process_dir / 'gfp_training.tif'\n",
    "\n",
    "tifffile.imwrite(ch0n, ch0_stack)\n",
    "tifffile.imwrite(ch1n, ch1_stack)"
   ]
  }
 ],
 "metadata": {
  "celltoolbar": "Tags",
  "interpreter": {
   "hash": "04885f21a4bd9418df205c8169dbf35b8c72791b69b584ac7513023d01d78b79"
  },
  "kernelspec": {
   "display_name": "Python 3.9.12 ('i2i_env')",
   "language": "python",
   "name": "python3"
  },
  "language_info": {
   "codemirror_mode": {
    "name": "ipython",
    "version": 3
   },
   "file_extension": ".py",
   "mimetype": "text/x-python",
   "name": "python",
   "nbconvert_exporter": "python",
   "pygments_lexer": "ipython3",
   "version": "3.9.12"
  }
 },
 "nbformat": 4,
 "nbformat_minor": 4
}
