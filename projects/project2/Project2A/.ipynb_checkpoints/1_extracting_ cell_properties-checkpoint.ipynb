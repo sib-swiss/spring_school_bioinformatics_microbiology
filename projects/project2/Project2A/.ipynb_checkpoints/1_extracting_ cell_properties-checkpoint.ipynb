{
 "cells": [
  {
   "cell_type": "markdown",
   "metadata": {},
   "source": [
    "# Extracting Cell Properties \n",
    "\n",
    "After you have obtained a proper segmentation of cells it is time to extract the properties of the cells, such as there size, location, and fluorescent intensity. We can do this using `skimage.measure.regionprops` and `skimage.measure.regionprops_table`. These funcytions extract measurements include features such as area or volume, bounding boxes, and intensity statistics."
   ]
  },
  {
   "cell_type": "markdown",
   "metadata": {},
   "source": [
    "---\n",
    "\n",
    "## Import packages\n",
    "\n",
    "Before starting the code we need to import all the required packages.\n",
    "\n",
    "We use a number of important Python packages:\n",
    "- [Numpy](https://numpy.org): Goto package for vector/matrix based calculations (heavily inspired by Matlab)\n",
    "- [Pandas](https://pandas.pydata.org): Goto package for handling data tables (heavily inspired by R) \n",
    "- [Scikit-image (skimage)](https://scikit-image.org): Goto package for image analysis\n",
    "- [Matplotlib](https://matplotlib.org): Goto package for plotting data\n",
    "- [Dask-Image](https://image.dask.org/en/latest/): Out-of-memory computation made easy\n",
    "- [pathlib](https://docs.python.org/3/library/pathlib.html): Path handling made easy\n",
    "- [h5py](https://www.h5py.org): Read HDF5 file format"
   ]
  },
  {
   "cell_type": "code",
   "execution_count": null,
   "metadata": {
    "tags": [
     "hide-cell"
    ]
   },
   "outputs": [],
   "source": [
    "#next two lines make sure that Matplotlib plots are shown properly in Jupyter Notebook\n",
    "%matplotlib inline\n",
    "%config InlineBackend.figure_format = 'retina'\n",
    "\n",
    "#main data analysis packages\n",
    "import numpy as np\n",
    "import pandas as pd\n",
    "\n",
    "#image processing packages\n",
    "from skimage.measure import regionprops, regionprops_table\n",
    "\n",
    "#data plotting packages\n",
    "import matplotlib\n",
    "import matplotlib.pyplot as plt\n",
    "#set default figure size\n",
    "matplotlib.rc(\"figure\", figsize=(10,5))\n",
    "\n",
    "#out of memory computation\n",
    "from dask_image.imread import imread\n",
    "import dask.array as da\n",
    "\n",
    "#path handling\n",
    "import pathlib\n",
    "\n",
    "#file handling\n",
    "import h5py"
   ]
  },
  {
   "cell_type": "code",
   "execution_count": null,
   "metadata": {},
   "outputs": [],
   "source": [
    "#we initiate a cashe for Dask to speed up repeated computation (important for working with Napari)\n",
    "from dask.cache import Cache\n",
    "cache = Cache(2e9)  # Leverage two gigabytes of memory\n",
    "cache.register()    # Turn cache on globally"
   ]
  },
  {
   "cell_type": "markdown",
   "metadata": {},
   "source": [
    "---\n",
    "## Import Data\n",
    "We start by specifying the paths to our data"
   ]
  },
  {
   "cell_type": "code",
   "execution_count": null,
   "metadata": {},
   "outputs": [],
   "source": [
    "#Set the path to the folder that contains project data\n",
    "root = pathlib.Path(pathlib.Path.home(), \n",
    "                    'I2ICourse/Project2A/ProcessedData/')\n",
    "\n",
    "image_name = 'pos0_preproc-rg.tif' #set name of image\n",
    "n_channel = 2 #set number of color channels in image\n",
    "\n",
    "im_path = root / image_name \n",
    "seg_path = root /  image_name.replace('.tif','_label_im.hdf5')"
   ]
  },
  {
   "cell_type": "markdown",
   "metadata": {},
   "source": [
    "We now load the image and the segmentation data we created in the previous notebook."
   ]
  },
  {
   "cell_type": "code",
   "execution_count": null,
   "metadata": {},
   "outputs": [],
   "source": [
    "#load image with dask-image for out of memory processing \n",
    "im_stack = imread(im_path) \n",
    "# dask_image imread creates a 3D stack, where both color channels are interweaved\n",
    "# to separate them we need to reshape to 4D stack\n",
    "if n_channel>1: \n",
    "    newshape = (int(im_stack.shape[0]/n_channel), n_channel, *im_stack.shape[1:])\n",
    "    im_stack = im_stack.reshape(newshape)\n",
    "\n",
    "#load segdata with daskfor out of memory processing \n",
    "label_data_file = h5py.File(seg_path, 'r') #open file\n",
    "label_stack = da.from_array(label_data_file['labels_final'], chunks=(1,-1,-1)) #create dask array"
   ]
  },
  {
   "cell_type": "markdown",
   "metadata": {},
   "source": [
    "---\n",
    "## Using Regionprops to extract cell properties for single time-point\n",
    "`skimage.measure.regionprops` automatically measures many labeled image features. Optionally, an `intensity_image` can be supplied and intensity features are extracted per object. Note that color axis needs to be at the end!\n",
    "\n",
    "We demonstrate it's usage here by analyzing the first frame."
   ]
  },
  {
   "cell_type": "code",
   "execution_count": null,
   "metadata": {},
   "outputs": [],
   "source": [
    "#extract first frame\n",
    "label_im = label_stack[0,:,:]\n",
    "image = im_stack[0,:,:]\n",
    "\n",
    "#region props need color channel to be at end\n",
    "image = np.moveaxis(image, 0, -1)\n",
    "#we add the .compute() to instruct Dask to do all the calculations at this stage\n",
    "reg_props = regionprops(label_im.compute(), intensity_image=image.compute())\n",
    "    \n",
    "print(len(reg_props))\n",
    "reg_props[0] "
   ]
  },
  {
   "cell_type": "markdown",
   "metadata": {},
   "source": [
    "`reg_props` is a list containing the region properties of all cells present at this time. A list of all propertied can be found in the [scikit-image documentation](https://scikit-image.org/docs/dev/api/skimage.measure.html?highlight=regionprops#skimage.measure.regionprops).\n",
    "\n",
    "We can thus extract a property using `rep_props[c].[property_name]`, where `c` indicates the cell label nr.  \n",
    "\n",
    "We can for example extract the mean intensity of the cell:"
   ]
  },
  {
   "cell_type": "code",
   "execution_count": null,
   "metadata": {},
   "outputs": [],
   "source": [
    "print('cell mean intensity = ', reg_props[0].intensity_mean)"
   ]
  },
  {
   "cell_type": "markdown",
   "metadata": {},
   "source": [
    "But we can also extract more complex info, such as the cell mask:"
   ]
  },
  {
   "cell_type": "code",
   "execution_count": null,
   "metadata": {},
   "outputs": [],
   "source": [
    "fig, axs = plt.subplots(figsize=(10,5))\n",
    "axs.imshow(reg_props[0].image)"
   ]
  },
  {
   "cell_type": "markdown",
   "metadata": {},
   "source": [
    "*(Technical aside: scikit-image 0.18 adds support for [passing custom functions](https://scikit-image.org/docs/dev/api/skimage.measure.html#skimage.measure.regionprops) for region properties as `extra_properties`.)*"
   ]
  },
  {
   "cell_type": "markdown",
   "metadata": {},
   "source": [
    "---\n",
    "\n",
    "## Using regionprops_table to extract cell measurements for single time-point\n",
    "\n",
    "`regionprops` returns a huge amount of info, but navigating it is a bit cumbersome.  \n",
    "Instead you can use [`regionprops_table`](https://scikit-image.org/docs/dev/api/skimage.measure.html?highlight=regionprops#skimage.measure.regionprops). It work in the same way, however, you will have to specify which properties you want to extract.\n",
    "\n",
    "Here we will first look at a single frame:"
   ]
  },
  {
   "cell_type": "code",
   "execution_count": null,
   "metadata": {},
   "outputs": [],
   "source": [
    "\n",
    "#extract first frame\n",
    "label_im = label_stack[0,:,:]\n",
    "image = im_stack[0,:,:]\n",
    "#region props need color channel to be at end\n",
    "image = np.moveaxis(image, 0, -1)\n",
    "\n",
    "#specify properties to extract \n",
    "prop_list = ['label', \n",
    "            'area', 'centroid', \n",
    "            'axis_major_length', 'axis_minor_length',\n",
    "            'mean_intensity'] \n",
    "\n",
    "#get region prop table \n",
    "#we add the .compute() to instruct Dask to do all the calculations at this stage\n",
    "rp_table = regionprops_table(label_im.compute(), intensity_image=image.compute(), properties=prop_list) "
   ]
  },
  {
   "cell_type": "markdown",
   "metadata": {},
   "source": [
    "### Create Pandas Dataframe for single time point\n",
    "The output of the `regionprops_table` function can easily be converted in a [Pandas dataframe](https://pandas.pydata.org/pandas-docs/stable/user_guide/dsintro.html), using the [`DataFrame`](https://pandas.pydata.org/docs/user_guide/dsintro.html#dataframe) function. \n",
    "\n",
    "Pandas dataframes and R dataframes share a lot of features so if you are familiar with R you should hopefully feel right at home. For those coming from Matlab/Numpy it might take some time to get used to the Pandas syntax. Luckily there are very detailed guides available online, starting with the [Pandas Homepage](https://pandas.pydata.org).\n",
    "\n",
    "We now convert the region properties table to a Pandas dataframe:"
   ]
  },
  {
   "cell_type": "code",
   "execution_count": null,
   "metadata": {},
   "outputs": [],
   "source": [
    "info_table = pd.DataFrame(rp_table).set_index('label')"
   ]
  },
  {
   "cell_type": "markdown",
   "metadata": {},
   "source": [
    "With `head()` we can have a look at the Pandas data frame:"
   ]
  },
  {
   "cell_type": "code",
   "execution_count": null,
   "metadata": {},
   "outputs": [],
   "source": [
    "info_table.head()"
   ]
  },
  {
   "cell_type": "markdown",
   "metadata": {},
   "source": [
    "---"
   ]
  },
  {
   "cell_type": "markdown",
   "metadata": {},
   "source": [
    "## Extract cell properties for all time-points\n",
    "\n",
    "So far we only analyzed a single frame, now let's combine them all. To do this it is helpful to define a function that processes a single time point:"
   ]
  },
  {
   "cell_type": "code",
   "execution_count": null,
   "metadata": {},
   "outputs": [],
   "source": [
    "#function to process single frame  \n",
    "def extract_prop_slice(t, label_im, image, prop_list):\n",
    "    #region props need color channel to be at end\n",
    "    image = np.moveaxis(image, 0, -1)\n",
    "    \n",
    "    #get region prop table\n",
    "    rp_table = regionprops_table(label_im.compute(), intensity_image=image.compute(), properties=prop_list) \n",
    "    df = pd.DataFrame(rp_table)\n",
    "    \n",
    "    #add the time index\n",
    "    df[\"frame\"] = t\n",
    "    \n",
    "    return df"
   ]
  },
  {
   "cell_type": "markdown",
   "metadata": {},
   "source": [
    "We now loop over all time points calling the function we defined above and use `pandas.concat` to combine all the frames into a single data frame."
   ]
  },
  {
   "cell_type": "code",
   "execution_count": null,
   "metadata": {},
   "outputs": [],
   "source": [
    "#specify properties to extract \n",
    "prop_list = ['label', \n",
    "            'area', 'centroid', \n",
    "            'axis_major_length', 'axis_minor_length',\n",
    "            'mean_intensity'] \n",
    "\n",
    "#loop over all frames\n",
    "df_list = [extract_prop_slice(t, label, image, prop_list) for t, (label, image) in enumerate(zip(label_stack, im_stack))]\n",
    "\n",
    "#combine into single dataframe\n",
    "info_table_all = pd.concat(df_list)"
   ]
  },
  {
   "cell_type": "code",
   "execution_count": null,
   "metadata": {},
   "outputs": [],
   "source": [
    "#show start of dataframe\n",
    "info_table_all.head()"
   ]
  },
  {
   "cell_type": "code",
   "execution_count": null,
   "metadata": {},
   "outputs": [],
   "source": [
    "#show end of dataframe\n",
    "info_table_all.tail()"
   ]
  },
  {
   "cell_type": "markdown",
   "metadata": {},
   "source": [
    "*Technical aside: Python has some nice tools which allows you to write a full for loop in a single line:*\n",
    "\n",
    "*`df_list = [extract_prop_slice(t, label, image, prop_list) for t, (label, image) in enumerate(zip(labels_final, im_stack))]`*\n",
    "\n",
    "*In this code `for t, (label, image) in enumerate(zip(labels_final, im_stack))` will iterate simultaneously through the frames contained in `labels_final` and `im_stack` (`zip` takes care of this) and in addition it will provide the index of the iteration (`enumerate` takes care of this). These values are then passed on to the `extract_prop_slice()` function. By placing everything between square brackets in is returned as a list* \n",
    "\n",
    "*[Here](https://www.w3schools.com/python/python_lists_comprehension.asp) you can find more details of this so called list comprehension.* "
   ]
  },
  {
   "cell_type": "markdown",
   "metadata": {},
   "source": [
    "---\n",
    "\n",
    "## Saving and loading Pandas dataframes\n",
    "\n",
    "### Storing dataframe\n",
    "We can store the dataframe to HDD in e.g. `.pkl` or `.csv` format. [See here](https://pandas.pydata.org/docs/user_guide/io.html) for all supported formats."
   ]
  },
  {
   "cell_type": "code",
   "execution_count": null,
   "metadata": {},
   "outputs": [],
   "source": [
    "data_name_pkl = root /  image_name.replace('.tif','_cellprop.pkl')\n",
    "info_table_all.to_pickle(data_name_pkl)\n",
    "\n",
    "data_name_csv = root /  image_name.replace('.tif','_cellprop.csv')\n",
    "info_table_all.to_csv(data_name_csv)"
   ]
  },
  {
   "cell_type": "markdown",
   "metadata": {},
   "source": [
    "### Loading dataframe\n",
    "And we can load it again. [See here](https://pandas.pydata.org/docs/user_guide/io.html) for all supported formats."
   ]
  },
  {
   "cell_type": "code",
   "execution_count": null,
   "metadata": {},
   "outputs": [],
   "source": [
    "info_table_loaded = pd.read_pickle(data_name_pkl)\n",
    "info_table_loaded.head()"
   ]
  },
  {
   "cell_type": "markdown",
   "metadata": {},
   "source": [
    "---\n",
    "## Next step: Data Analysis Using Pandas\n",
    "\n",
    "We will continue in the next notebook: `2_explore_data_with_pandas`, however, **before starting the Tutors will give you a brief intro**, please let them know your are ready for the next step!"
   ]
  }
 ],
 "metadata": {
  "celltoolbar": "Tags",
  "kernelspec": {
   "display_name": "Python 3 (ipykernel)",
   "language": "python",
   "name": "python3"
  },
  "language_info": {
   "codemirror_mode": {
    "name": "ipython",
    "version": 3
   },
   "file_extension": ".py",
   "mimetype": "text/x-python",
   "name": "python",
   "nbconvert_exporter": "python",
   "pygments_lexer": "ipython3",
   "version": "3.9.12"
  }
 },
 "nbformat": 4,
 "nbformat_minor": 4
}
