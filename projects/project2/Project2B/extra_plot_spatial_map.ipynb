{
 "cells": [
  {
   "cell_type": "markdown",
   "metadata": {},
   "source": [
    "# Plot spatial properties\n",
    "\n",
    "In this notebook we provide code to show the spatial distribution of extracted properties of cells using Napri"
   ]
  },
  {
   "cell_type": "code",
   "execution_count": 1,
   "metadata": {},
   "outputs": [],
   "source": [
    "%matplotlib inline\n",
    "%config InlineBackend.figure_format = 'retina'\n",
    "%gui qt\n",
    "\n",
    "import numpy as np\n",
    "import pandas as pd\n",
    "\n",
    "import matplotlib\n",
    "import matplotlib.pyplot as plt\n",
    "import matplotlib.cm as cm\n",
    "matplotlib.rc(\"figure\", figsize=(10,5))\n",
    "\n",
    "import seaborn as sns\n",
    "\n",
    "import pathlib\n",
    "\n",
    "import delta\n",
    "import napari\n"
   ]
  },
  {
   "cell_type": "markdown",
   "metadata": {},
   "source": [
    "## Set paths\n",
    "\n",
    "Set the paths to the position file and dataframe generated in notebooks 1 and 2"
   ]
  },
  {
   "cell_type": "code",
   "execution_count": 2,
   "metadata": {},
   "outputs": [],
   "source": [
    "proj_dir = pathlib.Path(pathlib.Path.home(), 'I2ICourse', 'Project2B')\n",
    "pos_file = proj_dir / 'ProcessedData' / 'Position000000.pkl'\n",
    "df_file = proj_dir / 'ProcessedData' / 'Position000000_dataframe.csv'\n"
   ]
  },
  {
   "cell_type": "markdown",
   "metadata": {},
   "source": [
    "## Define function\n",
    "\n",
    "Below we define the function to create a spatial map of a property of choice"
   ]
  },
  {
   "cell_type": "code",
   "execution_count": 3,
   "metadata": {},
   "outputs": [],
   "source": [
    "def plot_spatial_map(pos, df, property, frame=-1):\n",
    "   #pos: delta position object\n",
    "   #df: pandas data frame of Delta output\n",
    "   #property: key of cell property contained in lineage object\n",
    "   #frame: frame to show, if not specified last one is chosen\n",
    "   \n",
    "   #create color map where Nan is shown as black  \n",
    "   colMap = cm.get_cmap(\"viridis\").copy()\n",
    "   colMap.set_bad(color='black')\n",
    "   \n",
    "   #get frame\n",
    "   frame = len(pos.rois[0].label_stack)-1 if frame==-1 else frame\n",
    "\n",
    "   # get label image:\n",
    "   labels = pos.rois[0].label_stack[frame]\n",
    "   spatial_map = np.full(labels.shape, np.nan)\n",
    "   \n",
    "   # Go over cells in selected frame:\n",
    "   for cnb in np.unique(labels):\n",
    "      if cnb==0: continue\n",
    "      #assign cells mask area the phenotype of choice\n",
    "      spatial_map[labels==cnb] = df.loc[(df['frames']==frame) & (df['id_seg']==cnb-1),property].item()\n",
    "   \n",
    "   return spatial_map"
   ]
  },
  {
   "cell_type": "markdown",
   "metadata": {},
   "source": [
    "## Load Data\n",
    "We load the data from the last notebook;"
   ]
  },
  {
   "cell_type": "code",
   "execution_count": 4,
   "metadata": {},
   "outputs": [],
   "source": [
    "#postion object\n",
    "pos = delta.pipeline.Position(None,None,None)\n",
    "pos.load(pos_file)\n",
    "df = pd.read_csv(df_file)\n",
    "\n",
    "labels = pos.rois[0].label_stack\n",
    "imstack = np.stack(pos.rois[0].img_stack, axis=0) #load image data from position file\n",
    "labelstack = np.stack(labels, axis=0) #load label data from position file\n"
   ]
  },
  {
   "cell_type": "markdown",
   "metadata": {},
   "source": [
    "## Plot data\n",
    "\n",
    "you can set `property_to_show` to any column name in the dataframe"
   ]
  },
  {
   "cell_type": "code",
   "execution_count": 5,
   "metadata": {},
   "outputs": [],
   "source": [
    "property_to_show = 'id_colony'\n",
    "#loop over all frames\n",
    "props = [plot_spatial_map(pos, df, property_to_show, frame=fr) for fr in range(len(labels))]\n",
    "propstack = np.stack(props) #load label data from position file"
   ]
  },
  {
   "cell_type": "markdown",
   "metadata": {},
   "source": [
    "Now we create a Napari window adding the property to show"
   ]
  },
  {
   "cell_type": "code",
   "execution_count": 6,
   "metadata": {},
   "outputs": [],
   "source": [
    "viewer = napari.view_image(imstack)\n",
    "viewer.add_labels(labelstack)\n",
    "viewer.add_image(propstack)\n",
    "viewer.show()"
   ]
  }
 ],
 "metadata": {
  "kernelspec": {
   "display_name": "Python 3.9.13 ('i2i_env')",
   "language": "python",
   "name": "python3"
  },
  "language_info": {
   "codemirror_mode": {
    "name": "ipython",
    "version": 3
   },
   "file_extension": ".py",
   "mimetype": "text/x-python",
   "name": "python",
   "nbconvert_exporter": "python",
   "pygments_lexer": "ipython3",
   "version": "3.9.13"
  },
  "vscode": {
   "interpreter": {
    "hash": "7c6538b57b9d95695cc8c88818812a736980da96b6d92e389fbfaae31437292d"
   }
  }
 },
 "nbformat": 4,
 "nbformat_minor": 4
}
