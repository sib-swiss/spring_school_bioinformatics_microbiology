{
 "cells": [
  {
   "cell_type": "markdown",
   "metadata": {},
   "source": [
    "# Download Model and Data\n",
    "\n",
    "Here we will use the Delta2 package to segment and track timelapse data of microcolonies using a deep learning based workflow.  \n",
    "You can find extensive documentation on Delta [here](https://delta.readthedocs.io).\n",
    "\n",
    "Delta comes with a pre-trained model (i.e. network) that we can use as a first step.  \n",
    "Here we download this model using `delta` build in methods. \n",
    "\n",
    "We also will download the data we will analyze in the next steps."
   ]
  },
  {
   "cell_type": "code",
   "execution_count": 1,
   "metadata": {},
   "outputs": [],
   "source": [
    "#import packages\n",
    "import pathlib\n",
    "import delta"
   ]
  },
  {
   "cell_type": "markdown",
   "metadata": {},
   "source": [
    "---"
   ]
  },
  {
   "cell_type": "markdown",
   "metadata": {},
   "source": [
    "## Setup Folders\n",
    "Now we set path to where we will store the  data, and create the relevant sub-folders.  \n",
    "For this we use [`pathlibs.mkdir`](https://docs.python.org/3/library/pathlib.html#methods-and-properties) command."
   ]
  },
  {
   "cell_type": "code",
   "execution_count": 2,
   "metadata": {},
   "outputs": [],
   "source": [
    "root = pathlib.Path(pathlib.Path.home(), 'I2ICourse/')\n",
    "proj_dir = (root / 'Project2B')\n",
    "data_dir = proj_dir / 'RawData'\n",
    "model_dir = proj_dir / 'models'\n",
    "\n",
    "#make folders\n",
    "data_dir.mkdir(exist_ok=True)\n",
    "model_dir.mkdir(exist_ok=True)"
   ]
  },
  {
   "cell_type": "markdown",
   "metadata": {},
   "source": [
    "We can check if the folder are created by running ls in the command line.  \n",
    "\n",
    "Note: you can run command line commands directly from within Jupyter Labs by placing a `!` in front of the line.  \n",
    "You can pass variables from Python to the command line by adding a `$` before the variable name."
   ]
  },
  {
   "cell_type": "code",
   "execution_count": 3,
   "metadata": {},
   "outputs": [
    {
     "name": "stdout",
     "output_type": "stream",
     "text": [
      "folders in project dir:\n",
      "2B.ilp                                config_2D.json\n",
      "\u001b[34mProcessedData\u001b[m\u001b[m                         config_2D_local.json\n",
      "\u001b[34mRawData\u001b[m\u001b[m                               config_mothermachine.json\n",
      "RawDataStack.tif                      \u001b[34mmodels\u001b[m\u001b[m\n",
      "RawDataStack.xml                      tracks.xml\n",
      "RawDataStack_Simple Segmentation.tiff\n"
     ]
    }
   ],
   "source": [
    "print('folders in project dir:')\n",
    "!ls $proj_dir"
   ]
  },
  {
   "cell_type": "markdown",
   "metadata": {},
   "source": [
    "---"
   ]
  },
  {
   "cell_type": "markdown",
   "metadata": {},
   "source": [
    "## Download Model\n",
    "\n",
    "Now we can download the pre-trained model using [`delta.assets.download_assets`](https://delta.readthedocs.io/en/latest/usage/assets_desc.html)."
   ]
  },
  {
   "cell_type": "markdown",
   "metadata": {},
   "source": [
    "*Technical note: `delta` needs paths specified as strings, we thus need to convert a `PosixPath` object (the format in which `pathlib` stores paths) to a string by calling the `.resolve()` method and concerting to string using `str()`.  \n",
    "We can make a quick function to do this:*"
   ]
  },
  {
   "cell_type": "code",
   "execution_count": 4,
   "metadata": {},
   "outputs": [],
   "source": [
    "def to_str(posixpath):\n",
    "    return str(posixpath.resolve())    "
   ]
  },
  {
   "cell_type": "code",
   "execution_count": 4,
   "metadata": {},
   "outputs": [
    {
     "ename": "NameError",
     "evalue": "name 'delta' is not defined",
     "output_type": "error",
     "traceback": [
      "\u001b[0;31m---------------------------------------------------------------------------\u001b[0m",
      "\u001b[0;31mNameError\u001b[0m                                 Traceback (most recent call last)",
      "Input \u001b[0;32mIn [4]\u001b[0m, in \u001b[0;36m<cell line: 1>\u001b[0;34m()\u001b[0m\n\u001b[0;32m----> 1\u001b[0m \u001b[43mdelta\u001b[49m\u001b[38;5;241m.\u001b[39massets\u001b[38;5;241m.\u001b[39mdownload_assets(\n\u001b[1;32m      2\u001b[0m     load_models\u001b[38;5;241m=\u001b[39mto_str(model_dir),\n\u001b[1;32m      3\u001b[0m     load_sets\u001b[38;5;241m=\u001b[39m\u001b[38;5;28;01mFalse\u001b[39;00m,\n\u001b[1;32m      4\u001b[0m     load_evals\u001b[38;5;241m=\u001b[39m\u001b[38;5;28;01mFalse\u001b[39;00m,\n\u001b[1;32m      5\u001b[0m     config_level\u001b[38;5;241m=\u001b[39mto_str(proj_dir)\n\u001b[1;32m      6\u001b[0m )\n",
      "\u001b[0;31mNameError\u001b[0m: name 'delta' is not defined"
     ]
    }
   ],
   "source": [
    "delta.assets.download_assets(\n",
    "    load_models=to_str(model_dir),\n",
    "    load_sets=False,\n",
    "    load_evals=False,\n",
    "    config_level=to_str(proj_dir)\n",
    ")"
   ]
  },
  {
   "cell_type": "markdown",
   "metadata": {},
   "source": [
    "Delta comes with a number of different pre-trained network:"
   ]
  },
  {
   "cell_type": "code",
   "execution_count": 5,
   "metadata": {},
   "outputs": [
    {
     "name": "stdout",
     "output_type": "stream",
     "text": [
      "unet_moma_seg.hdf5         unet_pads_seg.hdf5\n",
      "unet_moma_track.hdf5       unet_pads_track.hdf5\n",
      "unet_momachambers_seg.hdf5\n"
     ]
    }
   ],
   "source": [
    "model_dir = proj_dir / 'models'\n",
    "!ls $model_dir"
   ]
  },
  {
   "cell_type": "markdown",
   "metadata": {},
   "source": [
    "There are models for 1D mother machine data (called `moma`) and for 2D microcolony data (called `pads`). For each data type there are two models: one for segmentation and one for tracking."
   ]
  },
  {
   "cell_type": "markdown",
   "metadata": {},
   "source": [
    "---"
   ]
  },
  {
   "cell_type": "markdown",
   "metadata": {},
   "source": [
    "## Download Data\n",
    "We download the data using wget via the command line:"
   ]
  },
  {
   "cell_type": "markdown",
   "metadata": {},
   "source": [
    "*Technical note: by putting the bash commands between () we run them in a [subshell](https://bash.cyberciti.biz/guide/What_is_a_Subshell%3F), the advantage is that when we use `cd` it only changes the folder in the subshell, but not in the main shell in which this jupyter notebook runs.*"
   ]
  },
  {
   "cell_type": "code",
   "execution_count": 8,
   "metadata": {},
   "outputs": [
    {
     "name": "stdout",
     "output_type": "stream",
     "text": [
      "  % Total    % Received % Xferd  Average Speed   Time    Time     Time  Current\n",
      "                                 Dload  Upload   Total   Spent    Left  Speed\n",
      "100 57.2M  100 57.2M    0     0  2379k      0  0:00:24  0:00:23  0:00:01 3522k:56 1144k    0  0:00:24  0:00:24 --:--:-- 3293k\n",
      "replace Pos001_Frm049_Ch02.tif? [y]es, [n]o, [A]ll, [N]one, [r]ename: "
     ]
    }
   ],
   "source": [
    "!(cd $data_dir && curl -o RawData.zip https://drive.switch.ch/index.php/s/9kiP6M4uFBNFdbV/download)\n",
    "!(cd $data_dir && unzip -q -j RawData.zip)"
   ]
  },
  {
   "cell_type": "markdown",
   "metadata": {},
   "source": [
    "We can check the folder contents, if everything worked, it should create a number of tif files:"
   ]
  },
  {
   "cell_type": "code",
   "execution_count": null,
   "metadata": {},
   "outputs": [],
   "source": [
    "data_dir = proj_dir / 'RawData'\n",
    "!ls $data_dir"
   ]
  },
  {
   "cell_type": "markdown",
   "metadata": {},
   "source": [
    "Now let's remove the zip file:"
   ]
  },
  {
   "cell_type": "code",
   "execution_count": null,
   "metadata": {},
   "outputs": [],
   "source": [
    "data_file = data_dir / 'RawData.zip'\n",
    "!rm $data_file"
   ]
  },
  {
   "cell_type": "markdown",
   "metadata": {},
   "source": [
    "Within the project folder, you should now have a `model` and `RawData` subfolder, as well as two `config` files. Let's check:"
   ]
  },
  {
   "cell_type": "code",
   "execution_count": null,
   "metadata": {},
   "outputs": [],
   "source": [
    "!ls $proj_dir"
   ]
  },
  {
   "cell_type": "markdown",
   "metadata": {},
   "source": [
    "---"
   ]
  },
  {
   "cell_type": "markdown",
   "metadata": {},
   "source": [
    "## Next Step: Run delta pipeline\n",
    "\n",
    "Continue to Notebook `1_run_pipeline_delta`"
   ]
  }
 ],
 "metadata": {
  "interpreter": {
   "hash": "04885f21a4bd9418df205c8169dbf35b8c72791b69b584ac7513023d01d78b79"
  },
  "kernelspec": {
   "display_name": "Python 3 (ipykernel)",
   "language": "python",
   "name": "python3"
  },
  "language_info": {
   "codemirror_mode": {
    "name": "ipython",
    "version": 3
   },
   "file_extension": ".py",
   "mimetype": "text/x-python",
   "name": "python",
   "nbconvert_exporter": "python",
   "pygments_lexer": "ipython3",
   "version": "3.9.12"
  }
 },
 "nbformat": 4,
 "nbformat_minor": 4
}
