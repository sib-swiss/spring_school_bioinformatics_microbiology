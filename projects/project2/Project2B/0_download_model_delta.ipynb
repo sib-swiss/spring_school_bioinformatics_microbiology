{
 "cells": [
  {
   "cell_type": "markdown",
   "metadata": {},
   "source": [
    "# Download Model and Data\n",
    "\n",
    "Here we will use the Delta2 package to segment and track timelapse data of microcolonies using a deep learning based workflow.  \n",
    "You can find extensive documentation on Delta [here](https://delta.readthedocs.io).\n",
    "\n",
    "Delta comes with a pre-trained model (i.e. network) that we can use as a first step.  \n",
    "Here we download this model using `delta` build in methods. \n",
    "\n",
    "We also will download the data we will analyze in the next steps."
   ]
  },
  {
   "cell_type": "code",
   "execution_count": 3,
   "metadata": {},
   "outputs": [],
   "source": [
    "#import packages\n",
    "import pathlib\n",
    "import delta"
   ]
  },
  {
   "cell_type": "markdown",
   "metadata": {},
   "source": [
    "---"
   ]
  },
  {
   "cell_type": "markdown",
   "metadata": {},
   "source": [
    "## Setup Folders\n",
    "Now we set path to where we will store the  data, and create the relevant sub-folders.  \n",
    "For this we use [`pathlibs.mkdir`](https://docs.python.org/3/library/pathlib.html#methods-and-properties) command."
   ]
  },
  {
   "cell_type": "code",
   "execution_count": 4,
   "metadata": {},
   "outputs": [],
   "source": [
    "root = pathlib.Path(pathlib.Path.home(), 'I2ICourse/')\n",
    "proj_dir = (root / 'Project2B')\n",
    "data_dir = proj_dir / 'RawData'\n",
    "model_dir = proj_dir / 'models'\n",
    "\n",
    "#make folders\n",
    "data_dir.mkdir(exist_ok=True)\n",
    "model_dir.mkdir(exist_ok=True)"
   ]
  },
  {
   "cell_type": "markdown",
   "metadata": {},
   "source": [
    "We can check if the folder are created by running ls in the command line.  \n",
    "\n",
    "Note: you can run command line commands directly from within Jupyter Labs by placing a `!` in front of the line.  \n",
    "You can pass variables from Python to the command line by adding a `$` before the variable name."
   ]
  },
  {
   "cell_type": "code",
   "execution_count": 5,
   "metadata": {},
   "outputs": [
    {
     "name": "stdout",
     "output_type": "stream",
     "text": [
      "folders in project dir:\n",
      "\u001b[34mProcessedData\u001b[m\u001b[m        config_2D.json       \u001b[34mmodels\u001b[m\u001b[m\n",
      "\u001b[34mRawData\u001b[m\u001b[m              config_2D_local.json\n"
     ]
    }
   ],
   "source": [
    "print('folders in project dir:')\n",
    "!ls $proj_dir"
   ]
  },
  {
   "cell_type": "markdown",
   "metadata": {},
   "source": [
    "---"
   ]
  },
  {
   "cell_type": "markdown",
   "metadata": {},
   "source": [
    "## Download Model\n",
    "\n",
    "Now we can download the pre-trained model using [`delta.assets.download_assets`](https://delta.readthedocs.io/en/latest/usage/assets_desc.html)."
   ]
  },
  {
   "cell_type": "markdown",
   "metadata": {},
   "source": [
    "*Technical note: `delta` needs paths specified as strings, we thus need to convert a `PosixPath` object (the format in which `pathlib` stores paths) to a string by calling the `.resolve()` method and concerting to string using `str()`.  \n",
    "We can make a quick function to do this:*"
   ]
  },
  {
   "cell_type": "code",
   "execution_count": 6,
   "metadata": {},
   "outputs": [],
   "source": [
    "def to_str(posixpath):\n",
    "    return str(posixpath.resolve())    "
   ]
  },
  {
   "cell_type": "code",
   "execution_count": 4,
   "metadata": {},
   "outputs": [
    {
     "ename": "NameError",
     "evalue": "name 'delta' is not defined",
     "output_type": "error",
     "traceback": [
      "\u001b[0;31m---------------------------------------------------------------------------\u001b[0m",
      "\u001b[0;31mNameError\u001b[0m                                 Traceback (most recent call last)",
      "Input \u001b[0;32mIn [4]\u001b[0m, in \u001b[0;36m<cell line: 1>\u001b[0;34m()\u001b[0m\n\u001b[0;32m----> 1\u001b[0m \u001b[43mdelta\u001b[49m\u001b[38;5;241m.\u001b[39massets\u001b[38;5;241m.\u001b[39mdownload_assets(\n\u001b[1;32m      2\u001b[0m     load_models\u001b[38;5;241m=\u001b[39mto_str(model_dir),\n\u001b[1;32m      3\u001b[0m     load_sets\u001b[38;5;241m=\u001b[39m\u001b[38;5;28;01mFalse\u001b[39;00m,\n\u001b[1;32m      4\u001b[0m     load_evals\u001b[38;5;241m=\u001b[39m\u001b[38;5;28;01mFalse\u001b[39;00m,\n\u001b[1;32m      5\u001b[0m     config_level\u001b[38;5;241m=\u001b[39mto_str(proj_dir)\n\u001b[1;32m      6\u001b[0m )\n",
      "\u001b[0;31mNameError\u001b[0m: name 'delta' is not defined"
     ]
    }
   ],
   "source": [
    "delta.assets.download_assets(\n",
    "    load_models=to_str(model_dir),\n",
    "    load_sets=False,\n",
    "    load_evals=False,\n",
    "    config_level=to_str(proj_dir)\n",
    ")"
   ]
  },
  {
   "cell_type": "markdown",
   "metadata": {},
   "source": [
    "Delta comes with a number of different pre-trained network:"
   ]
  },
  {
   "cell_type": "code",
   "execution_count": 5,
   "metadata": {},
   "outputs": [
    {
     "name": "stdout",
     "output_type": "stream",
     "text": [
      "unet_moma_seg.hdf5         unet_pads_seg.hdf5\n",
      "unet_moma_track.hdf5       unet_pads_track.hdf5\n",
      "unet_momachambers_seg.hdf5\n"
     ]
    }
   ],
   "source": [
    "model_dir = proj_dir / 'models'\n",
    "!ls $model_dir"
   ]
  },
  {
   "cell_type": "markdown",
   "metadata": {},
   "source": [
    "There are models for 1D mother machine data (called `moma`) and for 2D microcolony data (called `pads`). For each data type there are two models: one for segmentation and one for tracking."
   ]
  },
  {
   "cell_type": "markdown",
   "metadata": {},
   "source": [
    "---"
   ]
  },
  {
   "cell_type": "markdown",
   "metadata": {},
   "source": [
    "## Download Data\n",
    "We download the data using wget via the command line:"
   ]
  },
  {
   "cell_type": "markdown",
   "metadata": {},
   "source": [
    "*Technical note: by putting the bash commands between () we run them in a [subshell](https://bash.cyberciti.biz/guide/What_is_a_Subshell%3F), the advantage is that when we use `cd` it only changes the folder in the subshell, but not in the main shell in which this jupyter notebook runs.*"
   ]
  },
  {
   "cell_type": "code",
   "execution_count": 7,
   "metadata": {},
   "outputs": [
    {
     "name": "stdout",
     "output_type": "stream",
     "text": [
      "  % Total    % Received % Xferd  Average Speed   Time    Time     Time  Current\n",
      "                                 Dload  Upload   Total   Spent    Left  Speed\n",
      "100 57.2M  100 57.2M    0     0  11.0M      0  0:00:05  0:00:05 --:--:-- 12.2M:00:07  0:00:01  0:00:06 8031k2k      0  0:00:05  0:00:02  0:00:03 9921k      0  0:00:05  0:00:04  0:00:01 10.9M\n"
     ]
    }
   ],
   "source": [
    "!(cd $data_dir && curl -o RawData.zip https://drive.switch.ch/index.php/s/9kiP6M4uFBNFdbV/download)\n",
    "!(cd $data_dir && unzip -q -j RawData.zip)"
   ]
  },
  {
   "cell_type": "markdown",
   "metadata": {},
   "source": [
    "We can check the folder contents, if everything worked, it should create a number of tif files:"
   ]
  },
  {
   "cell_type": "code",
   "execution_count": 8,
   "metadata": {},
   "outputs": [
    {
     "name": "stdout",
     "output_type": "stream",
     "text": [
      "Pos001_Frm001_Ch01.tif Pos001_Frm028_Ch01.tif Pos001_Frm055_Ch01.tif\n",
      "Pos001_Frm001_Ch02.tif Pos001_Frm028_Ch02.tif Pos001_Frm055_Ch02.tif\n",
      "Pos001_Frm002_Ch01.tif Pos001_Frm029_Ch01.tif Pos001_Frm056_Ch01.tif\n",
      "Pos001_Frm002_Ch02.tif Pos001_Frm029_Ch02.tif Pos001_Frm056_Ch02.tif\n",
      "Pos001_Frm003_Ch01.tif Pos001_Frm030_Ch01.tif Pos001_Frm057_Ch01.tif\n",
      "Pos001_Frm003_Ch02.tif Pos001_Frm030_Ch02.tif Pos001_Frm057_Ch02.tif\n",
      "Pos001_Frm004_Ch01.tif Pos001_Frm031_Ch01.tif Pos001_Frm058_Ch01.tif\n",
      "Pos001_Frm004_Ch02.tif Pos001_Frm031_Ch02.tif Pos001_Frm058_Ch02.tif\n",
      "Pos001_Frm005_Ch01.tif Pos001_Frm032_Ch01.tif Pos001_Frm059_Ch01.tif\n",
      "Pos001_Frm005_Ch02.tif Pos001_Frm032_Ch02.tif Pos001_Frm059_Ch02.tif\n",
      "Pos001_Frm006_Ch01.tif Pos001_Frm033_Ch01.tif Pos001_Frm060_Ch01.tif\n",
      "Pos001_Frm006_Ch02.tif Pos001_Frm033_Ch02.tif Pos001_Frm060_Ch02.tif\n",
      "Pos001_Frm007_Ch01.tif Pos001_Frm034_Ch01.tif Pos001_Frm061_Ch01.tif\n",
      "Pos001_Frm007_Ch02.tif Pos001_Frm034_Ch02.tif Pos001_Frm061_Ch02.tif\n",
      "Pos001_Frm008_Ch01.tif Pos001_Frm035_Ch01.tif Pos001_Frm062_Ch01.tif\n",
      "Pos001_Frm008_Ch02.tif Pos001_Frm035_Ch02.tif Pos001_Frm062_Ch02.tif\n",
      "Pos001_Frm009_Ch01.tif Pos001_Frm036_Ch01.tif Pos001_Frm063_Ch01.tif\n",
      "Pos001_Frm009_Ch02.tif Pos001_Frm036_Ch02.tif Pos001_Frm063_Ch02.tif\n",
      "Pos001_Frm010_Ch01.tif Pos001_Frm037_Ch01.tif Pos001_Frm064_Ch01.tif\n",
      "Pos001_Frm010_Ch02.tif Pos001_Frm037_Ch02.tif Pos001_Frm064_Ch02.tif\n",
      "Pos001_Frm011_Ch01.tif Pos001_Frm038_Ch01.tif Pos001_Frm065_Ch01.tif\n",
      "Pos001_Frm011_Ch02.tif Pos001_Frm038_Ch02.tif Pos001_Frm065_Ch02.tif\n",
      "Pos001_Frm012_Ch01.tif Pos001_Frm039_Ch01.tif Pos001_Frm066_Ch01.tif\n",
      "Pos001_Frm012_Ch02.tif Pos001_Frm039_Ch02.tif Pos001_Frm066_Ch02.tif\n",
      "Pos001_Frm013_Ch01.tif Pos001_Frm040_Ch01.tif Pos001_Frm067_Ch01.tif\n",
      "Pos001_Frm013_Ch02.tif Pos001_Frm040_Ch02.tif Pos001_Frm067_Ch02.tif\n",
      "Pos001_Frm014_Ch01.tif Pos001_Frm041_Ch01.tif Pos001_Frm068_Ch01.tif\n",
      "Pos001_Frm014_Ch02.tif Pos001_Frm041_Ch02.tif Pos001_Frm068_Ch02.tif\n",
      "Pos001_Frm015_Ch01.tif Pos001_Frm042_Ch01.tif Pos001_Frm069_Ch01.tif\n",
      "Pos001_Frm015_Ch02.tif Pos001_Frm042_Ch02.tif Pos001_Frm069_Ch02.tif\n",
      "Pos001_Frm016_Ch01.tif Pos001_Frm043_Ch01.tif Pos001_Frm070_Ch01.tif\n",
      "Pos001_Frm016_Ch02.tif Pos001_Frm043_Ch02.tif Pos001_Frm070_Ch02.tif\n",
      "Pos001_Frm017_Ch01.tif Pos001_Frm044_Ch01.tif Pos001_Frm071_Ch01.tif\n",
      "Pos001_Frm017_Ch02.tif Pos001_Frm044_Ch02.tif Pos001_Frm071_Ch02.tif\n",
      "Pos001_Frm018_Ch01.tif Pos001_Frm045_Ch01.tif Pos001_Frm072_Ch01.tif\n",
      "Pos001_Frm018_Ch02.tif Pos001_Frm045_Ch02.tif Pos001_Frm072_Ch02.tif\n",
      "Pos001_Frm019_Ch01.tif Pos001_Frm046_Ch01.tif Pos001_Frm073_Ch01.tif\n",
      "Pos001_Frm019_Ch02.tif Pos001_Frm046_Ch02.tif Pos001_Frm073_Ch02.tif\n",
      "Pos001_Frm020_Ch01.tif Pos001_Frm047_Ch01.tif Pos001_Frm074_Ch01.tif\n",
      "Pos001_Frm020_Ch02.tif Pos001_Frm047_Ch02.tif Pos001_Frm074_Ch02.tif\n",
      "Pos001_Frm021_Ch01.tif Pos001_Frm048_Ch01.tif Pos001_Frm075_Ch01.tif\n",
      "Pos001_Frm021_Ch02.tif Pos001_Frm048_Ch02.tif Pos001_Frm075_Ch02.tif\n",
      "Pos001_Frm022_Ch01.tif Pos001_Frm049_Ch01.tif Pos001_Frm076_Ch01.tif\n",
      "Pos001_Frm022_Ch02.tif Pos001_Frm049_Ch02.tif Pos001_Frm076_Ch02.tif\n",
      "Pos001_Frm023_Ch01.tif Pos001_Frm050_Ch01.tif Pos001_Frm077_Ch01.tif\n",
      "Pos001_Frm023_Ch02.tif Pos001_Frm050_Ch02.tif Pos001_Frm077_Ch02.tif\n",
      "Pos001_Frm024_Ch01.tif Pos001_Frm051_Ch01.tif Pos001_Frm078_Ch01.tif\n",
      "Pos001_Frm024_Ch02.tif Pos001_Frm051_Ch02.tif Pos001_Frm078_Ch02.tif\n",
      "Pos001_Frm025_Ch01.tif Pos001_Frm052_Ch01.tif Pos001_Frm079_Ch01.tif\n",
      "Pos001_Frm025_Ch02.tif Pos001_Frm052_Ch02.tif Pos001_Frm079_Ch02.tif\n",
      "Pos001_Frm026_Ch01.tif Pos001_Frm053_Ch01.tif Pos001_Frm080_Ch01.tif\n",
      "Pos001_Frm026_Ch02.tif Pos001_Frm053_Ch02.tif Pos001_Frm080_Ch02.tif\n",
      "Pos001_Frm027_Ch01.tif Pos001_Frm054_Ch01.tif RawData.zip\n",
      "Pos001_Frm027_Ch02.tif Pos001_Frm054_Ch02.tif\n"
     ]
    }
   ],
   "source": [
    "data_dir = proj_dir / 'RawData'\n",
    "!ls $data_dir"
   ]
  },
  {
   "cell_type": "markdown",
   "metadata": {},
   "source": [
    "Now let's remove the zip file:"
   ]
  },
  {
   "cell_type": "code",
   "execution_count": 9,
   "metadata": {},
   "outputs": [],
   "source": [
    "data_file = data_dir / 'RawData.zip'\n",
    "!rm $data_file"
   ]
  },
  {
   "cell_type": "markdown",
   "metadata": {},
   "source": [
    "Within the project folder, you should now have a `model` and `RawData` subfolder, as well as two `config` files. Let's check:"
   ]
  },
  {
   "cell_type": "code",
   "execution_count": 10,
   "metadata": {},
   "outputs": [
    {
     "name": "stdout",
     "output_type": "stream",
     "text": [
      "\u001b[34mProcessedData\u001b[m\u001b[m        config_2D.json       \u001b[34mmodels\u001b[m\u001b[m\n",
      "\u001b[34mRawData\u001b[m\u001b[m              config_2D_local.json\n"
     ]
    }
   ],
   "source": [
    "!ls $proj_dir"
   ]
  },
  {
   "cell_type": "markdown",
   "metadata": {},
   "source": [
    "---"
   ]
  },
  {
   "cell_type": "markdown",
   "metadata": {},
   "source": [
    "## Next Step: Run delta pipeline\n",
    "\n",
    "Continue to Notebook `1_run_pipeline_delta`"
   ]
  }
 ],
 "metadata": {
  "interpreter": {
   "hash": "04885f21a4bd9418df205c8169dbf35b8c72791b69b584ac7513023d01d78b79"
  },
  "kernelspec": {
   "display_name": "Python 3 (ipykernel)",
   "language": "python",
   "name": "python3"
  },
  "language_info": {
   "codemirror_mode": {
    "name": "ipython",
    "version": 3
   },
   "file_extension": ".py",
   "mimetype": "text/x-python",
   "name": "python",
   "nbconvert_exporter": "python",
   "pygments_lexer": "ipython3",
   "version": "3.9.12"
  }
 },
 "nbformat": 4,
 "nbformat_minor": 4
}
