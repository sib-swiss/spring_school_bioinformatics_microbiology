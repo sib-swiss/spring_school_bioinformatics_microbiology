{
 "cells": [
  {
   "cell_type": "markdown",
   "metadata": {},
   "source": [
    "# Download Model and Data\n",
    "\n",
    "Here we will use the Delta2 package to segment and track timelapse data of microcolonies using a deep learning based workflow.  \n",
    "You can find extensive documentation on Delta [here](https://delta.readthedocs.io).\n",
    "\n",
    "Delta comes with a pre-trained model (i.e. network) that we can use as a first step.  \n",
    "Here we download this model using `delta` build in methods. \n",
    "\n",
    "We also will download the data we will analyze in the next steps."
   ]
  },
  {
   "cell_type": "code",
   "execution_count": null,
   "metadata": {},
   "outputs": [],
   "source": [
    "#import packages\n",
    "import pathlib\n",
    "import delta"
   ]
  },
  {
   "cell_type": "markdown",
   "metadata": {},
   "source": [
    "---"
   ]
  },
  {
   "cell_type": "markdown",
   "metadata": {},
   "source": [
    "## Setup Folders\n",
    "Now we set path to where we will store the  data, and create the relevant sub-folders.  \n",
    "For this we use [`pathlibs.mkdir`](https://docs.python.org/3/library/pathlib.html#methods-and-properties) command."
   ]
  },
  {
   "cell_type": "code",
   "execution_count": null,
   "metadata": {},
   "outputs": [],
   "source": [
    "root = pathlib.Path(pathlib.Path.home(), 'I2ICourse/')\n",
    "proj_dir = (root / 'Project2B')\n",
    "data_dir = proj_dir / 'RawData'\n",
    "model_dir = proj_dir / 'models'\n",
    "\n",
    "#make folders\n",
    "data_dir.mkdir(exist_ok=True)\n",
    "model_dir.mkdir(exist_ok=True)"
   ]
  },
  {
   "cell_type": "markdown",
   "metadata": {},
   "source": [
    "We can check if the folder are created by running ls in the command line.  \n",
    "\n",
    "Note: you can run command line commands directly from within Jupyter Labs by placing a `!` in front of the line.  \n",
    "You can pass variables from Python to the command line by adding a `$` before the variable name."
   ]
  },
  {
   "cell_type": "code",
   "execution_count": null,
   "metadata": {},
   "outputs": [],
   "source": [
    "print('folders in project dir:')\n",
    "!ls $proj_dir"
   ]
  },
  {
   "cell_type": "markdown",
   "metadata": {},
   "source": [
    "---"
   ]
  },
  {
   "cell_type": "markdown",
   "metadata": {},
   "source": [
    "## Download Model\n",
    "\n",
    "Now we can download the pre-trained model using [`delta.assets.download_assets`](https://delta.readthedocs.io/en/latest/usage/assets_desc.html)."
   ]
  },
  {
   "cell_type": "markdown",
   "metadata": {},
   "source": [
    "*Technical note: `delta` needs paths specified as strings, we thus need to convert a `PosixPath` object (the format in which `pathlib` stores paths) to a string by calling the `.resolve()` method and concerting to string using `str()`.  \n",
    "We can make a quick function to do this:*"
   ]
  },
  {
   "cell_type": "code",
   "execution_count": null,
   "metadata": {},
   "outputs": [],
   "source": [
    "def to_str(posixpath):\n",
    "    return str(posixpath.resolve())    "
   ]
  },
  {
   "cell_type": "code",
   "execution_count": null,
   "metadata": {},
   "outputs": [],
   "source": [
    "delta.assets.download_assets(\n",
    "    load_models=to_str(model_dir),\n",
    "    load_sets=False,\n",
    "    load_evals=False,\n",
    "    config_level=to_str(proj_dir)\n",
    ")"
   ]
  },
  {
   "cell_type": "markdown",
   "metadata": {},
   "source": [
    "Delta comes with a number of different pre-trained network:"
   ]
  },
  {
   "cell_type": "code",
   "execution_count": null,
   "metadata": {},
   "outputs": [],
   "source": [
    "model_dir = proj_dir / 'models'\n",
    "!ls $model_dir"
   ]
  },
  {
   "cell_type": "markdown",
   "metadata": {},
   "source": [
    "There are models for 1D mother machine data (called `moma`) and for 2D microcolony data (called `pads`). For each data type there are two models: one for segmentation and one for tracking."
   ]
  },
  {
   "cell_type": "markdown",
   "metadata": {},
   "source": [
    "---"
   ]
  },
  {
   "cell_type": "markdown",
   "metadata": {},
   "source": [
    "## Download Data\n",
    "We download the data using wget via the command line:"
   ]
  },
  {
   "cell_type": "markdown",
   "metadata": {},
   "source": [
    "*Technical note: by putting the bash commands between () we run them in a [subshell](https://bash.cyberciti.biz/guide/What_is_a_Subshell%3F), the advantage is that when we use `cd` it only changes the folder in the subshell, but not in the main shell in which this jupyter notebook runs.*"
   ]
  },
  {
   "cell_type": "code",
   "execution_count": null,
   "metadata": {},
   "outputs": [],
   "source": [
    "!(cd $data_dir && wget -O RawData.zip https://drive.switch.ch/index.php/s/9kiP6M4uFBNFdbV/download)\n",
    "!(cd $data_dir && unzip -q -j RawData.zip)"
   ]
  },
  {
   "cell_type": "markdown",
   "metadata": {},
   "source": [
    "We can check the folder contents, if everything worked, it should create a number of tif files:"
   ]
  },
  {
   "cell_type": "code",
   "execution_count": null,
   "metadata": {},
   "outputs": [],
   "source": [
    "data_dir = proj_dir / 'RawData'\n",
    "!ls $data_dir"
   ]
  },
  {
   "cell_type": "markdown",
   "metadata": {},
   "source": [
    "Now let's remove the zip file:"
   ]
  },
  {
   "cell_type": "code",
   "execution_count": null,
   "metadata": {},
   "outputs": [],
   "source": [
    "data_file = data_dir / 'RawData.zip'\n",
    "!rm $data_file"
   ]
  },
  {
   "cell_type": "markdown",
   "metadata": {},
   "source": [
    "Within the project folder, you should now have a `model` and `RawData` subfolder, as well as two `config` files. Let's check:"
   ]
  },
  {
   "cell_type": "code",
   "execution_count": null,
   "metadata": {},
   "outputs": [],
   "source": [
    "!ls $proj_dir"
   ]
  },
  {
   "cell_type": "markdown",
   "metadata": {},
   "source": [
    "---"
   ]
  },
  {
   "cell_type": "markdown",
   "metadata": {},
   "source": [
    "## Next Step: Run delta pipeline\n",
    "\n",
    "Continue to Notebook `1_run_pipeline_delta`"
   ]
  }
 ],
 "metadata": {
  "interpreter": {
   "hash": "6cb765ee22dcc904efaf1351ec4408646fdaf0eb2968a618fbd04b98f5406910"
  },
  "kernelspec": {
   "display_name": "Python [conda env:i2i_p1_env]",
   "language": "python",
   "name": "python3"
  },
  "language_info": {
   "codemirror_mode": {
    "name": "ipython",
    "version": 3
   },
   "file_extension": ".py",
   "mimetype": "text/x-python",
   "name": "python",
   "nbconvert_exporter": "python",
   "pygments_lexer": "ipython3",
   "version": "3.9.12"
  }
 },
 "nbformat": 4,
 "nbformat_minor": 4
}
