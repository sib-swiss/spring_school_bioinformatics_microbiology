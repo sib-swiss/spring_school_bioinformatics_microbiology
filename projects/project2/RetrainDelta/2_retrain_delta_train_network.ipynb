{
 "cells": [
  {
   "cell_type": "code",
   "execution_count": 19,
   "metadata": {},
   "outputs": [
    {
     "name": "stdout",
     "output_type": "stream",
     "text": [
      "The tensorboard extension is already loaded. To reload it, use:\n",
      "  %reload_ext tensorboard\n"
     ]
    }
   ],
   "source": [
    "%load_ext tensorboard\n",
    "\n",
    "import os\n",
    "from tensorflow.keras.callbacks import ModelCheckpoint, EarlyStopping, TensorBoard\n",
    "\n",
    "from delta.assets import download_assets\n",
    "from delta.utilities import cfg\n",
    "from delta.model import unet_seg\n",
    "from delta.data import trainGenerator_seg, seg_weights\n",
    "\n",
    "import pathlib\n",
    "\n",
    "import datetime\n"
   ]
  },
  {
   "cell_type": "code",
   "execution_count": 2,
   "metadata": {},
   "outputs": [],
   "source": [
    "def to_str(posixpath):\n",
    "    return str(posixpath.resolve())  "
   ]
  },
  {
   "cell_type": "code",
   "execution_count": 3,
   "metadata": {},
   "outputs": [
    {
     "data": {
      "text/plain": [
       "[PhysicalDevice(name='/physical_device:CPU:0', device_type='CPU'),\n",
       " PhysicalDevice(name='/physical_device:GPU:0', device_type='GPU')]"
      ]
     },
     "execution_count": 3,
     "metadata": {},
     "output_type": "execute_result"
    }
   ],
   "source": [
    "import tensorflow as tf\n",
    "tf.config.list_physical_devices()"
   ]
  },
  {
   "cell_type": "code",
   "execution_count": 4,
   "metadata": {},
   "outputs": [],
   "source": [
    "root = pathlib.Path(pathlib.Path.home(), 'home', 'Delta2_Caulobacter')\n",
    "data_dir = root / 'data'\n",
    "model_dir = root / 'models'\n",
    "\n",
    "new_config_filename = root / 'config_2D_caulobacter.json'\n",
    "\n",
    "training_set = data_dir / 'training'\n",
    "validation_set = data_dir / 'validation'\n",
    "\n",
    "savefile = model_dir / 'Caulobacter2D'"
   ]
  },
  {
   "cell_type": "code",
   "execution_count": 23,
   "metadata": {},
   "outputs": [
    {
     "name": "stdout",
     "output_type": "stream",
     "text": [
      "Loading configuration from: /scicore/home/vanvli0000/vanvli0000/home/Delta2_Caulobacter/config_2D_caulobacter.json\n",
      "Model: \"model_2\"\n",
      "__________________________________________________________________________________________________\n",
      " Layer (type)                   Output Shape         Param #     Connected to                     \n",
      "==================================================================================================\n",
      " true_input (InputLayer)        [(None, 512, 512, 1  0           []                               \n",
      "                                )]                                                                \n",
      "                                                                                                  \n",
      " Level0_Conv2D_1 (Conv2D)       (None, 512, 512, 64  640         ['true_input[0][0]']             \n",
      "                                )                                                                 \n",
      "                                                                                                  \n",
      " Level0_Conv2D_2 (Conv2D)       (None, 512, 512, 64  36928       ['Level0_Conv2D_1[0][0]']        \n",
      "                                )                                                                 \n",
      "                                                                                                  \n",
      " Level1_Contracting_MaxPooling2  (None, 256, 256, 64  0          ['Level0_Conv2D_2[0][0]']        \n",
      " D (MaxPooling2D)               )                                                                 \n",
      "                                                                                                  \n",
      " Level1_Contracting_Conv2D_1 (C  (None, 256, 256, 12  73856      ['Level1_Contracting_MaxPooling2D\n",
      " onv2D)                         8)                               [0][0]']                         \n",
      "                                                                                                  \n",
      " Level1_Contracting_Conv2D_2 (C  (None, 256, 256, 12  147584     ['Level1_Contracting_Conv2D_1[0][\n",
      " onv2D)                         8)                               0]']                             \n",
      "                                                                                                  \n",
      " Level2_Contracting_MaxPooling2  (None, 128, 128, 12  0          ['Level1_Contracting_Conv2D_2[0][\n",
      " D (MaxPooling2D)               8)                               0]']                             \n",
      "                                                                                                  \n",
      " Level2_Contracting_Conv2D_1 (C  (None, 128, 128, 25  295168     ['Level2_Contracting_MaxPooling2D\n",
      " onv2D)                         6)                               [0][0]']                         \n",
      "                                                                                                  \n",
      " Level2_Contracting_Conv2D_2 (C  (None, 128, 128, 25  590080     ['Level2_Contracting_Conv2D_1[0][\n",
      " onv2D)                         6)                               0]']                             \n",
      "                                                                                                  \n",
      " Level3_Contracting_MaxPooling2  (None, 64, 64, 256)  0          ['Level2_Contracting_Conv2D_2[0][\n",
      " D (MaxPooling2D)                                                0]']                             \n",
      "                                                                                                  \n",
      " Level3_Contracting_Conv2D_1 (C  (None, 64, 64, 512)  1180160    ['Level3_Contracting_MaxPooling2D\n",
      " onv2D)                                                          [0][0]']                         \n",
      "                                                                                                  \n",
      " Level3_Contracting_Conv2D_2 (C  (None, 64, 64, 512)  2359808    ['Level3_Contracting_Conv2D_1[0][\n",
      " onv2D)                                                          0]']                             \n",
      "                                                                                                  \n",
      " Level4_Contracting_MaxPooling2  (None, 32, 32, 512)  0          ['Level3_Contracting_Conv2D_2[0][\n",
      " D (MaxPooling2D)                                                0]']                             \n",
      "                                                                                                  \n",
      " Level4_Contracting_Conv2D_1 (C  (None, 32, 32, 1024  4719616    ['Level4_Contracting_MaxPooling2D\n",
      " onv2D)                         )                                [0][0]']                         \n",
      "                                                                                                  \n",
      " Level4_Contracting_Conv2D_2 (C  (None, 32, 32, 1024  9438208    ['Level4_Contracting_Conv2D_1[0][\n",
      " onv2D)                         )                                0]']                             \n",
      "                                                                                                  \n",
      " Level3_Expanding_UpSampling2D   (None, 64, 64, 1024  0          ['Level4_Contracting_Conv2D_2[0][\n",
      " (UpSampling2D)                 )                                0]']                             \n",
      "                                                                                                  \n",
      " Level3_Expanding_Conv2D_1 (Con  (None, 64, 64, 512)  2097664    ['Level3_Expanding_UpSampling2D[0\n",
      " v2D)                                                            ][0]']                           \n",
      "                                                                                                  \n",
      " Level3_Expanding_Concatenate (  (None, 64, 64, 1024  0          ['Level3_Contracting_Conv2D_2[0][\n",
      " Concatenate)                   )                                0]',                             \n",
      "                                                                  'Level3_Expanding_Conv2D_1[0][0]\n",
      "                                                                 ']                               \n",
      "                                                                                                  \n",
      " Level3_Expanding_Conv2D_2 (Con  (None, 64, 64, 512)  4719104    ['Level3_Expanding_Concatenate[0]\n",
      " v2D)                                                            [0]']                            \n",
      "                                                                                                  \n",
      " Level3_Expanding_Conv2D_3 (Con  (None, 64, 64, 512)  2359808    ['Level3_Expanding_Conv2D_2[0][0]\n",
      " v2D)                                                            ']                               \n",
      "                                                                                                  \n",
      " Level2_Expanding_UpSampling2D   (None, 128, 128, 51  0          ['Level3_Expanding_Conv2D_3[0][0]\n",
      " (UpSampling2D)                 2)                               ']                               \n",
      "                                                                                                  \n",
      " Level2_Expanding_Conv2D_1 (Con  (None, 128, 128, 25  524544     ['Level2_Expanding_UpSampling2D[0\n",
      " v2D)                           6)                               ][0]']                           \n",
      "                                                                                                  \n",
      " Level2_Expanding_Concatenate (  (None, 128, 128, 51  0          ['Level2_Contracting_Conv2D_2[0][\n",
      " Concatenate)                   2)                               0]',                             \n",
      "                                                                  'Level2_Expanding_Conv2D_1[0][0]\n",
      "                                                                 ']                               \n",
      "                                                                                                  \n",
      " Level2_Expanding_Conv2D_2 (Con  (None, 128, 128, 25  1179904    ['Level2_Expanding_Concatenate[0]\n",
      " v2D)                           6)                               [0]']                            \n",
      "                                                                                                  \n",
      " Level2_Expanding_Conv2D_3 (Con  (None, 128, 128, 25  590080     ['Level2_Expanding_Conv2D_2[0][0]\n",
      " v2D)                           6)                               ']                               \n",
      "                                                                                                  \n",
      " Level1_Expanding_UpSampling2D   (None, 256, 256, 25  0          ['Level2_Expanding_Conv2D_3[0][0]\n",
      " (UpSampling2D)                 6)                               ']                               \n",
      "                                                                                                  \n",
      " Level1_Expanding_Conv2D_1 (Con  (None, 256, 256, 12  131200     ['Level1_Expanding_UpSampling2D[0\n",
      " v2D)                           8)                               ][0]']                           \n",
      "                                                                                                  \n",
      " Level1_Expanding_Concatenate (  (None, 256, 256, 25  0          ['Level1_Contracting_Conv2D_2[0][\n",
      " Concatenate)                   6)                               0]',                             \n",
      "                                                                  'Level1_Expanding_Conv2D_1[0][0]\n",
      "                                                                 ']                               \n",
      "                                                                                                  \n",
      " Level1_Expanding_Conv2D_2 (Con  (None, 256, 256, 12  295040     ['Level1_Expanding_Concatenate[0]\n",
      " v2D)                           8)                               [0]']                            \n",
      "                                                                                                  \n",
      " Level1_Expanding_Conv2D_3 (Con  (None, 256, 256, 12  147584     ['Level1_Expanding_Conv2D_2[0][0]\n",
      " v2D)                           8)                               ']                               \n",
      "                                                                                                  \n",
      " Level0_Expanding_UpSampling2D   (None, 512, 512, 12  0          ['Level1_Expanding_Conv2D_3[0][0]\n",
      " (UpSampling2D)                 8)                               ']                               \n",
      "                                                                                                  \n",
      " Level0_Expanding_Conv2D_1 (Con  (None, 512, 512, 64  32832      ['Level0_Expanding_UpSampling2D[0\n",
      " v2D)                           )                                ][0]']                           \n",
      "                                                                                                  \n",
      " Level0_Expanding_Concatenate (  (None, 512, 512, 12  0          ['Level0_Conv2D_2[0][0]',        \n",
      " Concatenate)                   8)                                'Level0_Expanding_Conv2D_1[0][0]\n",
      "                                                                 ']                               \n",
      "                                                                                                  \n",
      " Level0_Expanding_Conv2D_2 (Con  (None, 512, 512, 64  73792      ['Level0_Expanding_Concatenate[0]\n",
      " v2D)                           )                                [0]']                            \n",
      "                                                                                                  \n",
      " Level0_Expanding_Conv2D_3 (Con  (None, 512, 512, 64  36928      ['Level0_Expanding_Conv2D_2[0][0]\n",
      " v2D)                           )                                ']                               \n",
      "                                                                                                  \n",
      " true_output (Conv2D)           (None, 512, 512, 1)  65          ['Level0_Expanding_Conv2D_3[0][0]\n",
      "                                                                 ']                               \n",
      "                                                                                                  \n",
      "==================================================================================================\n",
      "Total params: 31,030,593\n",
      "Trainable params: 31,030,593\n",
      "Non-trainable params: 0\n",
      "__________________________________________________________________________________________________\n"
     ]
    }
   ],
   "source": [
    "# Load config:\n",
    "cfg.load_config(new_config_filename)\n",
    "\n",
    "# Training parameters:\n",
    "batch_size = 4\n",
    "epochs = 600\n",
    "steps_per_epoch = 300\n",
    "patience = 50\n",
    "\n",
    "#Data generator parameters:\n",
    "data_gen_args = dict(\n",
    "    rotation = 2,\n",
    "    rotations_90d = True,\n",
    "    zoom=.15,\n",
    "    horizontal_flip=True,\n",
    "    vertical_flip=True,\n",
    "    histogram_voodoo=True,\n",
    "    illumination_voodoo=True,\n",
    "    gaussian_noise = 0.03,\n",
    "    gaussian_blur = 1\n",
    "    )\n",
    "\n",
    "data_gen_args_val = dict(\n",
    "    rotation = 2,\n",
    "    rotations_90d = True,\n",
    "    horizontal_flip=True,\n",
    "    vertical_flip=True,\n",
    "    )\n",
    "\n",
    "# Generator init:\n",
    "gen_train = trainGenerator_seg(\n",
    "    batch_size,\n",
    "    os.path.join(to_str(training_set),'img'),\n",
    "    os.path.join(to_str(training_set),'seg'),\n",
    "    os.path.join(to_str(training_set),'wei'),\n",
    "    augment_params = data_gen_args,\n",
    "    target_size = cfg.target_size_seg,\n",
    "    crop_windows = cfg.crop_windows\n",
    "    )\n",
    "\n",
    "gen_validate = trainGenerator_seg(\n",
    "    batch_size,\n",
    "    os.path.join(validation_set,'img'),\n",
    "    os.path.join(validation_set,'seg'),\n",
    "    os.path.join(validation_set,'wei'),\n",
    "    augment_params = data_gen_args_val,\n",
    "    target_size = cfg.target_size_seg,\n",
    "    crop_windows = cfg.crop_windows\n",
    "    )\n",
    "\n",
    "# Define model:\n",
    "model = unet_seg(input_size = cfg.target_size_seg+(1,), pretrained_weights=cfg.model_file_seg)\n",
    "model.summary()"
   ]
  },
  {
   "cell_type": "code",
   "execution_count": 24,
   "metadata": {},
   "outputs": [],
   "source": [
    "a,b = next(gen_validate)"
   ]
  },
  {
   "cell_type": "code",
   "execution_count": 25,
   "metadata": {},
   "outputs": [
    {
     "data": {
      "text/plain": [
       "(4, 512, 512, 2)"
      ]
     },
     "execution_count": 25,
     "metadata": {},
     "output_type": "execute_result"
    }
   ],
   "source": [
    "b.shape"
   ]
  },
  {
   "cell_type": "code",
   "execution_count": 26,
   "metadata": {},
   "outputs": [],
   "source": [
    "# Callbacks:\n",
    "model_checkpoint = ModelCheckpoint(\n",
    "    to_str(savefile), monitor='loss', verbose=2, save_best_only=True\n",
    "    )\n",
    "early_stopping = EarlyStopping(\n",
    "    monitor='loss', mode='min', verbose=2, patience=patience\n",
    "    )\n",
    "\n",
    "log_dir = \"logs/fit/\" + datetime.datetime.now().strftime(\"%Y%m%d-%H%M%S\")\n",
    "\n",
    "tensor_board = TensorBoard(log_dir=log_dir, histogram_freq=1)"
   ]
  },
  {
   "cell_type": "code",
   "execution_count": 27,
   "metadata": {},
   "outputs": [
    {
     "data": {
      "text/plain": [
       "Reusing TensorBoard on port 6007 (pid 191148), started 0:00:52 ago. (Use '!kill 191148' to kill it.)"
      ]
     },
     "metadata": {},
     "output_type": "display_data"
    },
    {
     "data": {
      "text/html": [
       "\n",
       "      <iframe id=\"tensorboard-frame-a648a7dd06839eb9\" width=\"100%\" height=\"800\" frameborder=\"0\">\n",
       "      </iframe>\n",
       "      <script>\n",
       "        (function() {\n",
       "          const frame = document.getElementById(\"tensorboard-frame-a648a7dd06839eb9\");\n",
       "          const url = new URL(\"/\", window.location);\n",
       "          const port = 6007;\n",
       "          if (port) {\n",
       "            url.port = port;\n",
       "          }\n",
       "          frame.src = url;\n",
       "        })();\n",
       "      </script>\n",
       "    "
      ],
      "text/plain": [
       "<IPython.core.display.HTML object>"
      ]
     },
     "metadata": {},
     "output_type": "display_data"
    }
   ],
   "source": [
    "%tensorboard --logdir logs/fit"
   ]
  },
  {
   "cell_type": "code",
   "execution_count": null,
   "metadata": {},
   "outputs": [
    {
     "name": "stdout",
     "output_type": "stream",
     "text": [
      "Epoch 1/600\n",
      "300/300 [==============================] - ETA: 0s - loss: 10.3204 - unstack_acc: 0.9919\n",
      "Epoch 1: loss improved from inf to 10.32043, saving model to /scicore/home/vanvli0000/vanvli0000/home/Delta2_Caulobacter/models/Caulobacter2D\n",
      "INFO:tensorflow:Assets written to: /scicore/home/vanvli0000/vanvli0000/home/Delta2_Caulobacter/models/Caulobacter2D/assets\n",
      "300/300 [==============================] - 230s 745ms/step - loss: 10.3204 - unstack_acc: 0.9919 - val_loss: 7.5270 - val_unstack_acc: 0.9939\n",
      "Epoch 2/600\n"
     ]
    },
    {
     "name": "stderr",
     "output_type": "stream",
     "text": [
      "/scicore/home/vanvli0000/vanvli0000/mambaforge/envs/delta2_env/lib/python3.9/site-packages/delta/data.py:392: FutureWarning: `multichannel` is a deprecated argument name for `rescale`. It will be removed in version 1.0. Please use `channel_axis` instead.\n",
      "  I = trans.rescale(I, zoomlevel, mode=\"edge\", multichannel=False, order=order)\n"
     ]
    },
    {
     "name": "stdout",
     "output_type": "stream",
     "text": [
      "300/300 [==============================] - ETA: 0s - loss: 8.5856 - unstack_acc: 0.9924\n",
      "Epoch 2: loss improved from 10.32043 to 8.58564, saving model to /scicore/home/vanvli0000/vanvli0000/home/Delta2_Caulobacter/models/Caulobacter2D\n",
      "INFO:tensorflow:Assets written to: /scicore/home/vanvli0000/vanvli0000/home/Delta2_Caulobacter/models/Caulobacter2D/assets\n",
      "300/300 [==============================] - 220s 736ms/step - loss: 8.5856 - unstack_acc: 0.9924 - val_loss: 5.5472 - val_unstack_acc: 0.9951\n",
      "Epoch 3/600\n"
     ]
    },
    {
     "name": "stderr",
     "output_type": "stream",
     "text": [
      "/scicore/home/vanvli0000/vanvli0000/mambaforge/envs/delta2_env/lib/python3.9/site-packages/delta/data.py:392: FutureWarning: `multichannel` is a deprecated argument name for `rescale`. It will be removed in version 1.0. Please use `channel_axis` instead.\n",
      "  I = trans.rescale(I, zoomlevel, mode=\"edge\", multichannel=False, order=order)\n"
     ]
    },
    {
     "name": "stdout",
     "output_type": "stream",
     "text": [
      "300/300 [==============================] - ETA: 0s - loss: 8.0597 - unstack_acc: 0.9926\n",
      "Epoch 3: loss improved from 8.58564 to 8.05965, saving model to /scicore/home/vanvli0000/vanvli0000/home/Delta2_Caulobacter/models/Caulobacter2D\n",
      "INFO:tensorflow:Assets written to: /scicore/home/vanvli0000/vanvli0000/home/Delta2_Caulobacter/models/Caulobacter2D/assets\n",
      "300/300 [==============================] - 220s 734ms/step - loss: 8.0597 - unstack_acc: 0.9926 - val_loss: 6.2649 - val_unstack_acc: 0.9931\n",
      "Epoch 4/600\n"
     ]
    },
    {
     "name": "stderr",
     "output_type": "stream",
     "text": [
      "/scicore/home/vanvli0000/vanvli0000/mambaforge/envs/delta2_env/lib/python3.9/site-packages/delta/data.py:392: FutureWarning: `multichannel` is a deprecated argument name for `rescale`. It will be removed in version 1.0. Please use `channel_axis` instead.\n",
      "  I = trans.rescale(I, zoomlevel, mode=\"edge\", multichannel=False, order=order)\n"
     ]
    },
    {
     "name": "stdout",
     "output_type": "stream",
     "text": [
      "300/300 [==============================] - ETA: 0s - loss: 7.6576 - unstack_acc: 0.9928\n",
      "Epoch 4: loss improved from 8.05965 to 7.65762, saving model to /scicore/home/vanvli0000/vanvli0000/home/Delta2_Caulobacter/models/Caulobacter2D\n",
      "INFO:tensorflow:Assets written to: /scicore/home/vanvli0000/vanvli0000/home/Delta2_Caulobacter/models/Caulobacter2D/assets\n",
      "300/300 [==============================] - 229s 765ms/step - loss: 7.6576 - unstack_acc: 0.9928 - val_loss: 8.0985 - val_unstack_acc: 0.9940\n",
      "Epoch 5/600\n",
      "  1/300 [..............................] - ETA: 2:12 - loss: 4.2431 - unstack_acc: 0.9972"
     ]
    },
    {
     "name": "stderr",
     "output_type": "stream",
     "text": [
      "/scicore/home/vanvli0000/vanvli0000/mambaforge/envs/delta2_env/lib/python3.9/site-packages/delta/data.py:392: FutureWarning: `multichannel` is a deprecated argument name for `rescale`. It will be removed in version 1.0. Please use `channel_axis` instead.\n",
      "  I = trans.rescale(I, zoomlevel, mode=\"edge\", multichannel=False, order=order)\n"
     ]
    },
    {
     "name": "stdout",
     "output_type": "stream",
     "text": [
      "300/300 [==============================] - ETA: 0s - loss: 7.7103 - unstack_acc: 0.9926\n",
      "Epoch 5: loss did not improve from 7.65762\n",
      "300/300 [==============================] - 221s 738ms/step - loss: 7.7103 - unstack_acc: 0.9926 - val_loss: 5.7144 - val_unstack_acc: 0.9953\n",
      "Epoch 6/600\n",
      "300/300 [==============================] - ETA: 0s - loss: 7.2371 - unstack_acc: 0.9930\n",
      "Epoch 6: loss improved from 7.65762 to 7.23712, saving model to /scicore/home/vanvli0000/vanvli0000/home/Delta2_Caulobacter/models/Caulobacter2D\n",
      "INFO:tensorflow:Assets written to: /scicore/home/vanvli0000/vanvli0000/home/Delta2_Caulobacter/models/Caulobacter2D/assets\n",
      "300/300 [==============================] - 218s 728ms/step - loss: 7.2371 - unstack_acc: 0.9930 - val_loss: 5.3891 - val_unstack_acc: 0.9950\n",
      "Epoch 7/600\n"
     ]
    },
    {
     "name": "stderr",
     "output_type": "stream",
     "text": [
      "/scicore/home/vanvli0000/vanvli0000/mambaforge/envs/delta2_env/lib/python3.9/site-packages/delta/data.py:392: FutureWarning: `multichannel` is a deprecated argument name for `rescale`. It will be removed in version 1.0. Please use `channel_axis` instead.\n",
      "  I = trans.rescale(I, zoomlevel, mode=\"edge\", multichannel=False, order=order)\n"
     ]
    },
    {
     "name": "stdout",
     "output_type": "stream",
     "text": [
      "300/300 [==============================] - ETA: 0s - loss: 7.1734 - unstack_acc: 0.9931\n",
      "Epoch 7: loss improved from 7.23712 to 7.17336, saving model to /scicore/home/vanvli0000/vanvli0000/home/Delta2_Caulobacter/models/Caulobacter2D\n",
      "INFO:tensorflow:Assets written to: /scicore/home/vanvli0000/vanvli0000/home/Delta2_Caulobacter/models/Caulobacter2D/assets\n",
      "300/300 [==============================] - 219s 729ms/step - loss: 7.1734 - unstack_acc: 0.9931 - val_loss: 7.3952 - val_unstack_acc: 0.9949\n",
      "Epoch 8/600\n"
     ]
    },
    {
     "name": "stderr",
     "output_type": "stream",
     "text": [
      "/scicore/home/vanvli0000/vanvli0000/mambaforge/envs/delta2_env/lib/python3.9/site-packages/delta/data.py:392: FutureWarning: `multichannel` is a deprecated argument name for `rescale`. It will be removed in version 1.0. Please use `channel_axis` instead.\n",
      "  I = trans.rescale(I, zoomlevel, mode=\"edge\", multichannel=False, order=order)\n"
     ]
    },
    {
     "name": "stdout",
     "output_type": "stream",
     "text": [
      "300/300 [==============================] - ETA: 0s - loss: 7.2237 - unstack_acc: 0.9929\n",
      "Epoch 8: loss did not improve from 7.17336\n",
      "300/300 [==============================] - 218s 728ms/step - loss: 7.2237 - unstack_acc: 0.9929 - val_loss: 6.2690 - val_unstack_acc: 0.9925\n",
      "Epoch 9/600\n",
      "300/300 [==============================] - ETA: 0s - loss: 7.3684 - unstack_acc: 0.9926\n",
      "Epoch 9: loss did not improve from 7.17336\n",
      "300/300 [==============================] - 220s 733ms/step - loss: 7.3684 - unstack_acc: 0.9926 - val_loss: 5.7017 - val_unstack_acc: 0.9950\n",
      "Epoch 10/600\n",
      "300/300 [==============================] - ETA: 0s - loss: 6.8021 - unstack_acc: 0.9934\n",
      "Epoch 10: loss improved from 7.17336 to 6.80206, saving model to /scicore/home/vanvli0000/vanvli0000/home/Delta2_Caulobacter/models/Caulobacter2D\n",
      "INFO:tensorflow:Assets written to: /scicore/home/vanvli0000/vanvli0000/home/Delta2_Caulobacter/models/Caulobacter2D/assets\n",
      "300/300 [==============================] - 222s 740ms/step - loss: 6.8021 - unstack_acc: 0.9934 - val_loss: 6.0465 - val_unstack_acc: 0.9945\n",
      "Epoch 11/600\n"
     ]
    },
    {
     "name": "stderr",
     "output_type": "stream",
     "text": [
      "/scicore/home/vanvli0000/vanvli0000/mambaforge/envs/delta2_env/lib/python3.9/site-packages/delta/data.py:392: FutureWarning: `multichannel` is a deprecated argument name for `rescale`. It will be removed in version 1.0. Please use `channel_axis` instead.\n",
      "  I = trans.rescale(I, zoomlevel, mode=\"edge\", multichannel=False, order=order)\n"
     ]
    },
    {
     "name": "stdout",
     "output_type": "stream",
     "text": [
      "300/300 [==============================] - ETA: 0s - loss: 6.9773 - unstack_acc: 0.9931\n",
      "Epoch 11: loss did not improve from 6.80206\n",
      "300/300 [==============================] - 220s 735ms/step - loss: 6.9773 - unstack_acc: 0.9931 - val_loss: 5.9498 - val_unstack_acc: 0.9934\n",
      "Epoch 12/600\n",
      "300/300 [==============================] - ETA: 0s - loss: 6.8232 - unstack_acc: 0.9932\n",
      "Epoch 12: loss did not improve from 6.80206\n",
      "300/300 [==============================] - 216s 723ms/step - loss: 6.8232 - unstack_acc: 0.9932 - val_loss: 5.4772 - val_unstack_acc: 0.9946\n",
      "Epoch 13/600\n",
      "300/300 [==============================] - ETA: 0s - loss: 7.0681 - unstack_acc: 0.9930\n",
      "Epoch 13: loss did not improve from 6.80206\n",
      "300/300 [==============================] - 218s 727ms/step - loss: 7.0681 - unstack_acc: 0.9930 - val_loss: 6.9674 - val_unstack_acc: 0.9939\n",
      "Epoch 14/600\n",
      "300/300 [==============================] - ETA: 0s - loss: 6.7456 - unstack_acc: 0.9931\n",
      "Epoch 14: loss improved from 6.80206 to 6.74565, saving model to /scicore/home/vanvli0000/vanvli0000/home/Delta2_Caulobacter/models/Caulobacter2D\n",
      "INFO:tensorflow:Assets written to: /scicore/home/vanvli0000/vanvli0000/home/Delta2_Caulobacter/models/Caulobacter2D/assets\n",
      "300/300 [==============================] - 218s 728ms/step - loss: 6.7456 - unstack_acc: 0.9931 - val_loss: 7.1789 - val_unstack_acc: 0.9926\n",
      "Epoch 15/600\n"
     ]
    },
    {
     "name": "stderr",
     "output_type": "stream",
     "text": [
      "/scicore/home/vanvli0000/vanvli0000/mambaforge/envs/delta2_env/lib/python3.9/site-packages/delta/data.py:392: FutureWarning: `multichannel` is a deprecated argument name for `rescale`. It will be removed in version 1.0. Please use `channel_axis` instead.\n",
      "  I = trans.rescale(I, zoomlevel, mode=\"edge\", multichannel=False, order=order)\n"
     ]
    },
    {
     "name": "stdout",
     "output_type": "stream",
     "text": [
      "300/300 [==============================] - ETA: 0s - loss: 6.8579 - unstack_acc: 0.9932\n",
      "Epoch 15: loss did not improve from 6.74565\n",
      "300/300 [==============================] - 214s 716ms/step - loss: 6.8579 - unstack_acc: 0.9932 - val_loss: 7.0341 - val_unstack_acc: 0.9944\n",
      "Epoch 16/600\n",
      "300/300 [==============================] - ETA: 0s - loss: 6.7182 - unstack_acc: 0.9932\n",
      "Epoch 16: loss improved from 6.74565 to 6.71822, saving model to /scicore/home/vanvli0000/vanvli0000/home/Delta2_Caulobacter/models/Caulobacter2D\n",
      "INFO:tensorflow:Assets written to: /scicore/home/vanvli0000/vanvli0000/home/Delta2_Caulobacter/models/Caulobacter2D/assets\n",
      "300/300 [==============================] - 222s 740ms/step - loss: 6.7182 - unstack_acc: 0.9932 - val_loss: 6.3846 - val_unstack_acc: 0.9927\n",
      "Epoch 17/600\n"
     ]
    },
    {
     "name": "stderr",
     "output_type": "stream",
     "text": [
      "/scicore/home/vanvli0000/vanvli0000/mambaforge/envs/delta2_env/lib/python3.9/site-packages/delta/data.py:392: FutureWarning: `multichannel` is a deprecated argument name for `rescale`. It will be removed in version 1.0. Please use `channel_axis` instead.\n",
      "  I = trans.rescale(I, zoomlevel, mode=\"edge\", multichannel=False, order=order)\n"
     ]
    },
    {
     "name": "stdout",
     "output_type": "stream",
     "text": [
      "300/300 [==============================] - ETA: 0s - loss: 6.9220 - unstack_acc: 0.9932\n",
      "Epoch 17: loss did not improve from 6.71822\n",
      "300/300 [==============================] - 218s 728ms/step - loss: 6.9220 - unstack_acc: 0.9932 - val_loss: 5.8143 - val_unstack_acc: 0.9945\n",
      "Epoch 18/600\n",
      "300/300 [==============================] - ETA: 0s - loss: 6.6953 - unstack_acc: 0.9933\n",
      "Epoch 18: loss improved from 6.71822 to 6.69529, saving model to /scicore/home/vanvli0000/vanvli0000/home/Delta2_Caulobacter/models/Caulobacter2D\n",
      "INFO:tensorflow:Assets written to: /scicore/home/vanvli0000/vanvli0000/home/Delta2_Caulobacter/models/Caulobacter2D/assets\n",
      "300/300 [==============================] - 222s 740ms/step - loss: 6.6953 - unstack_acc: 0.9933 - val_loss: 5.6274 - val_unstack_acc: 0.9941\n",
      "Epoch 19/600\n"
     ]
    },
    {
     "name": "stderr",
     "output_type": "stream",
     "text": [
      "/scicore/home/vanvli0000/vanvli0000/mambaforge/envs/delta2_env/lib/python3.9/site-packages/delta/data.py:392: FutureWarning: `multichannel` is a deprecated argument name for `rescale`. It will be removed in version 1.0. Please use `channel_axis` instead.\n",
      "  I = trans.rescale(I, zoomlevel, mode=\"edge\", multichannel=False, order=order)\n"
     ]
    },
    {
     "name": "stdout",
     "output_type": "stream",
     "text": [
      "300/300 [==============================] - ETA: 0s - loss: 6.8214 - unstack_acc: 0.9930\n",
      "Epoch 19: loss did not improve from 6.69529\n",
      "300/300 [==============================] - 217s 726ms/step - loss: 6.8214 - unstack_acc: 0.9930 - val_loss: 6.0769 - val_unstack_acc: 0.9941\n",
      "Epoch 20/600\n",
      "300/300 [==============================] - ETA: 0s - loss: 6.7551 - unstack_acc: 0.9934\n",
      "Epoch 20: loss did not improve from 6.69529\n",
      "300/300 [==============================] - 216s 721ms/step - loss: 6.7551 - unstack_acc: 0.9934 - val_loss: 5.5268 - val_unstack_acc: 0.9937\n",
      "Epoch 21/600\n",
      "300/300 [==============================] - ETA: 0s - loss: 6.7549 - unstack_acc: 0.9932\n",
      "Epoch 21: loss did not improve from 6.69529\n",
      "300/300 [==============================] - 219s 731ms/step - loss: 6.7549 - unstack_acc: 0.9932 - val_loss: 5.4298 - val_unstack_acc: 0.9948\n",
      "Epoch 22/600\n",
      "300/300 [==============================] - ETA: 0s - loss: 6.6139 - unstack_acc: 0.9933\n",
      "Epoch 22: loss improved from 6.69529 to 6.61389, saving model to /scicore/home/vanvli0000/vanvli0000/home/Delta2_Caulobacter/models/Caulobacter2D\n",
      "INFO:tensorflow:Assets written to: /scicore/home/vanvli0000/vanvli0000/home/Delta2_Caulobacter/models/Caulobacter2D/assets\n",
      "300/300 [==============================] - 222s 739ms/step - loss: 6.6139 - unstack_acc: 0.9933 - val_loss: 5.2737 - val_unstack_acc: 0.9944\n",
      "Epoch 23/600\n"
     ]
    },
    {
     "name": "stderr",
     "output_type": "stream",
     "text": [
      "/scicore/home/vanvli0000/vanvli0000/mambaforge/envs/delta2_env/lib/python3.9/site-packages/delta/data.py:392: FutureWarning: `multichannel` is a deprecated argument name for `rescale`. It will be removed in version 1.0. Please use `channel_axis` instead.\n",
      "  I = trans.rescale(I, zoomlevel, mode=\"edge\", multichannel=False, order=order)\n"
     ]
    },
    {
     "name": "stdout",
     "output_type": "stream",
     "text": [
      "300/300 [==============================] - ETA: 0s - loss: 6.6191 - unstack_acc: 0.9931\n",
      "Epoch 23: loss did not improve from 6.61389\n",
      "300/300 [==============================] - 218s 728ms/step - loss: 6.6191 - unstack_acc: 0.9931 - val_loss: 6.2656 - val_unstack_acc: 0.9946\n",
      "Epoch 24/600\n",
      "300/300 [==============================] - ETA: 0s - loss: 6.4800 - unstack_acc: 0.9934\n",
      "Epoch 24: loss improved from 6.61389 to 6.48001, saving model to /scicore/home/vanvli0000/vanvli0000/home/Delta2_Caulobacter/models/Caulobacter2D\n",
      "INFO:tensorflow:Assets written to: /scicore/home/vanvli0000/vanvli0000/home/Delta2_Caulobacter/models/Caulobacter2D/assets\n",
      "300/300 [==============================] - 220s 734ms/step - loss: 6.4800 - unstack_acc: 0.9934 - val_loss: 5.5582 - val_unstack_acc: 0.9941\n",
      "Epoch 25/600\n"
     ]
    },
    {
     "name": "stderr",
     "output_type": "stream",
     "text": [
      "/scicore/home/vanvli0000/vanvli0000/mambaforge/envs/delta2_env/lib/python3.9/site-packages/delta/data.py:392: FutureWarning: `multichannel` is a deprecated argument name for `rescale`. It will be removed in version 1.0. Please use `channel_axis` instead.\n",
      "  I = trans.rescale(I, zoomlevel, mode=\"edge\", multichannel=False, order=order)\n"
     ]
    },
    {
     "name": "stdout",
     "output_type": "stream",
     "text": [
      "300/300 [==============================] - ETA: 0s - loss: 6.4684 - unstack_acc: 0.9934\n",
      "Epoch 25: loss improved from 6.48001 to 6.46839, saving model to /scicore/home/vanvli0000/vanvli0000/home/Delta2_Caulobacter/models/Caulobacter2D\n",
      "INFO:tensorflow:Assets written to: /scicore/home/vanvli0000/vanvli0000/home/Delta2_Caulobacter/models/Caulobacter2D/assets\n",
      "300/300 [==============================] - 221s 737ms/step - loss: 6.4684 - unstack_acc: 0.9934 - val_loss: 5.4643 - val_unstack_acc: 0.9951\n",
      "Epoch 26/600\n"
     ]
    },
    {
     "name": "stderr",
     "output_type": "stream",
     "text": [
      "/scicore/home/vanvli0000/vanvli0000/mambaforge/envs/delta2_env/lib/python3.9/site-packages/delta/data.py:392: FutureWarning: `multichannel` is a deprecated argument name for `rescale`. It will be removed in version 1.0. Please use `channel_axis` instead.\n",
      "  I = trans.rescale(I, zoomlevel, mode=\"edge\", multichannel=False, order=order)\n"
     ]
    },
    {
     "name": "stdout",
     "output_type": "stream",
     "text": [
      "300/300 [==============================] - ETA: 0s - loss: 6.4525 - unstack_acc: 0.9932\n",
      "Epoch 26: loss improved from 6.46839 to 6.45249, saving model to /scicore/home/vanvli0000/vanvli0000/home/Delta2_Caulobacter/models/Caulobacter2D\n",
      "INFO:tensorflow:Assets written to: /scicore/home/vanvli0000/vanvli0000/home/Delta2_Caulobacter/models/Caulobacter2D/assets\n",
      "300/300 [==============================] - 220s 736ms/step - loss: 6.4525 - unstack_acc: 0.9932 - val_loss: 6.2436 - val_unstack_acc: 0.9924\n",
      "Epoch 27/600\n"
     ]
    },
    {
     "name": "stderr",
     "output_type": "stream",
     "text": [
      "/scicore/home/vanvli0000/vanvli0000/mambaforge/envs/delta2_env/lib/python3.9/site-packages/delta/data.py:392: FutureWarning: `multichannel` is a deprecated argument name for `rescale`. It will be removed in version 1.0. Please use `channel_axis` instead.\n",
      "  I = trans.rescale(I, zoomlevel, mode=\"edge\", multichannel=False, order=order)\n"
     ]
    },
    {
     "name": "stdout",
     "output_type": "stream",
     "text": [
      "300/300 [==============================] - ETA: 0s - loss: 6.5639 - unstack_acc: 0.9931\n",
      "Epoch 27: loss did not improve from 6.45249\n",
      "300/300 [==============================] - 217s 723ms/step - loss: 6.5639 - unstack_acc: 0.9931 - val_loss: 5.1168 - val_unstack_acc: 0.9950\n",
      "Epoch 28/600\n",
      "300/300 [==============================] - ETA: 0s - loss: 6.4891 - unstack_acc: 0.9934\n",
      "Epoch 28: loss did not improve from 6.45249\n",
      "300/300 [==============================] - 215s 719ms/step - loss: 6.4891 - unstack_acc: 0.9934 - val_loss: 6.4053 - val_unstack_acc: 0.9919\n",
      "Epoch 29/600\n",
      "300/300 [==============================] - ETA: 0s - loss: 6.2385 - unstack_acc: 0.9936\n",
      "Epoch 29: loss improved from 6.45249 to 6.23849, saving model to /scicore/home/vanvli0000/vanvli0000/home/Delta2_Caulobacter/models/Caulobacter2D\n",
      "INFO:tensorflow:Assets written to: /scicore/home/vanvli0000/vanvli0000/home/Delta2_Caulobacter/models/Caulobacter2D/assets\n",
      "300/300 [==============================] - 227s 758ms/step - loss: 6.2385 - unstack_acc: 0.9936 - val_loss: 5.9211 - val_unstack_acc: 0.9931\n",
      "Epoch 30/600\n"
     ]
    },
    {
     "name": "stderr",
     "output_type": "stream",
     "text": [
      "/scicore/home/vanvli0000/vanvli0000/mambaforge/envs/delta2_env/lib/python3.9/site-packages/delta/data.py:392: FutureWarning: `multichannel` is a deprecated argument name for `rescale`. It will be removed in version 1.0. Please use `channel_axis` instead.\n",
      "  I = trans.rescale(I, zoomlevel, mode=\"edge\", multichannel=False, order=order)\n"
     ]
    },
    {
     "name": "stdout",
     "output_type": "stream",
     "text": [
      "300/300 [==============================] - ETA: 0s - loss: 6.3428 - unstack_acc: 0.9935\n",
      "Epoch 30: loss did not improve from 6.23849\n",
      "300/300 [==============================] - 217s 725ms/step - loss: 6.3428 - unstack_acc: 0.9935 - val_loss: 5.6056 - val_unstack_acc: 0.9946\n",
      "Epoch 31/600\n",
      "300/300 [==============================] - ETA: 0s - loss: 6.4561 - unstack_acc: 0.9932\n",
      "Epoch 31: loss did not improve from 6.23849\n",
      "300/300 [==============================] - 217s 724ms/step - loss: 6.4561 - unstack_acc: 0.9932 - val_loss: 7.7563 - val_unstack_acc: 0.9952\n",
      "Epoch 32/600\n",
      "279/300 [==========================>...] - ETA: 14s - loss: 6.8339 - unstack_acc: 0.9930"
     ]
    }
   ],
   "source": [
    "# Train:\n",
    "history = model.fit(\n",
    "    gen_train,\n",
    "    steps_per_epoch=steps_per_epoch,\n",
    "    epochs=epochs,\n",
    "    validation_data=gen_validate,\n",
    "    validation_steps=10,\n",
    "    callbacks=[model_checkpoint, early_stopping, tensor_board]\n",
    "    )"
   ]
  }
 ],
 "metadata": {
  "kernelspec": {
   "display_name": "Python 3 (ipykernel)",
   "language": "python",
   "name": "python3"
  },
  "language_info": {
   "codemirror_mode": {
    "name": "ipython",
    "version": 3
   },
   "file_extension": ".py",
   "mimetype": "text/x-python",
   "name": "python",
   "nbconvert_exporter": "python",
   "pygments_lexer": "ipython3",
   "version": "3.9.10"
  },
  "vscode": {
   "interpreter": {
    "hash": "d42f0a35d8b9434264bb954a13c4045ab25bdf3d5d7870184404ce58dc1d3698"
   }
  }
 },
 "nbformat": 4,
 "nbformat_minor": 4
}
