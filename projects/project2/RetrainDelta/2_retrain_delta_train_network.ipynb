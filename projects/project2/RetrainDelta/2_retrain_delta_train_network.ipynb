{
 "cells": [
  {
   "cell_type": "code",
   "execution_count": 1,
   "metadata": {},
   "outputs": [],
   "source": [
    "%load_ext tensorboard\n",
    "\n",
    "import os\n",
    "from tensorflow.keras.callbacks import ModelCheckpoint, EarlyStopping, TensorBoard\n",
    "\n",
    "from delta.assets import download_assets\n",
    "from delta.utilities import cfg\n",
    "from delta.model import unet_seg\n",
    "from delta.data import trainGenerator_seg, seg_weights\n",
    "\n",
    "import pathlib\n",
    "\n",
    "import datetime\n"
   ]
  },
  {
   "cell_type": "code",
   "execution_count": 2,
   "metadata": {},
   "outputs": [],
   "source": [
    "def to_str(posixpath):\n",
    "    return str(posixpath.resolve())  "
   ]
  },
  {
   "cell_type": "code",
   "execution_count": 3,
   "metadata": {},
   "outputs": [
    {
     "data": {
      "text/plain": [
       "[PhysicalDevice(name='/physical_device:CPU:0', device_type='CPU'),\n",
       " PhysicalDevice(name='/physical_device:GPU:0', device_type='GPU')]"
      ]
     },
     "execution_count": 3,
     "metadata": {},
     "output_type": "execute_result"
    }
   ],
   "source": [
    "import tensorflow as tf\n",
    "tf.config.list_physical_devices()"
   ]
  },
  {
   "cell_type": "code",
   "execution_count": 14,
   "metadata": {},
   "outputs": [
    {
     "name": "stdout",
     "output_type": "stream",
     "text": [
      "/scicore/home/vanvli0000/vanvli0000/home/Delta2_Caulobacter/tf_log/fit_2022-06-22-16:20\n"
     ]
    }
   ],
   "source": [
    "root = pathlib.Path(pathlib.Path.home(), 'home', 'Delta2_Caulobacter')\n",
    "data_dir = root / 'data'\n",
    "model_dir = root / 'models'\n",
    "\n",
    "log_dir = root / 'tf_log' \n",
    "log_dir.mkdir(exist_ok=True) \n",
    "\n",
    "log_file = to_str(log_dir / 'fit_2022-06-22-16:20')\n",
    "print(log_file)\n",
    "\n",
    "new_config_filename = root / 'config_2D_caulobacter.json'\n",
    "\n",
    "training_set = data_dir / 'training'\n",
    "validation_set = data_dir / 'validation'\n",
    "\n",
    "savefile = model_dir / 'unet_caulobacter2d_seg.hdf5'"
   ]
  },
  {
   "cell_type": "code",
   "execution_count": 6,
   "metadata": {},
   "outputs": [
    {
     "name": "stdout",
     "output_type": "stream",
     "text": [
      "Loading configuration from: /scicore/home/vanvli0000/vanvli0000/home/Delta2_Caulobacter/config_2D_caulobacter.json\n"
     ]
    }
   ],
   "source": [
    "# Load config:\n",
    "cfg.load_config(new_config_filename)\n",
    "\n",
    "# Training parameters:\n",
    "batch_size = 4\n",
    "epochs = 600\n",
    "steps_per_epoch = 300\n",
    "validation_steps = 46 #set such that batch size * validation_steps equals number of validation images\n",
    "patience = 50\n",
    "\n",
    "#Data generator parameters:\n",
    "data_gen_args = dict(\n",
    "    rotation = 2,\n",
    "    rotations_90d = True,\n",
    "    zoom=.15,\n",
    "    horizontal_flip=True,\n",
    "    vertical_flip=True,\n",
    "    histogram_voodoo=True,\n",
    "    illumination_voodoo=True,\n",
    "    gaussian_noise = 0.03,\n",
    "    gaussian_blur = 1\n",
    "    )\n",
    "\n",
    "# Generator init:\n",
    "gen_train = trainGenerator_seg(\n",
    "    batch_size,\n",
    "    os.path.join(to_str(training_set),'img'),\n",
    "    os.path.join(to_str(training_set),'seg'),\n",
    "    os.path.join(to_str(training_set),'wei'),\n",
    "    augment_params = data_gen_args,\n",
    "    target_size = cfg.target_size_seg,\n",
    "    crop_windows = cfg.crop_windows\n",
    "    )\n",
    "\n",
    "gen_validate = trainGenerator_seg(\n",
    "    batch_size,\n",
    "    os.path.join(validation_set,'img'),\n",
    "    os.path.join(validation_set,'seg'),\n",
    "    os.path.join(validation_set,'wei'),\n",
    "    target_size = cfg.target_size_seg,\n",
    "    crop_windows = cfg.crop_windows\n",
    "    )"
   ]
  },
  {
   "cell_type": "code",
   "execution_count": 19,
   "metadata": {},
   "outputs": [],
   "source": [
    "# Define model:\n",
    "model = unet_seg(input_size = cfg.target_size_seg+(1,), pretrained_weights=cfg.model_file_seg)\n",
    "#model.summary()"
   ]
  },
  {
   "cell_type": "code",
   "execution_count": 20,
   "metadata": {},
   "outputs": [],
   "source": [
    "#Optional: load weights from previous checkpoint\n",
    "model.load_weights(to_str(savefile))"
   ]
  },
  {
   "cell_type": "code",
   "execution_count": 9,
   "metadata": {},
   "outputs": [],
   "source": [
    "a,b = next(gen_validate)"
   ]
  },
  {
   "cell_type": "code",
   "execution_count": 10,
   "metadata": {},
   "outputs": [
    {
     "data": {
      "text/plain": [
       "(4, 512, 512, 2)"
      ]
     },
     "execution_count": 10,
     "metadata": {},
     "output_type": "execute_result"
    }
   ],
   "source": [
    "b.shape"
   ]
  },
  {
   "cell_type": "code",
   "execution_count": 21,
   "metadata": {},
   "outputs": [],
   "source": [
    "# Callbacks:\n",
    "model_checkpoint = ModelCheckpoint(\n",
    "    to_str(savefile), \n",
    "    monitor='val_loss', \n",
    "    verbose=2, \n",
    "    save_best_only=True, \n",
    "    save_weights_only=True\n",
    "    )\n",
    "\n",
    "early_stopping = EarlyStopping(\n",
    "    monitor='val_loss', \n",
    "    mode='min', \n",
    "    verbose=2, \n",
    "    patience=patience\n",
    "    )\n",
    "\n",
    "tensor_board = TensorBoard(log_dir=log_file, histogram_freq=1)"
   ]
  },
  {
   "cell_type": "code",
   "execution_count": 16,
   "metadata": {},
   "outputs": [
    {
     "name": "stdout",
     "output_type": "stream",
     "text": [
      "/scicore/home/vanvli0000/vanvli0000/home/Delta2_Caulobacter/tf_log/fit_2022-06-22-16:20\n"
     ]
    }
   ],
   "source": [
    "print(log_file)"
   ]
  },
  {
   "cell_type": "code",
   "execution_count": null,
   "metadata": {},
   "outputs": [
    {
     "name": "stdout",
     "output_type": "stream",
     "text": [
      "Epoch 1/600\n",
      "300/300 [==============================] - ETA: 0s - loss: 8.2723 - unstack_acc: 0.9925\n",
      "Epoch 1: val_loss improved from inf to 6.04479, saving model to /scicore/home/vanvli0000/vanvli0000/home/Delta2_Caulobacter/models/unet_caulobacter2d_seg.hdf5\n",
      "300/300 [==============================] - 223s 739ms/step - loss: 8.2723 - unstack_acc: 0.9925 - val_loss: 6.0448 - val_unstack_acc: 0.9942\n",
      "Epoch 2/600\n",
      "300/300 [==============================] - ETA: 0s - loss: 7.4877 - unstack_acc: 0.9929\n",
      "Epoch 2: val_loss improved from 6.04479 to 5.89992, saving model to /scicore/home/vanvli0000/vanvli0000/home/Delta2_Caulobacter/models/unet_caulobacter2d_seg.hdf5\n",
      "300/300 [==============================] - 223s 745ms/step - loss: 7.4877 - unstack_acc: 0.9929 - val_loss: 5.8999 - val_unstack_acc: 0.9947\n",
      "Epoch 3/600\n",
      "300/300 [==============================] - ETA: 0s - loss: 7.3746 - unstack_acc: 0.9929\n",
      "Epoch 3: val_loss improved from 5.89992 to 5.51987, saving model to /scicore/home/vanvli0000/vanvli0000/home/Delta2_Caulobacter/models/unet_caulobacter2d_seg.hdf5\n",
      "300/300 [==============================] - 221s 738ms/step - loss: 7.3746 - unstack_acc: 0.9929 - val_loss: 5.5199 - val_unstack_acc: 0.9941\n",
      "Epoch 4/600\n",
      "104/300 [=========>....................] - ETA: 2:18 - loss: 7.4536 - unstack_acc: 0.9929"
     ]
    }
   ],
   "source": [
    "# Train:\n",
    "history = model.fit(\n",
    "    gen_train,\n",
    "    steps_per_epoch=steps_per_epoch,\n",
    "    epochs=epochs,\n",
    "    validation_data=gen_validate,\n",
    "    validation_steps=validation_steps,\n",
    "    callbacks=[model_checkpoint, early_stopping, tensor_board]\n",
    "    )"
   ]
  }
 ],
 "metadata": {
  "kernelspec": {
   "display_name": "Python 3 (ipykernel)",
   "language": "python",
   "name": "python3"
  },
  "language_info": {
   "codemirror_mode": {
    "name": "ipython",
    "version": 3
   },
   "file_extension": ".py",
   "mimetype": "text/x-python",
   "name": "python",
   "nbconvert_exporter": "python",
   "pygments_lexer": "ipython3",
   "version": "3.9.10"
  },
  "vscode": {
   "interpreter": {
    "hash": "d42f0a35d8b9434264bb954a13c4045ab25bdf3d5d7870184404ce58dc1d3698"
   }
  }
 },
 "nbformat": 4,
 "nbformat_minor": 4
}
