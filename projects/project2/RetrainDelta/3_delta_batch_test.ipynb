{
 "cells": [
  {
   "cell_type": "markdown",
   "metadata": {},
   "source": [
    "# Test batch processing with Delta\n",
    "\n",
    "This is a notebook to test the delta_batch_process script. \n",
    "\n",
    "Run this notebook to make sure you can read your files.\n",
    "\n",
    "Then process them using the equivalent script `delta_batch_process.py`. \n",
    "\n",
    "You can run this on a cluster by submitting `slurm_delta_batch.sh` using sbatch.\n",
    "\n"
   ]
  },
  {
   "cell_type": "code",
   "execution_count": 1,
   "metadata": {},
   "outputs": [],
   "source": [
    "\n",
    "import pathlib\n",
    "import delta.config as cfg\n",
    "from delta.utilities import xpreader\n",
    "from delta.pipeline import Pipeline\n",
    "import tensorflow as tf\n"
   ]
  },
  {
   "cell_type": "code",
   "execution_count": 2,
   "metadata": {},
   "outputs": [
    {
     "name": "stdout",
     "output_type": "stream",
     "text": [
      "[PhysicalDevice(name='/physical_device:CPU:0', device_type='CPU')]\n"
     ]
    },
    {
     "name": "stderr",
     "output_type": "stream",
     "text": [
      "2022-06-23 08:33:49.238558: W tensorflow/stream_executor/platform/default/dso_loader.cc:64] Could not load dynamic library 'libcuda.so.1'; dlerror: libcuda.so.1: cannot open shared object file: No such file or directory; LD_LIBRARY_PATH: /scicore/home/vanvli0000/vanvli0000/mambaforge/envs/delta2_env/lib/python3.9/site-packages/cv2/../../lib64:/scicore/home/vanvli0000/vanvli0000/mambaforge/envs/delta2_env/lib/\n",
      "2022-06-23 08:33:49.238668: W tensorflow/stream_executor/cuda/cuda_driver.cc:269] failed call to cuInit: UNKNOWN ERROR (303)\n",
      "2022-06-23 08:33:49.238725: I tensorflow/stream_executor/cuda/cuda_diagnostics.cc:156] kernel driver does not appear to be running on this host (shi125.cluster.bc2.ch): /proc/driver/nvidia/version does not exist\n"
     ]
    }
   ],
   "source": [
    "dev = tf.config.list_physical_devices()\n",
    "print(dev)"
   ]
  },
  {
   "cell_type": "code",
   "execution_count": 3,
   "metadata": {},
   "outputs": [],
   "source": [
    "\n",
    "def to_str(posixpath):\n",
    "    return str(posixpath.resolve())   \n"
   ]
  },
  {
   "cell_type": "code",
   "execution_count": 5,
   "metadata": {},
   "outputs": [
    {
     "name": "stdout",
     "output_type": "stream",
     "text": [
      "AKS1088\n",
      "AKS1089\n",
      "AKS1090\n",
      "AKS1091\n",
      "AKS1092\n",
      "AKS1093\n",
      "AKS1094\n",
      "AKS1095\n",
      "AKS1096\n",
      "AKS1097\n",
      "AKS1098\n",
      "AKS1099\n",
      "AKS1101\n",
      "AKS1102\n",
      "AKS1103\n",
      "AKS1104\n",
      "AKS1105\n",
      "AKS1106\n"
     ]
    }
   ],
   "source": [
    "\n",
    "#set paths\n",
    "root = pathlib.Path(pathlib.Path.home(), 'home', 'Delta2_Caulobacter')\n",
    "data_dir = root / 'data' / 'rawdata'\n",
    "\n",
    "#create output dir\n",
    "output_root = root / 'processed_data'\n",
    "(output_root).mkdir(exist_ok=True) #create output data folder,  each position will be placed in a subfolder\n",
    "\n",
    "#find subfolders\n",
    "folder_names = [f.name for f in sorted(data_dir.glob('AKS*'))]\n",
    "\n",
    "for f in folder_names: print(f)"
   ]
  },
  {
   "cell_type": "code",
   "execution_count": 17,
   "metadata": {},
   "outputs": [
    {
     "name": "stdout",
     "output_type": "stream",
     "text": [
      "/scicore/home/vanvli0000/vanvli0000/home/Delta2_Caulobacter/processed_data\n"
     ]
    }
   ],
   "source": [
    "print(output_root)"
   ]
  },
  {
   "cell_type": "code",
   "execution_count": 7,
   "metadata": {},
   "outputs": [
    {
     "name": "stdout",
     "output_type": "stream",
     "text": [
      "Loading configuration from: /scicore/home/vanvli0000/vanvli0000/home/Delta2_Caulobacter/config_2D_caulobacter.json\n"
     ]
    }
   ],
   "source": [
    "#get config file\n",
    "#make sure you adapt the model paths in the json file!\n",
    "config_file = root / 'config_2D_caulobacter.json'\n",
    "cfg.load_config(config_file)\n",
    "cfg.save_format = ('pickle','movie')"
   ]
  },
  {
   "cell_type": "code",
   "execution_count": 8,
   "metadata": {},
   "outputs": [
    {
     "name": "stdout",
     "output_type": "stream",
     "text": [
      "['20220311_AKS1088-1093_dense_TL01_01_R3D-1.tif', '20220311_AKS1088-1093_dense_TL01_02_R3D-1.tif', '20220311_AKS1088-1093_dense_TL01_03_R3D-1.tif', '20220311_AKS1088-1093_dense_TL01_04_R3D-1.tif', '20220311_AKS1088-1093_dense_TL01_05_R3D-1.tif']\n"
     ]
    }
   ],
   "source": [
    "folder = folder_names[0]\n",
    "movie_names = [f.name for f in sorted((data_dir / folder).glob('*.tif*'))]\n",
    "print(movie_names)"
   ]
  },
  {
   "cell_type": "code",
   "execution_count": 20,
   "metadata": {},
   "outputs": [
    {
     "name": "stdout",
     "output_type": "stream",
     "text": [
      "TL01_01\n"
     ]
    }
   ],
   "source": [
    "movie = movie_names[0]\n",
    "#path to current position\n",
    "movie_dir = data_dir / folder / movie\n",
    "\n"
   ]
  },
  {
   "cell_type": "code",
   "execution_count": 13,
   "metadata": {},
   "outputs": [
    {
     "name": "stdout",
     "output_type": "stream",
     "text": [
      "08:44:03.389 [Thread-0] DEBUG loci.formats.ClassList - Could not find loci.formats.in.URLReader\n",
      "java.lang.ClassNotFoundException: loci.formats.in.URLReader\n",
      "\tat java.base/jdk.internal.loader.BuiltinClassLoader.loadClass(BuiltinClassLoader.java:583) ~[na:na]\n",
      "\tat java.base/jdk.internal.loader.ClassLoaders$AppClassLoader.loadClass(ClassLoaders.java:178) ~[na:na]\n",
      "\tat java.base/java.lang.ClassLoader.loadClass(ClassLoader.java:521) ~[na:na]\n",
      "\tat java.base/java.lang.Class.forName0(Native Method) ~[na:na]\n",
      "\tat java.base/java.lang.Class.forName(Class.java:315) ~[na:na]\n",
      "\tat loci.formats.ClassList.parseLine(ClassList.java:196) ~[bioformats_package.jar:6.6.0]\n",
      "\tat loci.formats.ClassList.parseFile(ClassList.java:258) ~[bioformats_package.jar:6.6.0]\n",
      "\tat loci.formats.ClassList.<init>(ClassList.java:138) ~[bioformats_package.jar:6.6.0]\n",
      "08:44:03.390 [Thread-0] DEBUG loci.formats.ClassList - Could not find loci.formats.in.SlideBook6Reader\n",
      "java.lang.ClassNotFoundException: loci.formats.in.SlideBook6Reader\n",
      "\tat java.base/jdk.internal.loader.BuiltinClassLoader.loadClass(BuiltinClassLoader.java:583) ~[na:na]\n",
      "\tat java.base/jdk.internal.loader.ClassLoaders$AppClassLoader.loadClass(ClassLoaders.java:178) ~[na:na]\n",
      "\tat java.base/java.lang.ClassLoader.loadClass(ClassLoader.java:521) ~[na:na]\n",
      "\tat java.base/java.lang.Class.forName0(Native Method) ~[na:na]\n",
      "\tat java.base/java.lang.Class.forName(Class.java:315) ~[na:na]\n",
      "\tat loci.formats.ClassList.parseLine(ClassList.java:196) ~[bioformats_package.jar:6.6.0]\n",
      "\tat loci.formats.ClassList.parseFile(ClassList.java:258) ~[bioformats_package.jar:6.6.0]\n",
      "\tat loci.formats.ClassList.<init>(ClassList.java:138) ~[bioformats_package.jar:6.6.0]\n",
      "08:44:03.391 [Thread-0] DEBUG loci.formats.ClassList - Could not find loci.formats.in.ScreenReader\n",
      "java.lang.ClassNotFoundException: loci.formats.in.ScreenReader\n",
      "\tat java.base/jdk.internal.loader.BuiltinClassLoader.loadClass(BuiltinClassLoader.java:583) ~[na:na]\n",
      "\tat java.base/jdk.internal.loader.ClassLoaders$AppClassLoader.loadClass(ClassLoaders.java:178) ~[na:na]\n",
      "\tat java.base/java.lang.ClassLoader.loadClass(ClassLoader.java:521) ~[na:na]\n",
      "\tat java.base/java.lang.Class.forName0(Native Method) ~[na:na]\n",
      "\tat java.base/java.lang.Class.forName(Class.java:315) ~[na:na]\n",
      "\tat loci.formats.ClassList.parseLine(ClassList.java:196) ~[bioformats_package.jar:6.6.0]\n",
      "\tat loci.formats.ClassList.parseFile(ClassList.java:258) ~[bioformats_package.jar:6.6.0]\n",
      "\tat loci.formats.ClassList.<init>(ClassList.java:138) ~[bioformats_package.jar:6.6.0]\n",
      "08:44:03.392 [Thread-0] DEBUG loci.formats.ClassList - Could not find loci.formats.in.ZarrReader\n",
      "java.lang.ClassNotFoundException: loci.formats.in.ZarrReader\n",
      "\tat java.base/jdk.internal.loader.BuiltinClassLoader.loadClass(BuiltinClassLoader.java:583) ~[na:na]\n",
      "\tat java.base/jdk.internal.loader.ClassLoaders$AppClassLoader.loadClass(ClassLoaders.java:178) ~[na:na]\n",
      "\tat java.base/java.lang.ClassLoader.loadClass(ClassLoader.java:521) ~[na:na]\n",
      "\tat java.base/java.lang.Class.forName0(Native Method) ~[na:na]\n",
      "\tat java.base/java.lang.Class.forName(Class.java:315) ~[na:na]\n",
      "\tat loci.formats.ClassList.parseLine(ClassList.java:196) ~[bioformats_package.jar:6.6.0]\n",
      "\tat loci.formats.ClassList.parseFile(ClassList.java:258) ~[bioformats_package.jar:6.6.0]\n",
      "\tat loci.formats.ClassList.<init>(ClassList.java:138) ~[bioformats_package.jar:6.6.0]\n",
      "08:44:03.436 [Thread-0] DEBUG loci.formats.FormatHandler - TiffReader initializing /scicore/home/vanvli0000/vanvli0000/home/Delta2_Caulobacter/data/rawdata/AKS1088/20220311_AKS1088-1093_dense_TL01_01_R3D-1.tif\n",
      "08:44:03.436 [Thread-0] DEBUG loci.formats.FormatHandler - loci.formats.in.TiffReader.initFile(/scicore/home/vanvli0000/vanvli0000/home/Delta2_Caulobacter/data/rawdata/AKS1088/20220311_AKS1088-1093_dense_TL01_01_R3D-1.tif)\n",
      "08:44:03.437 [Thread-0] INFO  loci.formats.in.MinimalTiffReader - Reading IFDs\n",
      "08:44:03.459 [Thread-0] INFO  loci.formats.in.MinimalTiffReader - Populating metadata\n",
      "08:44:03.459 [Thread-0] INFO  loci.formats.in.TiffReader - Checking comment style\n",
      "08:44:03.469 [Thread-0] INFO  loci.formats.in.BaseTiffReader - Populating OME metadata\n",
      "08:44:03.474 [Thread-0] DEBUG loci.formats.ClassList - Could not find loci.formats.in.URLReader\n",
      "java.lang.ClassNotFoundException: loci.formats.in.URLReader\n",
      "\tat java.base/jdk.internal.loader.BuiltinClassLoader.loadClass(BuiltinClassLoader.java:583) ~[na:na]\n",
      "\tat java.base/jdk.internal.loader.ClassLoaders$AppClassLoader.loadClass(ClassLoaders.java:178) ~[na:na]\n",
      "\tat java.base/java.lang.ClassLoader.loadClass(ClassLoader.java:521) ~[na:na]\n",
      "\tat java.base/java.lang.Class.forName0(Native Method) ~[na:na]\n",
      "\tat java.base/java.lang.Class.forName(Class.java:315) ~[na:na]\n",
      "\tat loci.formats.ClassList.parseLine(ClassList.java:196) ~[bioformats_package.jar:6.6.0]\n",
      "\tat loci.formats.ClassList.parseFile(ClassList.java:258) ~[bioformats_package.jar:6.6.0]\n",
      "\tat loci.formats.ClassList.<init>(ClassList.java:138) ~[bioformats_package.jar:6.6.0]\n",
      "08:44:03.475 [Thread-0] DEBUG loci.formats.ClassList - Could not find loci.formats.in.SlideBook6Reader\n",
      "java.lang.ClassNotFoundException: loci.formats.in.SlideBook6Reader\n",
      "\tat java.base/jdk.internal.loader.BuiltinClassLoader.loadClass(BuiltinClassLoader.java:583) ~[na:na]\n",
      "\tat java.base/jdk.internal.loader.ClassLoaders$AppClassLoader.loadClass(ClassLoaders.java:178) ~[na:na]\n",
      "\tat java.base/java.lang.ClassLoader.loadClass(ClassLoader.java:521) ~[na:na]\n",
      "\tat java.base/java.lang.Class.forName0(Native Method) ~[na:na]\n",
      "\tat java.base/java.lang.Class.forName(Class.java:315) ~[na:na]\n",
      "\tat loci.formats.ClassList.parseLine(ClassList.java:196) ~[bioformats_package.jar:6.6.0]\n",
      "\tat loci.formats.ClassList.parseFile(ClassList.java:258) ~[bioformats_package.jar:6.6.0]\n",
      "\tat loci.formats.ClassList.<init>(ClassList.java:138) ~[bioformats_package.jar:6.6.0]\n",
      "08:44:03.475 [Thread-0] DEBUG loci.formats.ClassList - Could not find loci.formats.in.ScreenReader\n",
      "java.lang.ClassNotFoundException: loci.formats.in.ScreenReader\n",
      "\tat java.base/jdk.internal.loader.BuiltinClassLoader.loadClass(BuiltinClassLoader.java:583) ~[na:na]\n",
      "\tat java.base/jdk.internal.loader.ClassLoaders$AppClassLoader.loadClass(ClassLoaders.java:178) ~[na:na]\n",
      "\tat java.base/java.lang.ClassLoader.loadClass(ClassLoader.java:521) ~[na:na]\n",
      "\tat java.base/java.lang.Class.forName0(Native Method) ~[na:na]\n",
      "\tat java.base/java.lang.Class.forName(Class.java:315) ~[na:na]\n",
      "\tat loci.formats.ClassList.parseLine(ClassList.java:196) ~[bioformats_package.jar:6.6.0]\n",
      "\tat loci.formats.ClassList.parseFile(ClassList.java:258) ~[bioformats_package.jar:6.6.0]\n",
      "\tat loci.formats.ClassList.<init>(ClassList.java:138) ~[bioformats_package.jar:6.6.0]\n",
      "08:44:03.475 [Thread-0] DEBUG loci.formats.ClassList - Could not find loci.formats.in.ZarrReader\n",
      "java.lang.ClassNotFoundException: loci.formats.in.ZarrReader\n",
      "\tat java.base/jdk.internal.loader.BuiltinClassLoader.loadClass(BuiltinClassLoader.java:583) ~[na:na]\n",
      "\tat java.base/jdk.internal.loader.ClassLoaders$AppClassLoader.loadClass(ClassLoaders.java:178) ~[na:na]\n",
      "\tat java.base/java.lang.ClassLoader.loadClass(ClassLoader.java:521) ~[na:na]\n",
      "\tat java.base/java.lang.Class.forName0(Native Method) ~[na:na]\n",
      "\tat java.base/java.lang.Class.forName(Class.java:315) ~[na:na]\n",
      "\tat loci.formats.ClassList.parseLine(ClassList.java:196) ~[bioformats_package.jar:6.6.0]\n",
      "\tat loci.formats.ClassList.parseFile(ClassList.java:258) ~[bioformats_package.jar:6.6.0]\n",
      "\tat loci.formats.ClassList.<init>(ClassList.java:138) ~[bioformats_package.jar:6.6.0]\n",
      "08:44:03.513 [Thread-0] DEBUG loci.formats.FormatHandler - TiffReader initializing /scicore/home/vanvli0000/vanvli0000/home/Delta2_Caulobacter/data/rawdata/AKS1088/20220311_AKS1088-1093_dense_TL01_01_R3D-1.tif\n",
      "08:44:03.513 [Thread-0] DEBUG loci.formats.FormatHandler - loci.formats.in.TiffReader.initFile(/scicore/home/vanvli0000/vanvli0000/home/Delta2_Caulobacter/data/rawdata/AKS1088/20220311_AKS1088-1093_dense_TL01_01_R3D-1.tif)\n",
      "08:44:03.513 [Thread-0] INFO  loci.formats.in.MinimalTiffReader - Reading IFDs\n",
      "08:44:03.528 [Thread-0] INFO  loci.formats.in.MinimalTiffReader - Populating metadata\n",
      "08:44:03.528 [Thread-0] INFO  loci.formats.in.TiffReader - Checking comment style\n",
      "08:44:03.573 [Thread-0] INFO  loci.formats.in.BaseTiffReader - Populating OME metadata\n",
      "Initialized experiment reader:\n",
      "    - 1 positions\n",
      "    - 3 imaging channels\n",
      "    - 56 timepoints\n"
     ]
    }
   ],
   "source": [
    "#make subfolder for current position\n",
    "#create output subfolder\n",
    "output_path = output_root / folder\n",
    "(output_path).mkdir(exist_ok=True) #create output data folder,  each position will be placed in a subfolder\n",
    "    \n",
    "output_dir = output_path / movie\n",
    "(output_dir).mkdir(exist_ok=True)\n",
    "\n",
    "im_reader = xpreader(movie_dir, use_bioformats=True)\n",
    "# Print experiment parameters to make sure it initialized properly:\n",
    "print(\"\"\"Initialized experiment reader:\n",
    "    - %d positions\n",
    "    - %d imaging channels\n",
    "    - %d timepoints\"\"\"%(im_reader.positions, im_reader.channels, im_reader.timepoints)\n",
    ")\n",
    "    "
   ]
  },
  {
   "cell_type": "code",
   "execution_count": 14,
   "metadata": {},
   "outputs": [
    {
     "name": "stderr",
     "output_type": "stream",
     "text": [
      "2022-06-23 08:44:07.894166: I tensorflow/core/platform/cpu_feature_guard.cc:151] This TensorFlow binary is optimized with oneAPI Deep Neural Network Library (oneDNN) to use the following CPU instructions in performance-critical operations:  AVX2 AVX512F FMA\n",
      "To enable them in other operations, rebuild TensorFlow with the appropriate compiler flags.\n"
     ]
    }
   ],
   "source": [
    "xp = Pipeline(im_reader, resfolder=to_str(output_dir))  "
   ]
  },
  {
   "cell_type": "code",
   "execution_count": null,
   "metadata": {},
   "outputs": [],
   "source": [
    "xp.process(frames=list(range(4)))"
   ]
  },
  {
   "cell_type": "code",
   "execution_count": 12,
   "metadata": {},
   "outputs": [
    {
     "name": "stdout",
     "output_type": "stream",
     "text": [
      "starting with position  20220311_AKS1088-1093_dense_TL01_01_R3D-1.tif\n",
      "skipping postion 20220311_AKS1088-1093_dense_TL01_01_R3D-1.tif\n",
      "starting with position  20220311_AKS1088-1093_dense_TL01_02_R3D-1.tif\n",
      "skipping postion 20220311_AKS1088-1093_dense_TL01_02_R3D-1.tif\n",
      "starting with position  20220311_AKS1088-1093_dense_TL01_03_R3D-1.tif\n",
      "skipping postion 20220311_AKS1088-1093_dense_TL01_03_R3D-1.tif\n",
      "starting with position  20220311_AKS1088-1093_dense_TL01_04_R3D-1.tif\n",
      "skipping postion 20220311_AKS1088-1093_dense_TL01_04_R3D-1.tif\n",
      "starting with position  20220311_AKS1088-1093_dense_TL01_05_R3D-1.tif\n",
      "skipping postion 20220311_AKS1088-1093_dense_TL01_05_R3D-1.tif\n"
     ]
    }
   ],
   "source": [
    "#ignore this \n",
    "\n",
    "for folder in folder_names:\n",
    "    \n",
    "    #get images in subfolder\n",
    "    movie_names = [f.name for f in sorted((data_dir / folder).glob('*.tif*'))]\n",
    "\n",
    "    #create output subfolder\n",
    "    output_path = output_root / folder\n",
    "    (output_path).mkdir(exist_ok=True) #create output data folder,  each position will be placed in a subfolder\n",
    "\n",
    "    for movie in movie_names:        \n",
    "        #path to current position\n",
    "        movie_dir = data_dir / folder / movie\n",
    "        \n",
    "        #make nickname of movei (adapt to file name structure, here we take the part starting at TL and stopping before __R3D)\n",
    "        start = movie.find('TL')\n",
    "        end = movie.find('_R3D', start)\n",
    "        movie_name_short = movie[start:end]\n",
    "        \n",
    "        #make subfolder for current position\n",
    "        output_dir = output_path / movie_name_short\n",
    "        (output_dir).mkdir(exist_ok=True)\n",
    "\n",
    "        try:  \n",
    "            print('starting with movie %s->%s' %(folder,movie_name_short)) \n",
    "            # Init reader (use bioformats=True if working with nd2, czi, ome-tiff etc):\n",
    "            im_reader = xpreader(movie_dir, use_bioformats=True)\n",
    "\n",
    "            # Print experiment parameters to make sure it initialized properly:\n",
    "            print(\"\"\"Initialized experiment reader:\n",
    "                - %d positions\n",
    "                - %d imaging channels\n",
    "                - %d timepoints\"\"\"%(im_reader.positions, im_reader.channels, im_reader.timepoints)\n",
    "            )\n",
    "\n",
    "            # Init pipeline:\n",
    "            xp = Pipeline(im_reader, resfolder=to_str(output_dir))   \n",
    "\n",
    "            # Run it (you can specify which positions, which frames to run etc):\n",
    "            # we skip running the pipeline and only test IO\n",
    "            # xp.process()\n",
    "            \n",
    "        except:\n",
    "            print('error with movie %s->%s, skipping to next' %(folder,movie_name_short)) \n"
   ]
  }
 ],
 "metadata": {
  "kernelspec": {
   "display_name": "Python 3 (ipykernel)",
   "language": "python",
   "name": "python3"
  },
  "language_info": {
   "codemirror_mode": {
    "name": "ipython",
    "version": 3
   },
   "file_extension": ".py",
   "mimetype": "text/x-python",
   "name": "python",
   "nbconvert_exporter": "python",
   "pygments_lexer": "ipython3",
   "version": "3.9.10"
  }
 },
 "nbformat": 4,
 "nbformat_minor": 4
}
