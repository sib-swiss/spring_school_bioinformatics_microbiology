{
 "cells": [
  {
   "cell_type": "code",
   "execution_count": 4,
   "metadata": {},
   "outputs": [],
   "source": [
    "from delta.data import seg_weights\n",
    "import pathlib\n",
    "import h5py\n",
    "import numpy as np\n",
    "import tifffile"
   ]
  },
  {
   "cell_type": "markdown",
   "metadata": {},
   "source": [
    "The seg_weights function of delta is super slow, so this code will take a while to run!"
   ]
  },
  {
   "cell_type": "code",
   "execution_count": 5,
   "metadata": {},
   "outputs": [
    {
     "ename": "KeyboardInterrupt",
     "evalue": "",
     "output_type": "error",
     "traceback": [
      "\u001b[0;31m---------------------------------------------------------------------------\u001b[0m",
      "\u001b[0;31mKeyboardInterrupt\u001b[0m                         Traceback (most recent call last)",
      "\u001b[1;32m/Users/simonvanvliet/I2ICourse/spring_school_bioinformatics_microbiology/projects/project2/RetrainDelta/1_export_data_delta_training.ipynb Cell 3'\u001b[0m in \u001b[0;36m<cell line: 28>\u001b[0;34m()\u001b[0m\n\u001b[1;32m     <a href='vscode-notebook-cell:/Users/simonvanvliet/I2ICourse/spring_school_bioinformatics_microbiology/projects/project2/RetrainDelta/1_export_data_delta_training.ipynb#ch0000014?line=32'>33</a>\u001b[0m     tifffile\u001b[39m.\u001b[39mimwrite(im_name, im)\n\u001b[1;32m     <a href='vscode-notebook-cell:/Users/simonvanvliet/I2ICourse/spring_school_bioinformatics_microbiology/projects/project2/RetrainDelta/1_export_data_delta_training.ipynb#ch0000014?line=33'>34</a>\u001b[0m     tifffile\u001b[39m.\u001b[39mimwrite(lab_name, mask)\n\u001b[0;32m---> <a href='vscode-notebook-cell:/Users/simonvanvliet/I2ICourse/spring_school_bioinformatics_microbiology/projects/project2/RetrainDelta/1_export_data_delta_training.ipynb#ch0000014?line=34'>35</a>\u001b[0m     tifffile\u001b[39m.\u001b[39mimwrite(wei_name, seg_weights(mask))    \n\u001b[1;32m     <a href='vscode-notebook-cell:/Users/simonvanvliet/I2ICourse/spring_school_bioinformatics_microbiology/projects/project2/RetrainDelta/1_export_data_delta_training.ipynb#ch0000014?line=37'>38</a>\u001b[0m \u001b[39mfor\u001b[39;00m idx, (mask, im) \u001b[39min\u001b[39;00m \u001b[39menumerate\u001b[39m(\u001b[39mzip\u001b[39m(mask_valid, image_valid)):\n\u001b[1;32m     <a href='vscode-notebook-cell:/Users/simonvanvliet/I2ICourse/spring_school_bioinformatics_microbiology/projects/project2/RetrainDelta/1_export_data_delta_training.ipynb#ch0000014?line=38'>39</a>\u001b[0m     im_name \u001b[39m=\u001b[39m validation_set \u001b[39m/\u001b[39m \u001b[39m'\u001b[39m\u001b[39mimg\u001b[39m\u001b[39m'\u001b[39m \u001b[39m/\u001b[39m (\u001b[39m'\u001b[39m\u001b[39mimg_\u001b[39m\u001b[39m%04i\u001b[39;00m\u001b[39m'\u001b[39m \u001b[39m%\u001b[39m idx)\n",
      "File \u001b[0;32m~/opt/miniconda3/envs/i2i_env/lib/python3.9/site-packages/delta/data.py:806\u001b[0m, in \u001b[0;36mseg_weights\u001b[0;34m(mask, classweights, w0, sigma)\u001b[0m\n\u001b[1;32m    804\u001b[0m distance_array \u001b[39m=\u001b[39m \u001b[39mfloat\u001b[39m(\u001b[39m\"\u001b[39m\u001b[39minf\u001b[39m\u001b[39m\"\u001b[39m) \u001b[39m*\u001b[39m np\u001b[39m.\u001b[39mones(mask\u001b[39m.\u001b[39mshape[\u001b[39m0\u001b[39m:\u001b[39m2\u001b[39m] \u001b[39m+\u001b[39m (\u001b[39mmax\u001b[39m(lblnb, \u001b[39m2\u001b[39m),))\n\u001b[1;32m    805\u001b[0m \u001b[39mfor\u001b[39;00m i \u001b[39min\u001b[39;00m \u001b[39mrange\u001b[39m(\u001b[39m0\u001b[39m, lblnb):\n\u001b[0;32m--> 806\u001b[0m     _, distance_array[:, :, i] \u001b[39m=\u001b[39m morph\u001b[39m.\u001b[39;49mmedial_axis(\n\u001b[1;32m    807\u001b[0m         (lblimg \u001b[39m==\u001b[39;49m i \u001b[39m+\u001b[39;49m \u001b[39m1\u001b[39;49m) \u001b[39m==\u001b[39;49m \u001b[39m0\u001b[39;49m, return_distance\u001b[39m=\u001b[39;49m\u001b[39mTrue\u001b[39;49;00m\n\u001b[1;32m    808\u001b[0m     )\n\u001b[1;32m    810\u001b[0m \u001b[39m# Keep 2 smallest only:\u001b[39;00m\n\u001b[1;32m    811\u001b[0m distance_array \u001b[39m=\u001b[39m np\u001b[39m.\u001b[39msort(distance_array, axis\u001b[39m=\u001b[39m\u001b[39m-\u001b[39m\u001b[39m1\u001b[39m)[:, :, \u001b[39m0\u001b[39m:\u001b[39m2\u001b[39m]\n",
      "File \u001b[0;32m~/opt/miniconda3/envs/i2i_env/lib/python3.9/site-packages/skimage/morphology/_skeletonize.py:501\u001b[0m, in \u001b[0;36mmedial_axis\u001b[0;34m(image, mask, return_distance, random_state)\u001b[0m\n\u001b[1;32m    495\u001b[0m \u001b[39m# Determine the order in which pixels are processed.\u001b[39;00m\n\u001b[1;32m    496\u001b[0m \u001b[39m# We use a random # for tiebreaking. Assign each pixel in the image a\u001b[39;00m\n\u001b[1;32m    497\u001b[0m \u001b[39m# predictable, random # so that masking doesn't affect arbitrary choices\u001b[39;00m\n\u001b[1;32m    498\u001b[0m \u001b[39m# of skeletons\u001b[39;00m\n\u001b[1;32m    499\u001b[0m \u001b[39m#\u001b[39;00m\n\u001b[1;32m    500\u001b[0m generator \u001b[39m=\u001b[39m np\u001b[39m.\u001b[39mrandom\u001b[39m.\u001b[39mdefault_rng(random_state)\n\u001b[0;32m--> 501\u001b[0m tiebreaker \u001b[39m=\u001b[39m generator\u001b[39m.\u001b[39;49mpermutation(np\u001b[39m.\u001b[39;49marange(masked_image\u001b[39m.\u001b[39;49msum()))\n\u001b[1;32m    502\u001b[0m order \u001b[39m=\u001b[39m np\u001b[39m.\u001b[39mlexsort((tiebreaker,\n\u001b[1;32m    503\u001b[0m                     corner_score[masked_image],\n\u001b[1;32m    504\u001b[0m                     distance))\n\u001b[1;32m    505\u001b[0m order \u001b[39m=\u001b[39m np\u001b[39m.\u001b[39mascontiguousarray(order, dtype\u001b[39m=\u001b[39mnp\u001b[39m.\u001b[39mint32)\n",
      "\u001b[0;31mKeyboardInterrupt\u001b[0m: "
     ]
    }
   ],
   "source": [
    "root = pathlib.Path(pathlib.Path.home(), 'Andreas', 'Delta2_Caulobacter')\n",
    "data_dir = root / 'data'\n",
    "\n",
    "training_file = data_dir /  'training_data_delta.hdf5'\n",
    "\n",
    "with h5py.File(training_file, 'r') as f:\n",
    "    mask_train = np.array(f['mask_train'])\n",
    "    mask_valid = np.array(f['mask_valid'])\n",
    "    image_train = np.array(f['image_train'])\n",
    "    image_valid = np.array(f['image_valid'])    \n",
    "    \n",
    "training_set = data_dir / 'training'\n",
    "validation_set = data_dir / 'validation'\n",
    "    \n",
    "training_set.mkdir(exist_ok=True)\n",
    "validation_set.mkdir(exist_ok=True)\n",
    "\n",
    "(training_set / 'img').mkdir(exist_ok=True)\n",
    "(training_set / 'seg').mkdir(exist_ok=True)\n",
    "(training_set / 'wei').mkdir(exist_ok=True)\n",
    "\n",
    "(validation_set / 'img').mkdir(exist_ok=True)\n",
    "(validation_set / 'seg').mkdir(exist_ok=True)\n",
    "(validation_set / 'wei').mkdir(exist_ok=True)\n",
    "\n",
    "\n",
    "#export training data to tiff    \n",
    "for idx, (mask, im) in enumerate(zip(mask_train, image_train)):\n",
    "    im_name = training_set / 'img' / ('img_%04i' % idx)\n",
    "    lab_name = training_set / 'seg' / ('img_%04i' % idx)\n",
    "    wei_name = training_set / 'wei' / ('img_%04i' % idx)\n",
    "    \n",
    "    tifffile.imwrite(im_name, im)\n",
    "    tifffile.imwrite(lab_name, mask)\n",
    "    tifffile.imwrite(wei_name, seg_weights(mask))    \n",
    "\n",
    "\n",
    "for idx, (mask, im) in enumerate(zip(mask_valid, image_valid)):\n",
    "    im_name = validation_set / 'img' / ('img_%04i' % idx)\n",
    "    lab_name = validation_set / 'seg' / ('img_%04i' % idx)\n",
    "    wei_name = validation_set / 'wei' / ('img_%04i' % idx)\n",
    "    \n",
    "    tifffile.imwrite(im_name, im)\n",
    "    tifffile.imwrite(lab_name, mask)\n",
    "    tifffile.imwrite(wei_name, seg_weights(mask))    \n",
    "                "
   ]
  }
 ],
 "metadata": {
  "kernelspec": {
   "display_name": "Python 3.9.12 ('i2i_env')",
   "language": "python",
   "name": "python3"
  },
  "language_info": {
   "codemirror_mode": {
    "name": "ipython",
    "version": 3
   },
   "file_extension": ".py",
   "mimetype": "text/x-python",
   "name": "python",
   "nbconvert_exporter": "python",
   "pygments_lexer": "ipython3",
   "version": "3.9.12"
  },
  "orig_nbformat": 4,
  "vscode": {
   "interpreter": {
    "hash": "04885f21a4bd9418df205c8169dbf35b8c72791b69b584ac7513023d01d78b79"
   }
  }
 },
 "nbformat": 4,
 "nbformat_minor": 2
}
