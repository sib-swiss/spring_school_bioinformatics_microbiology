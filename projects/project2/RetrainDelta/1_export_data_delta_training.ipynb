{
 "cells": [
  {
   "cell_type": "code",
   "execution_count": 1,
   "metadata": {},
   "outputs": [],
   "source": [
    "from delta.data import seg_weights_2D\n",
    "import pathlib\n",
    "import h5py\n",
    "import numpy as np\n",
    "import tifffile\n",
    "\n",
    "import dask.array as da\n"
   ]
  },
  {
   "cell_type": "code",
   "execution_count": 2,
   "metadata": {},
   "outputs": [
    {
     "name": "stdout",
     "output_type": "stream",
     "text": [
      "/Users/simonvanvliet/opt/miniconda3/envs/i2i_env/bin/python\n"
     ]
    }
   ],
   "source": [
    "!which python"
   ]
  },
  {
   "cell_type": "code",
   "execution_count": null,
   "metadata": {},
   "outputs": [],
   "source": [
    "def export_data(path, image, mask, weight):\n",
    "    for idx, (im, mask, wei) in enumerate(zip(image, mask, weight)):\n",
    "        im_name = path / 'img' / ('img_%04i' % idx)\n",
    "        lab_name = path / 'seg' / ('img_%04i' % idx)\n",
    "        wei_name = path / 'wei' / ('img_%04i' % idx)\n",
    "        \n",
    "        tifffile.imwrite(im_name, im)\n",
    "        tifffile.imwrite(lab_name, mask)\n",
    "        tifffile.imwrite(wei_name, wei)    \n",
    "    return None"
   ]
  },
  {
   "cell_type": "code",
   "execution_count": null,
   "metadata": {},
   "outputs": [],
   "source": [
    "root = pathlib.Path(pathlib.Path.home(), 'home', 'Delta2_Caulobacter')\n",
    "data_dir = root / 'data'\n",
    "\n",
    "training_file = data_dir /  'training_data_delta.hdf5'\n",
    "\n",
    "with h5py.File(training_file, 'r') as f:\n",
    "    chuck_size = (1, 3, *f['mask_train'].shape[-2:])\n",
    "    mask_train = da.from_array(f['mask_train'], chunks=chuck_size)\n",
    "    mask_valid = da.from_array(f['mask_valid'], chunks=chuck_size)\n",
    "    image_train = da.from_array(f['image_train'], chunks=chuck_size)\n",
    "    image_valid = da.from_array(f['image_valid'], chunks=chuck_size)    \n"
   ]
  },
  {
   "cell_type": "code",
   "execution_count": null,
   "metadata": {},
   "outputs": [],
   "source": [
    "    \n",
    "#calculate mask weights\n",
    "weight_train = da.map_blocks(seg_weights_2D, mask_train)\n",
    "weight_valid = da.map_blocks(seg_weights_2D, mask_valid)\n",
    "\n",
    "#force computation\n",
    "#The seg_weights function of delta is super slow, so this code will take a while to run!\n",
    "weight_train = weight_train.compute()\n",
    "weight_valid = weight_valid.compute()\n"
   ]
  },
  {
   "cell_type": "code",
   "execution_count": null,
   "metadata": {},
   "outputs": [],
   "source": [
    "\n",
    "training_set = data_dir / 'training2'\n",
    "validation_set = data_dir / 'validation2'\n",
    "    \n",
    "training_set.mkdir(exist_ok=True)\n",
    "validation_set.mkdir(exist_ok=True)\n",
    "\n",
    "(training_set / 'img').mkdir(exist_ok=True)\n",
    "(training_set / 'seg').mkdir(exist_ok=True)\n",
    "(training_set / 'wei').mkdir(exist_ok=True)\n",
    "\n",
    "(validation_set / 'img').mkdir(exist_ok=True)\n",
    "(validation_set / 'seg').mkdir(exist_ok=True)\n",
    "(validation_set / 'wei').mkdir(exist_ok=True)\n",
    "\n",
    "\n",
    "#export training data to tiff   \n",
    "export_data(training_set, image_train, mask_train, weight_train)\n",
    "\n",
    "#export validation data\n",
    "export_data(validation_set, image_valid, mask_valid, weight_valid)"
   ]
  }
 ],
 "metadata": {
  "kernelspec": {
   "display_name": "Python 3.9.12 ('i2i_env')",
   "language": "python",
   "name": "python3"
  },
  "language_info": {
   "codemirror_mode": {
    "name": "ipython",
    "version": 3
   },
   "file_extension": ".py",
   "mimetype": "text/x-python",
   "name": "python",
   "nbconvert_exporter": "python",
   "pygments_lexer": "ipython3",
   "version": "3.9.12"
  },
  "orig_nbformat": 4,
  "vscode": {
   "interpreter": {
    "hash": "04885f21a4bd9418df205c8169dbf35b8c72791b69b584ac7513023d01d78b79"
   }
  }
 },
 "nbformat": 4,
 "nbformat_minor": 2
}
