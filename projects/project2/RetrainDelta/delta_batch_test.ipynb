{
 "cells": [
  {
   "cell_type": "markdown",
   "metadata": {},
   "source": [
    "This is a notebook to test the delta_batch_process script. For processing many movies it's better to just launch the script using a sbatch job instead of using an interactive jupyter notebook session."
   ]
  },
  {
   "cell_type": "code",
   "execution_count": null,
   "metadata": {},
   "outputs": [],
   "source": [
    "\n",
    "import pathlib\n",
    "import delta.config as cfg\n",
    "from delta.utilities import xpreader\n",
    "from delta.pipeline import Pipeline\n",
    "import tensorflow as tf\n"
   ]
  },
  {
   "cell_type": "code",
   "execution_count": null,
   "metadata": {},
   "outputs": [],
   "source": [
    "\n",
    "tf.config.list_physical_devices()"
   ]
  },
  {
   "cell_type": "code",
   "execution_count": null,
   "metadata": {},
   "outputs": [],
   "source": [
    "\n",
    "def to_str(posixpath):\n",
    "    return str(posixpath.resolve())   \n"
   ]
  },
  {
   "cell_type": "code",
   "execution_count": null,
   "metadata": {},
   "outputs": [],
   "source": [
    "\n",
    "#set paths\n",
    "root = pathlib.Path(pathlib.Path.home(), 'home', 'Delta2_Caulobacter')\n",
    "data_dir = root / 'data' / 'raw'\n",
    "\n",
    "#create output dir\n",
    "output_root = root / 'processed_data'\n",
    "(output_root).mkdir(exist_ok=True) #create output data folder,  each position will be placed in a subfolder\n",
    "\n",
    "#get config file\n",
    "config_file = root / 'config_2D_caulobacter.json'\n",
    "cfg.load_config(config_file)\n",
    "cfg.save_format = ('pickle','movie')\n",
    "\n",
    "#find subfolders\n",
    "folder_names = [f.name for f in sorted(data_dir.glob('AKS*'))]\n",
    "\n",
    "for f in folder_names: print(f)"
   ]
  },
  {
   "cell_type": "code",
   "execution_count": null,
   "metadata": {},
   "outputs": [],
   "source": [
    "\n",
    "for folder in folder_names:\n",
    "    \n",
    "    #get images in subfolder\n",
    "    movie_names = [f.name for f in sorted((data_dir / folder).glob('*.tif*'))]\n",
    "\n",
    "    #create output subfolder\n",
    "    output_path = output_root / folder\n",
    "    (output_path).mkdir(exist_ok=True) #create output data folder,  each position will be placed in a subfolder\n",
    "\n",
    "    for movie in movie_names:\n",
    "        print('starting with position ', movie)\n",
    "        \n",
    "        #path to current position\n",
    "        data_dir = data_dir / folder / movie\n",
    "        \n",
    "        #make subfolder for current position\n",
    "        output_dir = output_path / movie\n",
    "        (output_dir).mkdir(exist_ok=True)\n",
    "\n",
    "        try:            \n",
    "            # Init reader (use bioformats=True if working with nd2, czi, ome-tiff etc):\n",
    "            im_reader = xpreader(data_dir, use_bioformats=True)\n",
    "\n",
    "            # Print experiment parameters to make sure it initialized properly:\n",
    "            print(\"\"\"Initialized experiment reader:\n",
    "                - %d positions\n",
    "                - %d imaging channels\n",
    "                - %d timepoints\"\"\"%(im_reader.positions, im_reader.channels, im_reader.timepoints)\n",
    "            )\n",
    "\n",
    "            # Init pipeline:\n",
    "            xp = Pipeline(im_reader, resfolder=to_str(output_dir))   \n",
    "\n",
    "            # Run it (you can specify which positions, which frames to run etc):\n",
    "            # we skip running the pipeline and only test IO\n",
    "            # xp.process()\n",
    "            \n",
    "        except:\n",
    "            print('skipping postion', movie)"
   ]
  }
 ],
 "metadata": {
  "language_info": {
   "name": "python"
  },
  "orig_nbformat": 4
 },
 "nbformat": 4,
 "nbformat_minor": 2
}
