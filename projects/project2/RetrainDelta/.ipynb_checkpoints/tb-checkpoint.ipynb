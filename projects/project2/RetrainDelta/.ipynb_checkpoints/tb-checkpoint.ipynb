{
 "cells": [
  {
   "cell_type": "code",
   "execution_count": null,
   "id": "d438ba9e-beed-456c-b246-1a14274d81ad",
   "metadata": {},
   "outputs": [],
   "source": [
    "%load_ext tensorboard\n"
   ]
  },
  {
   "cell_type": "code",
   "execution_count": null,
   "id": "c781ac59-3583-4b12-a453-f6edd7a74af9",
   "metadata": {},
   "outputs": [],
   "source": []
  },
  {
   "cell_type": "code",
   "execution_count": null,
   "id": "8340635c-90e3-47fa-8068-3e25582144de",
   "metadata": {},
   "outputs": [],
   "source": [
    "log_file = '/scicore/home/vanvli0000/vanvli0000/home/Delta2_Caulobacter/tf_log/fit_2022-06-22-16:20'\n",
    "%tensorboard --logdir log_file"
   ]
  }
 ],
 "metadata": {
  "kernelspec": {
   "display_name": "Python 3 (ipykernel)",
   "language": "python",
   "name": "python3"
  },
  "language_info": {
   "codemirror_mode": {
    "name": "ipython",
    "version": 3
   },
   "file_extension": ".py",
   "mimetype": "text/x-python",
   "name": "python",
   "nbconvert_exporter": "python",
   "pygments_lexer": "ipython3",
   "version": "3.9.10"
  }
 },
 "nbformat": 4,
 "nbformat_minor": 5
}
