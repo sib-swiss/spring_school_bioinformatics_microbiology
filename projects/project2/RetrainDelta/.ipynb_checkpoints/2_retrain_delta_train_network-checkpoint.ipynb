{
 "cells": [
  {
   "cell_type": "code",
   "execution_count": 1,
   "metadata": {},
   "outputs": [],
   "source": [
    "%load_ext tensorboard\n",
    "\n",
    "import os\n",
    "from tensorflow.keras.callbacks import ModelCheckpoint, EarlyStopping, TensorBoard\n",
    "\n",
    "from delta.assets import download_assets\n",
    "from delta.utilities import cfg\n",
    "from delta.model import unet_seg\n",
    "from delta.data import trainGenerator_seg, seg_weights\n",
    "\n",
    "import pathlib\n",
    "\n",
    "import datetime\n"
   ]
  },
  {
   "cell_type": "code",
   "execution_count": 2,
   "metadata": {},
   "outputs": [],
   "source": [
    "def to_str(posixpath):\n",
    "    return str(posixpath.resolve())  "
   ]
  },
  {
   "cell_type": "code",
   "execution_count": 3,
   "metadata": {},
   "outputs": [
    {
     "name": "stderr",
     "output_type": "stream",
     "text": [
      "2022-06-22 15:43:05.729241: W tensorflow/stream_executor/platform/default/dso_loader.cc:64] Could not load dynamic library 'libcuda.so.1'; dlerror: libcuda.so.1: cannot open shared object file: No such file or directory; LD_LIBRARY_PATH: /scicore/home/vanvli0000/vanvli0000/mambaforge/envs/delta2_env/lib/python3.9/site-packages/cv2/../../lib64:/scicore/home/vanvli0000/vanvli0000/mambaforge/envs/delta2_env/lib/\n",
      "2022-06-22 15:43:05.729384: W tensorflow/stream_executor/cuda/cuda_driver.cc:269] failed call to cuInit: UNKNOWN ERROR (303)\n",
      "2022-06-22 15:43:05.729442: I tensorflow/stream_executor/cuda/cuda_diagnostics.cc:156] kernel driver does not appear to be running on this host (shi124.cluster.bc2.ch): /proc/driver/nvidia/version does not exist\n"
     ]
    },
    {
     "data": {
      "text/plain": [
       "[PhysicalDevice(name='/physical_device:CPU:0', device_type='CPU')]"
      ]
     },
     "execution_count": 3,
     "metadata": {},
     "output_type": "execute_result"
    }
   ],
   "source": [
    "import tensorflow as tf\n",
    "tf.config.list_physical_devices()"
   ]
  },
  {
   "cell_type": "code",
   "execution_count": 20,
   "metadata": {},
   "outputs": [
    {
     "name": "stdout",
     "output_type": "stream",
     "text": [
      "/scicore/home/vanvli0000/vanvli0000/home/Delta2_Caulobacter/tf_log/fit_20220622-161027\n"
     ]
    }
   ],
   "source": [
    "root = pathlib.Path(pathlib.Path.home(), 'home', 'Delta2_Caulobacter')\n",
    "data_dir = root / 'data'\n",
    "model_dir = root / 'models'\n",
    "\n",
    "log_dir = root / 'tf_log' \n",
    "log_dir.mkdir(exist_ok=True) \n",
    "\n",
    "log_file = to_str(log_dir / 'fit_') + datetime.datetime.now().strftime(\"%Y%m%d-%H%M%S\")\n",
    "print(log_file)\n",
    "\n",
    "new_config_filename = root / 'config_2D_caulobacter.json'\n",
    "\n",
    "training_set = data_dir / 'training'\n",
    "validation_set = data_dir / 'validation'\n",
    "\n",
    "savefile = model_dir / 'unet_caulobacter2d_seg.hdf5'"
   ]
  },
  {
   "cell_type": "code",
   "execution_count": 7,
   "metadata": {},
   "outputs": [
    {
     "name": "stdout",
     "output_type": "stream",
     "text": [
      "Loading configuration from: /scicore/home/vanvli0000/vanvli0000/home/Delta2_Caulobacter/config_2D_caulobacter.json\n"
     ]
    }
   ],
   "source": [
    "# Load config:\n",
    "cfg.load_config(new_config_filename)\n",
    "\n",
    "# Training parameters:\n",
    "batch_size = 4\n",
    "epochs = 600\n",
    "steps_per_epoch = 300\n",
    "validation_steps = 46 #set such that batch size * validation_steps equals number of validation images\n",
    "patience = 50\n",
    "\n",
    "#Data generator parameters:\n",
    "data_gen_args = dict(\n",
    "    rotation = 2,\n",
    "    rotations_90d = True,\n",
    "    zoom=.15,\n",
    "    horizontal_flip=True,\n",
    "    vertical_flip=True,\n",
    "    histogram_voodoo=True,\n",
    "    illumination_voodoo=True,\n",
    "    gaussian_noise = 0.03,\n",
    "    gaussian_blur = 1\n",
    "    )\n",
    "\n",
    "data_gen_args_val = dict(\n",
    "    rotation = 2,\n",
    "    rotations_90d = True,\n",
    "    horizontal_flip=True,\n",
    "    vertical_flip=True,\n",
    "    )\n",
    "\n",
    "# Generator init:\n",
    "gen_train = trainGenerator_seg(\n",
    "    batch_size,\n",
    "    os.path.join(to_str(training_set),'img'),\n",
    "    os.path.join(to_str(training_set),'seg'),\n",
    "    os.path.join(to_str(training_set),'wei'),\n",
    "    augment_params = data_gen_args,\n",
    "    target_size = cfg.target_size_seg,\n",
    "    crop_windows = cfg.crop_windows\n",
    "    )\n",
    "\n",
    "gen_validate = trainGenerator_seg(\n",
    "    batch_size,\n",
    "    os.path.join(validation_set,'img'),\n",
    "    os.path.join(validation_set,'seg'),\n",
    "    os.path.join(validation_set,'wei'),\n",
    "    augment_params = data_gen_args_val,\n",
    "    target_size = cfg.target_size_seg,\n",
    "    crop_windows = cfg.crop_windows\n",
    "    )"
   ]
  },
  {
   "cell_type": "code",
   "execution_count": 12,
   "metadata": {},
   "outputs": [],
   "source": [
    "tf.train.latest_checkpoint(savefile)"
   ]
  },
  {
   "cell_type": "code",
   "execution_count": 17,
   "metadata": {},
   "outputs": [],
   "source": [
    "# Define model:\n",
    "model = unet_seg(input_size = cfg.target_size_seg+(1,), pretrained_weights=cfg.model_file_seg)\n",
    "#model.summary()"
   ]
  },
  {
   "cell_type": "code",
   "execution_count": 21,
   "metadata": {},
   "outputs": [
    {
     "name": "stderr",
     "output_type": "stream",
     "text": [
      "2022-06-22 16:11:26.177756: W tensorflow/core/util/tensor_slice_reader.cc:96] Could not open /scicore/home/vanvli0000/vanvli0000/home/Delta2_Caulobacter/models/Caulobacter2D/saved_model.pb: DATA_LOSS: not an sstable (bad magic number): perhaps your file is in a different file format and you need to use a different restore operator?\n"
     ]
    },
    {
     "ename": "OSError",
     "evalue": "Unable to open file (file signature not found)",
     "output_type": "error",
     "traceback": [
      "\u001b[0;31m---------------------------------------------------------------------------\u001b[0m",
      "\u001b[0;31mOSError\u001b[0m                                   Traceback (most recent call last)",
      "Input \u001b[0;32mIn [21]\u001b[0m, in \u001b[0;36m<cell line: 2>\u001b[0;34m()\u001b[0m\n\u001b[1;32m      1\u001b[0m check_point \u001b[38;5;241m=\u001b[39m model_dir \u001b[38;5;241m/\u001b[39m \u001b[38;5;124m'\u001b[39m\u001b[38;5;124mCaulobacter2D\u001b[39m\u001b[38;5;124m'\u001b[39m \u001b[38;5;241m/\u001b[39m \u001b[38;5;124m'\u001b[39m\u001b[38;5;124msaved_model.pb\u001b[39m\u001b[38;5;124m'\u001b[39m \n\u001b[0;32m----> 2\u001b[0m \u001b[43mmodel\u001b[49m\u001b[38;5;241;43m.\u001b[39;49m\u001b[43mload_weights\u001b[49m\u001b[43m(\u001b[49m\u001b[43mto_str\u001b[49m\u001b[43m(\u001b[49m\u001b[43mcheck_point\u001b[49m\u001b[43m)\u001b[49m\u001b[43m)\u001b[49m\n",
      "File \u001b[0;32m~/mambaforge/envs/delta2_env/lib/python3.9/site-packages/keras/utils/traceback_utils.py:67\u001b[0m, in \u001b[0;36mfilter_traceback.<locals>.error_handler\u001b[0;34m(*args, **kwargs)\u001b[0m\n\u001b[1;32m     65\u001b[0m \u001b[38;5;28;01mexcept\u001b[39;00m \u001b[38;5;167;01mException\u001b[39;00m \u001b[38;5;28;01mas\u001b[39;00m e:  \u001b[38;5;66;03m# pylint: disable=broad-except\u001b[39;00m\n\u001b[1;32m     66\u001b[0m   filtered_tb \u001b[38;5;241m=\u001b[39m _process_traceback_frames(e\u001b[38;5;241m.\u001b[39m__traceback__)\n\u001b[0;32m---> 67\u001b[0m   \u001b[38;5;28;01mraise\u001b[39;00m e\u001b[38;5;241m.\u001b[39mwith_traceback(filtered_tb) \u001b[38;5;28;01mfrom\u001b[39;00m \u001b[38;5;28mNone\u001b[39m\n\u001b[1;32m     68\u001b[0m \u001b[38;5;28;01mfinally\u001b[39;00m:\n\u001b[1;32m     69\u001b[0m   \u001b[38;5;28;01mdel\u001b[39;00m filtered_tb\n",
      "File \u001b[0;32m~/mambaforge/envs/delta2_env/lib/python3.9/site-packages/h5py/_hl/files.py:507\u001b[0m, in \u001b[0;36mFile.__init__\u001b[0;34m(self, name, mode, driver, libver, userblock_size, swmr, rdcc_nslots, rdcc_nbytes, rdcc_w0, track_order, fs_strategy, fs_persist, fs_threshold, fs_page_size, page_buf_size, min_meta_keep, min_raw_keep, locking, **kwds)\u001b[0m\n\u001b[1;32m    502\u001b[0m     fapl \u001b[38;5;241m=\u001b[39m make_fapl(driver, libver, rdcc_nslots, rdcc_nbytes, rdcc_w0,\n\u001b[1;32m    503\u001b[0m                      locking, page_buf_size, min_meta_keep, min_raw_keep, \u001b[38;5;241m*\u001b[39m\u001b[38;5;241m*\u001b[39mkwds)\n\u001b[1;32m    504\u001b[0m     fcpl \u001b[38;5;241m=\u001b[39m make_fcpl(track_order\u001b[38;5;241m=\u001b[39mtrack_order, fs_strategy\u001b[38;5;241m=\u001b[39mfs_strategy,\n\u001b[1;32m    505\u001b[0m                      fs_persist\u001b[38;5;241m=\u001b[39mfs_persist, fs_threshold\u001b[38;5;241m=\u001b[39mfs_threshold,\n\u001b[1;32m    506\u001b[0m                      fs_page_size\u001b[38;5;241m=\u001b[39mfs_page_size)\n\u001b[0;32m--> 507\u001b[0m     fid \u001b[38;5;241m=\u001b[39m make_fid(name, mode, userblock_size, fapl, fcpl, swmr\u001b[38;5;241m=\u001b[39mswmr)\n\u001b[1;32m    509\u001b[0m \u001b[38;5;28;01mif\u001b[39;00m \u001b[38;5;28misinstance\u001b[39m(libver, \u001b[38;5;28mtuple\u001b[39m):\n\u001b[1;32m    510\u001b[0m     \u001b[38;5;28mself\u001b[39m\u001b[38;5;241m.\u001b[39m_libver \u001b[38;5;241m=\u001b[39m libver\n",
      "File \u001b[0;32m~/mambaforge/envs/delta2_env/lib/python3.9/site-packages/h5py/_hl/files.py:220\u001b[0m, in \u001b[0;36mmake_fid\u001b[0;34m(name, mode, userblock_size, fapl, fcpl, swmr)\u001b[0m\n\u001b[1;32m    218\u001b[0m     \u001b[38;5;28;01mif\u001b[39;00m swmr \u001b[38;5;129;01mand\u001b[39;00m swmr_support:\n\u001b[1;32m    219\u001b[0m         flags \u001b[38;5;241m|\u001b[39m\u001b[38;5;241m=\u001b[39m h5f\u001b[38;5;241m.\u001b[39mACC_SWMR_READ\n\u001b[0;32m--> 220\u001b[0m     fid \u001b[38;5;241m=\u001b[39m \u001b[43mh5f\u001b[49m\u001b[38;5;241;43m.\u001b[39;49m\u001b[43mopen\u001b[49m\u001b[43m(\u001b[49m\u001b[43mname\u001b[49m\u001b[43m,\u001b[49m\u001b[43m \u001b[49m\u001b[43mflags\u001b[49m\u001b[43m,\u001b[49m\u001b[43m \u001b[49m\u001b[43mfapl\u001b[49m\u001b[38;5;241;43m=\u001b[39;49m\u001b[43mfapl\u001b[49m\u001b[43m)\u001b[49m\n\u001b[1;32m    221\u001b[0m \u001b[38;5;28;01melif\u001b[39;00m mode \u001b[38;5;241m==\u001b[39m \u001b[38;5;124m'\u001b[39m\u001b[38;5;124mr+\u001b[39m\u001b[38;5;124m'\u001b[39m:\n\u001b[1;32m    222\u001b[0m     fid \u001b[38;5;241m=\u001b[39m h5f\u001b[38;5;241m.\u001b[39mopen(name, h5f\u001b[38;5;241m.\u001b[39mACC_RDWR, fapl\u001b[38;5;241m=\u001b[39mfapl)\n",
      "File \u001b[0;32mh5py/_objects.pyx:54\u001b[0m, in \u001b[0;36mh5py._objects.with_phil.wrapper\u001b[0;34m()\u001b[0m\n",
      "File \u001b[0;32mh5py/_objects.pyx:55\u001b[0m, in \u001b[0;36mh5py._objects.with_phil.wrapper\u001b[0;34m()\u001b[0m\n",
      "File \u001b[0;32mh5py/h5f.pyx:106\u001b[0m, in \u001b[0;36mh5py.h5f.open\u001b[0;34m()\u001b[0m\n",
      "\u001b[0;31mOSError\u001b[0m: Unable to open file (file signature not found)"
     ]
    }
   ],
   "source": [
    "# check_point = model_dir / 'Caulobacter2D' / 'saved_model.pb' \n",
    "# model.load_weights(to_str(check_point))"
   ]
  },
  {
   "cell_type": "code",
   "execution_count": 24,
   "metadata": {},
   "outputs": [],
   "source": [
    "a,b = next(gen_validate)"
   ]
  },
  {
   "cell_type": "code",
   "execution_count": 25,
   "metadata": {},
   "outputs": [
    {
     "data": {
      "text/plain": [
       "(4, 512, 512, 2)"
      ]
     },
     "execution_count": 25,
     "metadata": {},
     "output_type": "execute_result"
    }
   ],
   "source": [
    "b.shape"
   ]
  },
  {
   "cell_type": "code",
   "execution_count": 26,
   "metadata": {},
   "outputs": [],
   "source": [
    "# Callbacks:\n",
    "model_checkpoint = ModelCheckpoint(\n",
    "    to_str(savefile), \n",
    "    monitor='val_loss', \n",
    "    verbose=2, \n",
    "    save_best_only=True, \n",
    "    save_weights_only=True\n",
    "    )\n",
    "\n",
    "early_stopping = EarlyStopping(\n",
    "    monitor='val_loss', \n",
    "    mode='min', \n",
    "    verbose=2, \n",
    "    patience=patience\n",
    "    )\n",
    "\n",
    "tensor_board = TensorBoard(log_dir=log_file, histogram_freq=1)"
   ]
  },
  {
   "cell_type": "code",
   "execution_count": null,
   "metadata": {},
   "outputs": [],
   "source": []
  },
  {
   "cell_type": "code",
   "execution_count": null,
   "metadata": {},
   "outputs": [
    {
     "name": "stdout",
     "output_type": "stream",
     "text": [
      "Epoch 1/600\n",
      "300/300 [==============================] - ETA: 0s - loss: 10.3204 - unstack_acc: 0.9919\n",
      "Epoch 1: loss improved from inf to 10.32043, saving model to /scicore/home/vanvli0000/vanvli0000/home/Delta2_Caulobacter/models/Caulobacter2D\n",
      "INFO:tensorflow:Assets written to: /scicore/home/vanvli0000/vanvli0000/home/Delta2_Caulobacter/models/Caulobacter2D/assets\n",
      "300/300 [==============================] - 230s 745ms/step - loss: 10.3204 - unstack_acc: 0.9919 - val_loss: 7.5270 - val_unstack_acc: 0.9939\n",
      "Epoch 2/600\n"
     ]
    },
    {
     "name": "stderr",
     "output_type": "stream",
     "text": [
      "/scicore/home/vanvli0000/vanvli0000/mambaforge/envs/delta2_env/lib/python3.9/site-packages/delta/data.py:392: FutureWarning: `multichannel` is a deprecated argument name for `rescale`. It will be removed in version 1.0. Please use `channel_axis` instead.\n",
      "  I = trans.rescale(I, zoomlevel, mode=\"edge\", multichannel=False, order=order)\n"
     ]
    },
    {
     "name": "stdout",
     "output_type": "stream",
     "text": [
      "300/300 [==============================] - ETA: 0s - loss: 8.5856 - unstack_acc: 0.9924\n",
      "Epoch 2: loss improved from 10.32043 to 8.58564, saving model to /scicore/home/vanvli0000/vanvli0000/home/Delta2_Caulobacter/models/Caulobacter2D\n",
      "INFO:tensorflow:Assets written to: /scicore/home/vanvli0000/vanvli0000/home/Delta2_Caulobacter/models/Caulobacter2D/assets\n",
      "300/300 [==============================] - 220s 736ms/step - loss: 8.5856 - unstack_acc: 0.9924 - val_loss: 5.5472 - val_unstack_acc: 0.9951\n",
      "Epoch 3/600\n"
     ]
    },
    {
     "name": "stderr",
     "output_type": "stream",
     "text": [
      "/scicore/home/vanvli0000/vanvli0000/mambaforge/envs/delta2_env/lib/python3.9/site-packages/delta/data.py:392: FutureWarning: `multichannel` is a deprecated argument name for `rescale`. It will be removed in version 1.0. Please use `channel_axis` instead.\n",
      "  I = trans.rescale(I, zoomlevel, mode=\"edge\", multichannel=False, order=order)\n"
     ]
    },
    {
     "name": "stdout",
     "output_type": "stream",
     "text": [
      "300/300 [==============================] - ETA: 0s - loss: 8.0597 - unstack_acc: 0.9926\n",
      "Epoch 3: loss improved from 8.58564 to 8.05965, saving model to /scicore/home/vanvli0000/vanvli0000/home/Delta2_Caulobacter/models/Caulobacter2D\n",
      "INFO:tensorflow:Assets written to: /scicore/home/vanvli0000/vanvli0000/home/Delta2_Caulobacter/models/Caulobacter2D/assets\n",
      "300/300 [==============================] - 220s 734ms/step - loss: 8.0597 - unstack_acc: 0.9926 - val_loss: 6.2649 - val_unstack_acc: 0.9931\n",
      "Epoch 4/600\n"
     ]
    },
    {
     "name": "stderr",
     "output_type": "stream",
     "text": [
      "/scicore/home/vanvli0000/vanvli0000/mambaforge/envs/delta2_env/lib/python3.9/site-packages/delta/data.py:392: FutureWarning: `multichannel` is a deprecated argument name for `rescale`. It will be removed in version 1.0. Please use `channel_axis` instead.\n",
      "  I = trans.rescale(I, zoomlevel, mode=\"edge\", multichannel=False, order=order)\n"
     ]
    },
    {
     "name": "stdout",
     "output_type": "stream",
     "text": [
      "300/300 [==============================] - ETA: 0s - loss: 7.6576 - unstack_acc: 0.9928\n",
      "Epoch 4: loss improved from 8.05965 to 7.65762, saving model to /scicore/home/vanvli0000/vanvli0000/home/Delta2_Caulobacter/models/Caulobacter2D\n",
      "INFO:tensorflow:Assets written to: /scicore/home/vanvli0000/vanvli0000/home/Delta2_Caulobacter/models/Caulobacter2D/assets\n",
      "300/300 [==============================] - 229s 765ms/step - loss: 7.6576 - unstack_acc: 0.9928 - val_loss: 8.0985 - val_unstack_acc: 0.9940\n",
      "Epoch 5/600\n",
      "  1/300 [..............................] - ETA: 2:12 - loss: 4.2431 - unstack_acc: 0.9972"
     ]
    },
    {
     "name": "stderr",
     "output_type": "stream",
     "text": [
      "/scicore/home/vanvli0000/vanvli0000/mambaforge/envs/delta2_env/lib/python3.9/site-packages/delta/data.py:392: FutureWarning: `multichannel` is a deprecated argument name for `rescale`. It will be removed in version 1.0. Please use `channel_axis` instead.\n",
      "  I = trans.rescale(I, zoomlevel, mode=\"edge\", multichannel=False, order=order)\n"
     ]
    },
    {
     "name": "stdout",
     "output_type": "stream",
     "text": [
      "300/300 [==============================] - ETA: 0s - loss: 7.7103 - unstack_acc: 0.9926\n",
      "Epoch 5: loss did not improve from 7.65762\n",
      "300/300 [==============================] - 221s 738ms/step - loss: 7.7103 - unstack_acc: 0.9926 - val_loss: 5.7144 - val_unstack_acc: 0.9953\n",
      "Epoch 6/600\n",
      "300/300 [==============================] - ETA: 0s - loss: 7.2371 - unstack_acc: 0.9930\n",
      "Epoch 6: loss improved from 7.65762 to 7.23712, saving model to /scicore/home/vanvli0000/vanvli0000/home/Delta2_Caulobacter/models/Caulobacter2D\n",
      "INFO:tensorflow:Assets written to: /scicore/home/vanvli0000/vanvli0000/home/Delta2_Caulobacter/models/Caulobacter2D/assets\n",
      "300/300 [==============================] - 218s 728ms/step - loss: 7.2371 - unstack_acc: 0.9930 - val_loss: 5.3891 - val_unstack_acc: 0.9950\n",
      "Epoch 7/600\n"
     ]
    },
    {
     "name": "stderr",
     "output_type": "stream",
     "text": [
      "/scicore/home/vanvli0000/vanvli0000/mambaforge/envs/delta2_env/lib/python3.9/site-packages/delta/data.py:392: FutureWarning: `multichannel` is a deprecated argument name for `rescale`. It will be removed in version 1.0. Please use `channel_axis` instead.\n",
      "  I = trans.rescale(I, zoomlevel, mode=\"edge\", multichannel=False, order=order)\n"
     ]
    },
    {
     "name": "stdout",
     "output_type": "stream",
     "text": [
      "300/300 [==============================] - ETA: 0s - loss: 7.1734 - unstack_acc: 0.9931\n",
      "Epoch 7: loss improved from 7.23712 to 7.17336, saving model to /scicore/home/vanvli0000/vanvli0000/home/Delta2_Caulobacter/models/Caulobacter2D\n",
      "INFO:tensorflow:Assets written to: /scicore/home/vanvli0000/vanvli0000/home/Delta2_Caulobacter/models/Caulobacter2D/assets\n",
      "300/300 [==============================] - 219s 729ms/step - loss: 7.1734 - unstack_acc: 0.9931 - val_loss: 7.3952 - val_unstack_acc: 0.9949\n",
      "Epoch 8/600\n"
     ]
    },
    {
     "name": "stderr",
     "output_type": "stream",
     "text": [
      "/scicore/home/vanvli0000/vanvli0000/mambaforge/envs/delta2_env/lib/python3.9/site-packages/delta/data.py:392: FutureWarning: `multichannel` is a deprecated argument name for `rescale`. It will be removed in version 1.0. Please use `channel_axis` instead.\n",
      "  I = trans.rescale(I, zoomlevel, mode=\"edge\", multichannel=False, order=order)\n"
     ]
    },
    {
     "name": "stdout",
     "output_type": "stream",
     "text": [
      "300/300 [==============================] - ETA: 0s - loss: 7.2237 - unstack_acc: 0.9929\n",
      "Epoch 8: loss did not improve from 7.17336\n",
      "300/300 [==============================] - 218s 728ms/step - loss: 7.2237 - unstack_acc: 0.9929 - val_loss: 6.2690 - val_unstack_acc: 0.9925\n",
      "Epoch 9/600\n",
      "300/300 [==============================] - ETA: 0s - loss: 7.3684 - unstack_acc: 0.9926\n",
      "Epoch 9: loss did not improve from 7.17336\n",
      "300/300 [==============================] - 220s 733ms/step - loss: 7.3684 - unstack_acc: 0.9926 - val_loss: 5.7017 - val_unstack_acc: 0.9950\n",
      "Epoch 10/600\n",
      "300/300 [==============================] - ETA: 0s - loss: 6.8021 - unstack_acc: 0.9934\n",
      "Epoch 10: loss improved from 7.17336 to 6.80206, saving model to /scicore/home/vanvli0000/vanvli0000/home/Delta2_Caulobacter/models/Caulobacter2D\n",
      "INFO:tensorflow:Assets written to: /scicore/home/vanvli0000/vanvli0000/home/Delta2_Caulobacter/models/Caulobacter2D/assets\n",
      "300/300 [==============================] - 222s 740ms/step - loss: 6.8021 - unstack_acc: 0.9934 - val_loss: 6.0465 - val_unstack_acc: 0.9945\n",
      "Epoch 11/600\n"
     ]
    },
    {
     "name": "stderr",
     "output_type": "stream",
     "text": [
      "/scicore/home/vanvli0000/vanvli0000/mambaforge/envs/delta2_env/lib/python3.9/site-packages/delta/data.py:392: FutureWarning: `multichannel` is a deprecated argument name for `rescale`. It will be removed in version 1.0. Please use `channel_axis` instead.\n",
      "  I = trans.rescale(I, zoomlevel, mode=\"edge\", multichannel=False, order=order)\n"
     ]
    },
    {
     "name": "stdout",
     "output_type": "stream",
     "text": [
      "300/300 [==============================] - ETA: 0s - loss: 6.9773 - unstack_acc: 0.9931\n",
      "Epoch 11: loss did not improve from 6.80206\n",
      "300/300 [==============================] - 220s 735ms/step - loss: 6.9773 - unstack_acc: 0.9931 - val_loss: 5.9498 - val_unstack_acc: 0.9934\n",
      "Epoch 12/600\n",
      "300/300 [==============================] - ETA: 0s - loss: 6.8232 - unstack_acc: 0.9932\n",
      "Epoch 12: loss did not improve from 6.80206\n",
      "300/300 [==============================] - 216s 723ms/step - loss: 6.8232 - unstack_acc: 0.9932 - val_loss: 5.4772 - val_unstack_acc: 0.9946\n",
      "Epoch 13/600\n",
      "300/300 [==============================] - ETA: 0s - loss: 7.0681 - unstack_acc: 0.9930\n",
      "Epoch 13: loss did not improve from 6.80206\n",
      "300/300 [==============================] - 218s 727ms/step - loss: 7.0681 - unstack_acc: 0.9930 - val_loss: 6.9674 - val_unstack_acc: 0.9939\n",
      "Epoch 14/600\n",
      "300/300 [==============================] - ETA: 0s - loss: 6.7456 - unstack_acc: 0.9931\n",
      "Epoch 14: loss improved from 6.80206 to 6.74565, saving model to /scicore/home/vanvli0000/vanvli0000/home/Delta2_Caulobacter/models/Caulobacter2D\n",
      "INFO:tensorflow:Assets written to: /scicore/home/vanvli0000/vanvli0000/home/Delta2_Caulobacter/models/Caulobacter2D/assets\n",
      "300/300 [==============================] - 218s 728ms/step - loss: 6.7456 - unstack_acc: 0.9931 - val_loss: 7.1789 - val_unstack_acc: 0.9926\n",
      "Epoch 15/600\n"
     ]
    },
    {
     "name": "stderr",
     "output_type": "stream",
     "text": [
      "/scicore/home/vanvli0000/vanvli0000/mambaforge/envs/delta2_env/lib/python3.9/site-packages/delta/data.py:392: FutureWarning: `multichannel` is a deprecated argument name for `rescale`. It will be removed in version 1.0. Please use `channel_axis` instead.\n",
      "  I = trans.rescale(I, zoomlevel, mode=\"edge\", multichannel=False, order=order)\n"
     ]
    },
    {
     "name": "stdout",
     "output_type": "stream",
     "text": [
      "300/300 [==============================] - ETA: 0s - loss: 6.8579 - unstack_acc: 0.9932\n",
      "Epoch 15: loss did not improve from 6.74565\n",
      "300/300 [==============================] - 214s 716ms/step - loss: 6.8579 - unstack_acc: 0.9932 - val_loss: 7.0341 - val_unstack_acc: 0.9944\n",
      "Epoch 16/600\n",
      "300/300 [==============================] - ETA: 0s - loss: 6.7182 - unstack_acc: 0.9932\n",
      "Epoch 16: loss improved from 6.74565 to 6.71822, saving model to /scicore/home/vanvli0000/vanvli0000/home/Delta2_Caulobacter/models/Caulobacter2D\n",
      "INFO:tensorflow:Assets written to: /scicore/home/vanvli0000/vanvli0000/home/Delta2_Caulobacter/models/Caulobacter2D/assets\n",
      "300/300 [==============================] - 222s 740ms/step - loss: 6.7182 - unstack_acc: 0.9932 - val_loss: 6.3846 - val_unstack_acc: 0.9927\n",
      "Epoch 17/600\n"
     ]
    },
    {
     "name": "stderr",
     "output_type": "stream",
     "text": [
      "/scicore/home/vanvli0000/vanvli0000/mambaforge/envs/delta2_env/lib/python3.9/site-packages/delta/data.py:392: FutureWarning: `multichannel` is a deprecated argument name for `rescale`. It will be removed in version 1.0. Please use `channel_axis` instead.\n",
      "  I = trans.rescale(I, zoomlevel, mode=\"edge\", multichannel=False, order=order)\n"
     ]
    },
    {
     "name": "stdout",
     "output_type": "stream",
     "text": [
      "300/300 [==============================] - ETA: 0s - loss: 6.9220 - unstack_acc: 0.9932\n",
      "Epoch 17: loss did not improve from 6.71822\n",
      "300/300 [==============================] - 218s 728ms/step - loss: 6.9220 - unstack_acc: 0.9932 - val_loss: 5.8143 - val_unstack_acc: 0.9945\n",
      "Epoch 18/600\n",
      "300/300 [==============================] - ETA: 0s - loss: 6.6953 - unstack_acc: 0.9933\n",
      "Epoch 18: loss improved from 6.71822 to 6.69529, saving model to /scicore/home/vanvli0000/vanvli0000/home/Delta2_Caulobacter/models/Caulobacter2D\n",
      "INFO:tensorflow:Assets written to: /scicore/home/vanvli0000/vanvli0000/home/Delta2_Caulobacter/models/Caulobacter2D/assets\n",
      "300/300 [==============================] - 222s 740ms/step - loss: 6.6953 - unstack_acc: 0.9933 - val_loss: 5.6274 - val_unstack_acc: 0.9941\n",
      "Epoch 19/600\n"
     ]
    },
    {
     "name": "stderr",
     "output_type": "stream",
     "text": [
      "/scicore/home/vanvli0000/vanvli0000/mambaforge/envs/delta2_env/lib/python3.9/site-packages/delta/data.py:392: FutureWarning: `multichannel` is a deprecated argument name for `rescale`. It will be removed in version 1.0. Please use `channel_axis` instead.\n",
      "  I = trans.rescale(I, zoomlevel, mode=\"edge\", multichannel=False, order=order)\n"
     ]
    },
    {
     "name": "stdout",
     "output_type": "stream",
     "text": [
      "300/300 [==============================] - ETA: 0s - loss: 6.8214 - unstack_acc: 0.9930\n",
      "Epoch 19: loss did not improve from 6.69529\n",
      "300/300 [==============================] - 217s 726ms/step - loss: 6.8214 - unstack_acc: 0.9930 - val_loss: 6.0769 - val_unstack_acc: 0.9941\n",
      "Epoch 20/600\n",
      "300/300 [==============================] - ETA: 0s - loss: 6.7551 - unstack_acc: 0.9934\n",
      "Epoch 20: loss did not improve from 6.69529\n",
      "300/300 [==============================] - 216s 721ms/step - loss: 6.7551 - unstack_acc: 0.9934 - val_loss: 5.5268 - val_unstack_acc: 0.9937\n",
      "Epoch 21/600\n",
      "300/300 [==============================] - ETA: 0s - loss: 6.7549 - unstack_acc: 0.9932\n",
      "Epoch 21: loss did not improve from 6.69529\n",
      "300/300 [==============================] - 219s 731ms/step - loss: 6.7549 - unstack_acc: 0.9932 - val_loss: 5.4298 - val_unstack_acc: 0.9948\n",
      "Epoch 22/600\n",
      "300/300 [==============================] - ETA: 0s - loss: 6.6139 - unstack_acc: 0.9933\n",
      "Epoch 22: loss improved from 6.69529 to 6.61389, saving model to /scicore/home/vanvli0000/vanvli0000/home/Delta2_Caulobacter/models/Caulobacter2D\n",
      "INFO:tensorflow:Assets written to: /scicore/home/vanvli0000/vanvli0000/home/Delta2_Caulobacter/models/Caulobacter2D/assets\n",
      "300/300 [==============================] - 222s 739ms/step - loss: 6.6139 - unstack_acc: 0.9933 - val_loss: 5.2737 - val_unstack_acc: 0.9944\n",
      "Epoch 23/600\n"
     ]
    },
    {
     "name": "stderr",
     "output_type": "stream",
     "text": [
      "/scicore/home/vanvli0000/vanvli0000/mambaforge/envs/delta2_env/lib/python3.9/site-packages/delta/data.py:392: FutureWarning: `multichannel` is a deprecated argument name for `rescale`. It will be removed in version 1.0. Please use `channel_axis` instead.\n",
      "  I = trans.rescale(I, zoomlevel, mode=\"edge\", multichannel=False, order=order)\n"
     ]
    },
    {
     "name": "stdout",
     "output_type": "stream",
     "text": [
      "300/300 [==============================] - ETA: 0s - loss: 6.6191 - unstack_acc: 0.9931\n",
      "Epoch 23: loss did not improve from 6.61389\n",
      "300/300 [==============================] - 218s 728ms/step - loss: 6.6191 - unstack_acc: 0.9931 - val_loss: 6.2656 - val_unstack_acc: 0.9946\n",
      "Epoch 24/600\n",
      "300/300 [==============================] - ETA: 0s - loss: 6.4800 - unstack_acc: 0.9934\n",
      "Epoch 24: loss improved from 6.61389 to 6.48001, saving model to /scicore/home/vanvli0000/vanvli0000/home/Delta2_Caulobacter/models/Caulobacter2D\n",
      "INFO:tensorflow:Assets written to: /scicore/home/vanvli0000/vanvli0000/home/Delta2_Caulobacter/models/Caulobacter2D/assets\n",
      "300/300 [==============================] - 220s 734ms/step - loss: 6.4800 - unstack_acc: 0.9934 - val_loss: 5.5582 - val_unstack_acc: 0.9941\n",
      "Epoch 25/600\n"
     ]
    },
    {
     "name": "stderr",
     "output_type": "stream",
     "text": [
      "/scicore/home/vanvli0000/vanvli0000/mambaforge/envs/delta2_env/lib/python3.9/site-packages/delta/data.py:392: FutureWarning: `multichannel` is a deprecated argument name for `rescale`. It will be removed in version 1.0. Please use `channel_axis` instead.\n",
      "  I = trans.rescale(I, zoomlevel, mode=\"edge\", multichannel=False, order=order)\n"
     ]
    },
    {
     "name": "stdout",
     "output_type": "stream",
     "text": [
      "300/300 [==============================] - ETA: 0s - loss: 6.4684 - unstack_acc: 0.9934\n",
      "Epoch 25: loss improved from 6.48001 to 6.46839, saving model to /scicore/home/vanvli0000/vanvli0000/home/Delta2_Caulobacter/models/Caulobacter2D\n",
      "INFO:tensorflow:Assets written to: /scicore/home/vanvli0000/vanvli0000/home/Delta2_Caulobacter/models/Caulobacter2D/assets\n",
      "300/300 [==============================] - 221s 737ms/step - loss: 6.4684 - unstack_acc: 0.9934 - val_loss: 5.4643 - val_unstack_acc: 0.9951\n",
      "Epoch 26/600\n"
     ]
    },
    {
     "name": "stderr",
     "output_type": "stream",
     "text": [
      "/scicore/home/vanvli0000/vanvli0000/mambaforge/envs/delta2_env/lib/python3.9/site-packages/delta/data.py:392: FutureWarning: `multichannel` is a deprecated argument name for `rescale`. It will be removed in version 1.0. Please use `channel_axis` instead.\n",
      "  I = trans.rescale(I, zoomlevel, mode=\"edge\", multichannel=False, order=order)\n"
     ]
    },
    {
     "name": "stdout",
     "output_type": "stream",
     "text": [
      "300/300 [==============================] - ETA: 0s - loss: 6.4525 - unstack_acc: 0.9932\n",
      "Epoch 26: loss improved from 6.46839 to 6.45249, saving model to /scicore/home/vanvli0000/vanvli0000/home/Delta2_Caulobacter/models/Caulobacter2D\n",
      "INFO:tensorflow:Assets written to: /scicore/home/vanvli0000/vanvli0000/home/Delta2_Caulobacter/models/Caulobacter2D/assets\n",
      "300/300 [==============================] - 220s 736ms/step - loss: 6.4525 - unstack_acc: 0.9932 - val_loss: 6.2436 - val_unstack_acc: 0.9924\n",
      "Epoch 27/600\n"
     ]
    },
    {
     "name": "stderr",
     "output_type": "stream",
     "text": [
      "/scicore/home/vanvli0000/vanvli0000/mambaforge/envs/delta2_env/lib/python3.9/site-packages/delta/data.py:392: FutureWarning: `multichannel` is a deprecated argument name for `rescale`. It will be removed in version 1.0. Please use `channel_axis` instead.\n",
      "  I = trans.rescale(I, zoomlevel, mode=\"edge\", multichannel=False, order=order)\n"
     ]
    },
    {
     "name": "stdout",
     "output_type": "stream",
     "text": [
      "300/300 [==============================] - ETA: 0s - loss: 6.5639 - unstack_acc: 0.9931\n",
      "Epoch 27: loss did not improve from 6.45249\n",
      "300/300 [==============================] - 217s 723ms/step - loss: 6.5639 - unstack_acc: 0.9931 - val_loss: 5.1168 - val_unstack_acc: 0.9950\n",
      "Epoch 28/600\n",
      "300/300 [==============================] - ETA: 0s - loss: 6.4891 - unstack_acc: 0.9934\n",
      "Epoch 28: loss did not improve from 6.45249\n",
      "300/300 [==============================] - 215s 719ms/step - loss: 6.4891 - unstack_acc: 0.9934 - val_loss: 6.4053 - val_unstack_acc: 0.9919\n",
      "Epoch 29/600\n",
      "300/300 [==============================] - ETA: 0s - loss: 6.2385 - unstack_acc: 0.9936\n",
      "Epoch 29: loss improved from 6.45249 to 6.23849, saving model to /scicore/home/vanvli0000/vanvli0000/home/Delta2_Caulobacter/models/Caulobacter2D\n",
      "INFO:tensorflow:Assets written to: /scicore/home/vanvli0000/vanvli0000/home/Delta2_Caulobacter/models/Caulobacter2D/assets\n",
      "300/300 [==============================] - 227s 758ms/step - loss: 6.2385 - unstack_acc: 0.9936 - val_loss: 5.9211 - val_unstack_acc: 0.9931\n",
      "Epoch 30/600\n"
     ]
    },
    {
     "name": "stderr",
     "output_type": "stream",
     "text": [
      "/scicore/home/vanvli0000/vanvli0000/mambaforge/envs/delta2_env/lib/python3.9/site-packages/delta/data.py:392: FutureWarning: `multichannel` is a deprecated argument name for `rescale`. It will be removed in version 1.0. Please use `channel_axis` instead.\n",
      "  I = trans.rescale(I, zoomlevel, mode=\"edge\", multichannel=False, order=order)\n"
     ]
    },
    {
     "name": "stdout",
     "output_type": "stream",
     "text": [
      "300/300 [==============================] - ETA: 0s - loss: 6.3428 - unstack_acc: 0.9935\n",
      "Epoch 30: loss did not improve from 6.23849\n",
      "300/300 [==============================] - 217s 725ms/step - loss: 6.3428 - unstack_acc: 0.9935 - val_loss: 5.6056 - val_unstack_acc: 0.9946\n",
      "Epoch 31/600\n",
      "300/300 [==============================] - ETA: 0s - loss: 6.4561 - unstack_acc: 0.9932\n",
      "Epoch 31: loss did not improve from 6.23849\n",
      "300/300 [==============================] - 217s 724ms/step - loss: 6.4561 - unstack_acc: 0.9932 - val_loss: 7.7563 - val_unstack_acc: 0.9952\n",
      "Epoch 32/600\n",
      "279/300 [==========================>...] - ETA: 14s - loss: 6.8339 - unstack_acc: 0.9930"
     ]
    }
   ],
   "source": [
    "# Train:\n",
    "history = model.fit(\n",
    "    gen_train,\n",
    "    steps_per_epoch=steps_per_epoch,\n",
    "    epochs=epochs,\n",
    "    validation_data=gen_validate,\n",
    "    validation_steps=validation_steps,\n",
    "    callbacks=[model_checkpoint, early_stopping, tensor_board]\n",
    "    )"
   ]
  }
 ],
 "metadata": {
  "kernelspec": {
   "display_name": "Python 3 (ipykernel)",
   "language": "python",
   "name": "python3"
  },
  "language_info": {
   "codemirror_mode": {
    "name": "ipython",
    "version": 3
   },
   "file_extension": ".py",
   "mimetype": "text/x-python",
   "name": "python",
   "nbconvert_exporter": "python",
   "pygments_lexer": "ipython3",
   "version": "3.9.10"
  },
  "vscode": {
   "interpreter": {
    "hash": "d42f0a35d8b9434264bb954a13c4045ab25bdf3d5d7870184404ce58dc1d3698"
   }
  }
 },
 "nbformat": 4,
 "nbformat_minor": 4
}
