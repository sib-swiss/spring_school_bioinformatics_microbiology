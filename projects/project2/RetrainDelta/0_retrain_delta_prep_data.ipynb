{
 "cells": [
  {
   "cell_type": "code",
   "execution_count": 1,
   "metadata": {},
   "outputs": [],
   "source": [
    "#%gui qt\n",
    "from delta.assets import download_assets\n",
    "from delta.utilities import cfg\n",
    "from delta.data import seg_weights\n",
    "\n",
    "from skimage.morphology import erosion, disk, binary_erosion\n",
    "\n",
    "import pathlib\n",
    "import json\n",
    "import h5py\n",
    "\n",
    "import numpy as np\n",
    "from numpy.random import default_rng\n",
    "import tifffile\n",
    "\n"
   ]
  },
  {
   "cell_type": "code",
   "execution_count": 2,
   "metadata": {},
   "outputs": [],
   "source": [
    "def to_str(posixpath):\n",
    "    return str(posixpath.resolve())  "
   ]
  },
  {
   "cell_type": "code",
   "execution_count": 3,
   "metadata": {},
   "outputs": [],
   "source": [
    "#set paths\n",
    "root = pathlib.Path(pathlib.Path.home(), 'home', 'Delta2_Caulobacter')\n",
    "data_dir = root / 'data'\n",
    "model_dir = root / 'models'\n",
    "training_set = data_dir / 'training'\n",
    "validation_set = data_dir / 'validation'\n",
    "savefile = model_dir / 'Caulobacter2D'\n",
    "\n",
    "#path to training data\n",
    "training_file = '/Users/simonvanvliet/Andreas/Training/training_data.hdf5'\n",
    "\n",
    "#set fraction of training data to use for validation\n",
    "validation_frac = 0.2"
   ]
  },
  {
   "cell_type": "code",
   "execution_count": 5,
   "metadata": {},
   "outputs": [],
   "source": [
    "#make folders\n",
    "data_dir.mkdir(exist_ok=True)\n",
    "model_dir.mkdir(exist_ok=True)"
   ]
  },
  {
   "cell_type": "code",
   "execution_count": null,
   "metadata": {},
   "outputs": [],
   "source": [
    "#download delta assets   \n",
    "download_assets(\n",
    "    load_models=to_str(model_dir),\n",
    "    load_sets=False,\n",
    "    load_evals=False,\n",
    "    config_level=to_str(root)\n",
    ")"
   ]
  },
  {
   "cell_type": "code",
   "execution_count": 4,
   "metadata": {},
   "outputs": [],
   "source": [
    "# modify config file\n",
    "config_filename = root / 'config_2D.json'\n",
    "with open(config_filename) as f:\n",
    "    config = json.load(f)\n",
    "    \n",
    "#point to model location\n",
    "config['model_file_seg'] = to_str(model_dir / 'unet_pads_seg.hdf5')    \n",
    "config['model_file_track'] = to_str(model_dir / 'unet_pads_track.hdf5')    \n",
    "\n",
    "#only needed for model training, in that case, point to location of training data\n",
    "config['training_set_seg'] = to_str(data_dir / 'training')\n",
    "config['training_set_track'] = ''\n",
    "\n",
    "#point to raw data location\n",
    "config['eval_movie'] = to_str(data_dir / 'evaluation')\n",
    "\n",
    "#specify output formats\n",
    "config['save_format'] = [\"pickle\", \"movie\"]    \n",
    "\n",
    "\n",
    "new_config_filename = root / 'config_2D_caulobacter.json'\n",
    "with open(new_config_filename, 'w') as f:\n",
    "    json.dump(config, f, indent=2)   \n",
    "           "
   ]
  },
  {
   "cell_type": "code",
   "execution_count": 6,
   "metadata": {},
   "outputs": [],
   "source": [
    "#load data\n",
    "with h5py.File(training_file, 'r') as f:\n",
    "    labels = np.array(f['label'])\n",
    "    images = np.array(f['images'])\n"
   ]
  },
  {
   "cell_type": "markdown",
   "metadata": {},
   "source": [
    "Delta trains use a binary mask as GT. If in your label image cells tend to touch, they will become merged in the mask.\n",
    "In this case it's better to first erode the cells by 1 pixel to make sure they don't touch.`"
   ]
  },
  {
   "cell_type": "code",
   "execution_count": 7,
   "metadata": {},
   "outputs": [],
   "source": [
    "#process label masks\n",
    "struc = disk(1)\n",
    "\n",
    "eroded_labels = np.zeros_like(labels)\n",
    "\n",
    "for idx, lab in enumerate(labels):\n",
    "    #loop cells\n",
    "    for c in np.unique(lab):\n",
    "        if c>0:\n",
    "            eroded_labels[idx, :, :] += c * binary_erosion(lab==c, disk(1))"
   ]
  },
  {
   "cell_type": "code",
   "execution_count": 34,
   "metadata": {},
   "outputs": [],
   "source": [
    "#check new labels\n",
    "import napari\n",
    "viewer = napari.view_image(images, name=\"phase\", colormap=\"gray\")\n",
    "viewer.add_labels(labels, name='orginal')   \n",
    "viewer.add_labels(eroded_labels, name='eroded')   \n",
    "napari.run()"
   ]
  },
  {
   "cell_type": "code",
   "execution_count": 8,
   "metadata": {},
   "outputs": [],
   "source": [
    "# convert labels to binary mask\n",
    "gt_mask = eroded_labels > 0 \n",
    "gt_mask = gt_mask.astype(np.uint8)"
   ]
  },
  {
   "cell_type": "code",
   "execution_count": 14,
   "metadata": {},
   "outputs": [],
   "source": [
    "#split data in training and validation set\n",
    "rng = default_rng()\n",
    "\n",
    "n_im = labels.shape[0]\n",
    "n_val = int(np.ceil(n_im * validation_frac))  \n",
    "\n",
    "valid_set = rng.choice(n_im, size=n_val, replace=False)\n",
    "train_set = np.setdiff1d(np.arange(n_im), valid_set, assume_unique=True)\n",
    "\n",
    "mask_train = gt_mask[train_set, :, :]\n",
    "mask_valid = gt_mask[valid_set, :, :]\n",
    "\n",
    "image_train = images[train_set, :, :]\n",
    "image_valid = images[valid_set, :, :]\n",
    "\n",
    "\n",
    "training_file = data_dir /  'training_data_delta.hdf5'\n",
    "\n",
    "with h5py.File(training_file, 'w') as f:\n",
    "    f.create_dataset('mask_train', data=mask_train)\n",
    "    f.create_dataset('mask_valid', data=mask_valid)\n",
    "    f.create_dataset('image_train', data=image_train)\n",
    "    f.create_dataset('image_valid', data=image_valid)\n"
   ]
  }
 ],
 "metadata": {
  "kernelspec": {
   "display_name": "Python 3 (ipykernel)",
   "language": "python",
   "name": "python3"
  },
  "language_info": {
   "codemirror_mode": {
    "name": "ipython",
    "version": 3
   },
   "file_extension": ".py",
   "mimetype": "text/x-python",
   "name": "python",
   "nbconvert_exporter": "python",
   "pygments_lexer": "ipython3",
   "version": "3.9.12"
  },
  "vscode": {
   "interpreter": {
    "hash": "04885f21a4bd9418df205c8169dbf35b8c72791b69b584ac7513023d01d78b79"
   }
  }
 },
 "nbformat": 4,
 "nbformat_minor": 4
}
